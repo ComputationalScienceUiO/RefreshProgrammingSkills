{
 "cells": [
  {
   "cell_type": "markdown",
   "id": "7575c9ac",
   "metadata": {},
   "source": [
    "# LaTeX"
   ]
  },
  {
   "cell_type": "markdown",
   "id": "eaa006c0",
   "metadata": {},
   "source": [
    "LaTeX is a tool for creating professional looking documents. For science students, it is an essential tool for writing reports, their masters thesis or any document with formulas, like an assignment or exam.\n",
    "\n",
    "The are many differtent LaTeX editors out there, but we recommend starting with the online editor Overleaf, since you don't have to download anything, it's easy to use, and it's perfect for collaboration.\n",
    "\n",
    "The basics of how to use LaTeX (how to add different types of content to your document) is covered in this tutorial: https://www.overleaf.com/learn/latex/Learn_LaTeX_in_30_minutes. We recommend creating an account and then your own document in Overleaf to follow along the tutorial.\n",
    "\n",
    "In LaTeX there are packages which add extra commands and functionality. If you want access to more physics symbols or want to add figures to your document, you will need to use some packages. The problem when starting out is that you have no idea what's possible or not, nor what packages exist. It can therefore be helpful to look at what other people are using, and use their setups and solutions as a starting point for your own documents.\n",
    "\n",
    "AST2000 has a template with examples and links to more info which is a good starting point for writing documents with formulas and figures: [PDF](https://www.uio.no/studier/emner/matnat/astro/AST2000/h20/undervisningsmateriell/eksempelinnleveringer/template.pdf), [LaTeX file](https://www.uio.no/studier/emner/matnat/astro/AST2000/h20/undervisningsmateriell/eksempelinnleveringer/template.tex). More examples: [https://www.uio.no/studier/emner/matnat/astro/AST2000/h20/undervisningsmateriell/eksempelinnleveringer/](https://www.uio.no/studier/emner/matnat/astro/AST2000/h20/undervisningsmateriell/eksempelinnleveringer/)."
   ]
  }
 ],
 "metadata": {
  "kernelspec": {
   "display_name": "Python 3",
   "language": "python",
   "name": "python3"
  },
  "language_info": {
   "codemirror_mode": {
    "name": "ipython",
    "version": 3
   },
   "file_extension": ".py",
   "mimetype": "text/x-python",
   "name": "python",
   "nbconvert_exporter": "python",
   "pygments_lexer": "ipython3",
   "version": "3.8.5"
  }
 },
 "nbformat": 4,
 "nbformat_minor": 5
}