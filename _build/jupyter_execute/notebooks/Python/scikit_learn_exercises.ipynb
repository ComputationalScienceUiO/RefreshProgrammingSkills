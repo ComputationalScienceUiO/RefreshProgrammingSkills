{
 "cells": [
  {
   "cell_type": "markdown",
   "id": "15133789",
   "metadata": {},
   "source": [
    "# scikit-learn - Exercises"
   ]
  },
  {
   "cell_type": "markdown",
   "id": "d627123a",
   "metadata": {},
   "source": [
    "In this exercise you are going to perform regression on a dataset you create yourself"
   ]
  },
  {
   "cell_type": "markdown",
   "id": "b0715214",
   "metadata": {},
   "source": [
    "### Task 1) Load/Create the dataset"
   ]
  },
  {
   "cell_type": "markdown",
   "id": "5e58918d",
   "metadata": {},
   "source": [
    "The first thing to do when dealing with machine learning is to have the dataset ready. Make a dataset containing 100 datapoints generated using an uniform distribution. The target variable y is given by the following formula:\n",
    "\n",
    "$$\n",
    "\\begin{equation*}\n",
    "    y = 2.0+5x+0.1*N(0,1)\n",
    "\\end{equation*}\n",
    "$$"
   ]
  },
  {
   "cell_type": "markdown",
   "id": "f3690601",
   "metadata": {},
   "source": [
    "### Task 2) Create a linear regression object and predict"
   ]
  },
  {
   "cell_type": "markdown",
   "id": "29859c92",
   "metadata": {},
   "source": [
    "Create a linear regression object using scikit, and use it to perform a prediction on the dataset created in the task above."
   ]
  },
  {
   "cell_type": "markdown",
   "id": "ea2cbb0b",
   "metadata": {},
   "source": [
    "### Task 3) Find the following statistical values"
   ]
  },
  {
   "cell_type": "markdown",
   "id": "ff4c005c",
   "metadata": {},
   "source": [
    "Find the following statistical values for your prediction: intercept alpha, coefficient beta, mean squared error, the variance score, mean squared log error and the mean absolute error."
   ]
  },
  {
   "cell_type": "markdown",
   "id": "eb42dada",
   "metadata": {},
   "source": [
    "### Task 4) Plot the results"
   ]
  },
  {
   "cell_type": "markdown",
   "id": "7b3d52e5",
   "metadata": {},
   "source": [
    "Plot the predicted values in the same plot as the targeted values as a function of x."
   ]
  },
  {
   "cell_type": "markdown",
   "id": "881cc0ac",
   "metadata": {},
   "source": [
    "### Task 5) Switching up the target function"
   ]
  },
  {
   "cell_type": "markdown",
   "id": "eddbcef2",
   "metadata": {},
   "source": [
    "Do the same thing again, but switch up the target function with the following:\n",
    "\n",
    "$$\n",
    "\\begin{equation*}\n",
    "    y = x+2.0x^3+0.1*N(0,1)\n",
    "\\end{equation*}\n",
    "$$\n",
    "\n",
    "Now how does the prediction go?"
   ]
  },
  {
   "cell_type": "markdown",
   "id": "4595369b",
   "metadata": {},
   "source": [
    "### Task 6) Polynomial regression"
   ]
  },
  {
   "cell_type": "markdown",
   "id": "971fbe34",
   "metadata": {},
   "source": [
    "Now try predicting again using polynomial regression. How does the degree of polynomial you choose affect the predictions? What is the optimal degree of polynomial? Why, why not?"
   ]
  },
  {
   "cell_type": "markdown",
   "id": "aa646f8a",
   "metadata": {},
   "source": [
    "### Task 7) Extra task, if you have time"
   ]
  },
  {
   "cell_type": "markdown",
   "id": "889cda0b",
   "metadata": {},
   "source": [
    "Experiment with more types of machine learning models which can be found in the scikit learn library. For instance, ridge regression, lasso regression and logistic regression."
   ]
  },
  {
   "cell_type": "code",
   "execution_count": null,
   "id": "66d6d7b4",
   "metadata": {},
   "outputs": [],
   "source": []
  }
 ],
 "metadata": {
  "kernelspec": {
   "display_name": "Python 3",
   "language": "python",
   "name": "python3"
  },
  "language_info": {
   "codemirror_mode": {
    "name": "ipython",
    "version": 3
   },
   "file_extension": ".py",
   "mimetype": "text/x-python",
   "name": "python",
   "nbconvert_exporter": "python",
   "pygments_lexer": "ipython3",
   "version": "3.9.10"
  }
 },
 "nbformat": 4,
 "nbformat_minor": 5
}