{
 "cells": [
  {
   "cell_type": "markdown",
   "id": "a0dd99b5-ce06-403c-a941-f5e0c9adbe53",
   "metadata": {},
   "source": [
    "# pandas\n",
    "\n",
    "Når vi skal jobbe med data som passer på tabellformat kan livet vårt bli svært mye enklere om vi brukere et bibliotek som heter *pandas*. Det skal da lite kode til for å lese inn filer og for å gjøre enkle plots. Dessuten passer dataformatet i pandas sammen med flere kjente maskinlæringsbiblioteker som *tensorflow* og *scikit-learn*. Dermed slipper vi å bruke tid på å manipulere data til å passe inn i spesifikke formater for hvert bibliotek vi skal bruke. "
   ]
  },
  {
   "cell_type": "markdown",
   "id": "7aaf5662-863a-4ade-a75f-3e02dce6e87c",
   "metadata": {},
   "source": [
    "Når man bruker kraftige biblioteker for databehnadling, vil det alltid være mange funksjoner man ikke kan navnet på, eller ikke vet hva gjør. Det er helt greit, og helt vanglig. Det er lov til å si at man \"kan pandas\" uten å vite hva alle funksjonene gjør, på samme måte som det er lov å si man kan engelsk selv om man ike vet betydningen av *floccinaucinihilipilification*."
   ]
  },
  {
   "cell_type": "markdown",
   "id": "a4b34131-46eb-4b44-a824-38583eae6d53",
   "metadata": {},
   "source": [
    "```{admonition} Søk i dokumentasjonen\n",
    ":class: note \n",
    "\n",
    "Når vi jobber med *pandas* kommer vi til å bruke mange forskjellige funksjoner med mange forskjellige navn. Den eneste måten å huske alle disse på, er å bruke dem jevnlig. Det er det ikke så mange av oss som gjør, og dermed kan vi like godt gi opp å huske alle funksjonene. Prøv heller å gjøre det til en vane å søke i [pandas-dokumenasjonen](https://pandas.pydata.org/docs/user_guide/10min.html) for å finne en funksjon som gjør det du ønsker å få til.\n",
    "\n",
    "``` "
   ]
  },
  {
   "cell_type": "markdown",
   "id": "70e96009-b23e-4a08-b646-c7d5494bbbcd",
   "metadata": {},
   "source": [
    "Når vi jobber med datavitenskap er det ofte hensiktsmessig å bruke *Jupyter notebook* i *JupyterLab*. Vi kan kjøre JupyterLab både lokalt på maskinen vår og på forskjellige skytjenester. Vi anbefaler å begynne på egen maskin. Etterhvert kan det hende vi vil bruke Kaggle eller Google Colab som skytjenester, fordi de gir tilgang på en fornuftig mengde regnekraft. I del 1 av kurset skal vi jobbe med prosjekter som ikke krever noe særlig regnekraft, og da fungerer det fint å kjøre lokalt. \n",
    "\n",
    "I denne økta skal vi bruke Jupyter notebook til å trene på å lese inn og visualisere data med *Pandas* og *Matplotlib*."
   ]
  },
  {
   "cell_type": "code",
   "execution_count": 1,
   "id": "78a5fa97-e46c-4729-a83d-b27b6072c9e1",
   "metadata": {},
   "outputs": [],
   "source": [
    "import pandas as pd\n",
    "import matplotlib.pyplot as plt "
   ]
  },
  {
   "cell_type": "markdown",
   "id": "541f091b-9267-47c5-b7c3-5eb669d383bc",
   "metadata": {},
   "source": [
    "## Lese inn data\n",
    "Når vi skal analysere datasett, er det første vi må gjøre å lese inn dataene. Data kan finnes i mange forskjellige formater: Tabeller, bilder, lister osv. I første omgang skal vi forholde oss til tabeller. Dette svarer til excel-ark og csv-filer. \n",
    "\n",
    "La oss lese inn en tabell med data fra en csv-fil (comma separated values-fil). Vi begynner med en fil som inneholder lite nok data til at vi kan sjekke manuelt at det gikk bra. "
   ]
  },
  {
   "cell_type": "code",
   "execution_count": 2,
   "id": "d1653082-8dc1-4248-bc5a-d1aa94252a25",
   "metadata": {},
   "outputs": [
    {
     "ename": "FileNotFoundError",
     "evalue": "[Errno 2] No such file or directory: './data/filmer.csv'",
     "output_type": "error",
     "traceback": [
      "\u001b[0;31m---------------------------------------------------------------------------\u001b[0m",
      "\u001b[0;31mFileNotFoundError\u001b[0m                         Traceback (most recent call last)",
      "\u001b[0;32m<ipython-input-2-0410a5298a6c>\u001b[0m in \u001b[0;36m<module>\u001b[0;34m\u001b[0m\n\u001b[0;32m----> 1\u001b[0;31m \u001b[0mdf\u001b[0m \u001b[0;34m=\u001b[0m \u001b[0mpd\u001b[0m\u001b[0;34m.\u001b[0m\u001b[0mread_csv\u001b[0m\u001b[0;34m(\u001b[0m\u001b[0;34m\"./data/filmer.csv\"\u001b[0m\u001b[0;34m)\u001b[0m\u001b[0;34m\u001b[0m\u001b[0;34m\u001b[0m\u001b[0m\n\u001b[0m\u001b[1;32m      2\u001b[0m \u001b[0mdisplay\u001b[0m\u001b[0;34m(\u001b[0m\u001b[0mdf\u001b[0m\u001b[0;34m)\u001b[0m\u001b[0;34m\u001b[0m\u001b[0;34m\u001b[0m\u001b[0m\n",
      "\u001b[0;32m~/miniforge3/envs/myenv/lib/python3.9/site-packages/pandas/util/_decorators.py\u001b[0m in \u001b[0;36mwrapper\u001b[0;34m(*args, **kwargs)\u001b[0m\n\u001b[1;32m    309\u001b[0m                     \u001b[0mstacklevel\u001b[0m\u001b[0;34m=\u001b[0m\u001b[0mstacklevel\u001b[0m\u001b[0;34m,\u001b[0m\u001b[0;34m\u001b[0m\u001b[0;34m\u001b[0m\u001b[0m\n\u001b[1;32m    310\u001b[0m                 )\n\u001b[0;32m--> 311\u001b[0;31m             \u001b[0;32mreturn\u001b[0m \u001b[0mfunc\u001b[0m\u001b[0;34m(\u001b[0m\u001b[0;34m*\u001b[0m\u001b[0margs\u001b[0m\u001b[0;34m,\u001b[0m \u001b[0;34m**\u001b[0m\u001b[0mkwargs\u001b[0m\u001b[0;34m)\u001b[0m\u001b[0;34m\u001b[0m\u001b[0;34m\u001b[0m\u001b[0m\n\u001b[0m\u001b[1;32m    312\u001b[0m \u001b[0;34m\u001b[0m\u001b[0m\n\u001b[1;32m    313\u001b[0m         \u001b[0;32mreturn\u001b[0m \u001b[0mwrapper\u001b[0m\u001b[0;34m\u001b[0m\u001b[0;34m\u001b[0m\u001b[0m\n",
      "\u001b[0;32m~/miniforge3/envs/myenv/lib/python3.9/site-packages/pandas/io/parsers/readers.py\u001b[0m in \u001b[0;36mread_csv\u001b[0;34m(filepath_or_buffer, sep, delimiter, header, names, index_col, usecols, squeeze, prefix, mangle_dupe_cols, dtype, engine, converters, true_values, false_values, skipinitialspace, skiprows, skipfooter, nrows, na_values, keep_default_na, na_filter, verbose, skip_blank_lines, parse_dates, infer_datetime_format, keep_date_col, date_parser, dayfirst, cache_dates, iterator, chunksize, compression, thousands, decimal, lineterminator, quotechar, quoting, doublequote, escapechar, comment, encoding, encoding_errors, dialect, error_bad_lines, warn_bad_lines, on_bad_lines, delim_whitespace, low_memory, memory_map, float_precision, storage_options)\u001b[0m\n\u001b[1;32m    678\u001b[0m     \u001b[0mkwds\u001b[0m\u001b[0;34m.\u001b[0m\u001b[0mupdate\u001b[0m\u001b[0;34m(\u001b[0m\u001b[0mkwds_defaults\u001b[0m\u001b[0;34m)\u001b[0m\u001b[0;34m\u001b[0m\u001b[0;34m\u001b[0m\u001b[0m\n\u001b[1;32m    679\u001b[0m \u001b[0;34m\u001b[0m\u001b[0m\n\u001b[0;32m--> 680\u001b[0;31m     \u001b[0;32mreturn\u001b[0m \u001b[0m_read\u001b[0m\u001b[0;34m(\u001b[0m\u001b[0mfilepath_or_buffer\u001b[0m\u001b[0;34m,\u001b[0m \u001b[0mkwds\u001b[0m\u001b[0;34m)\u001b[0m\u001b[0;34m\u001b[0m\u001b[0;34m\u001b[0m\u001b[0m\n\u001b[0m\u001b[1;32m    681\u001b[0m \u001b[0;34m\u001b[0m\u001b[0m\n\u001b[1;32m    682\u001b[0m \u001b[0;34m\u001b[0m\u001b[0m\n",
      "\u001b[0;32m~/miniforge3/envs/myenv/lib/python3.9/site-packages/pandas/io/parsers/readers.py\u001b[0m in \u001b[0;36m_read\u001b[0;34m(filepath_or_buffer, kwds)\u001b[0m\n\u001b[1;32m    573\u001b[0m \u001b[0;34m\u001b[0m\u001b[0m\n\u001b[1;32m    574\u001b[0m     \u001b[0;31m# Create the parser.\u001b[0m\u001b[0;34m\u001b[0m\u001b[0;34m\u001b[0m\u001b[0m\n\u001b[0;32m--> 575\u001b[0;31m     \u001b[0mparser\u001b[0m \u001b[0;34m=\u001b[0m \u001b[0mTextFileReader\u001b[0m\u001b[0;34m(\u001b[0m\u001b[0mfilepath_or_buffer\u001b[0m\u001b[0;34m,\u001b[0m \u001b[0;34m**\u001b[0m\u001b[0mkwds\u001b[0m\u001b[0;34m)\u001b[0m\u001b[0;34m\u001b[0m\u001b[0;34m\u001b[0m\u001b[0m\n\u001b[0m\u001b[1;32m    576\u001b[0m \u001b[0;34m\u001b[0m\u001b[0m\n\u001b[1;32m    577\u001b[0m     \u001b[0;32mif\u001b[0m \u001b[0mchunksize\u001b[0m \u001b[0;32mor\u001b[0m \u001b[0miterator\u001b[0m\u001b[0;34m:\u001b[0m\u001b[0;34m\u001b[0m\u001b[0;34m\u001b[0m\u001b[0m\n",
      "\u001b[0;32m~/miniforge3/envs/myenv/lib/python3.9/site-packages/pandas/io/parsers/readers.py\u001b[0m in \u001b[0;36m__init__\u001b[0;34m(self, f, engine, **kwds)\u001b[0m\n\u001b[1;32m    931\u001b[0m \u001b[0;34m\u001b[0m\u001b[0m\n\u001b[1;32m    932\u001b[0m         \u001b[0mself\u001b[0m\u001b[0;34m.\u001b[0m\u001b[0mhandles\u001b[0m\u001b[0;34m:\u001b[0m \u001b[0mIOHandles\u001b[0m \u001b[0;34m|\u001b[0m \u001b[0;32mNone\u001b[0m \u001b[0;34m=\u001b[0m \u001b[0;32mNone\u001b[0m\u001b[0;34m\u001b[0m\u001b[0;34m\u001b[0m\u001b[0m\n\u001b[0;32m--> 933\u001b[0;31m         \u001b[0mself\u001b[0m\u001b[0;34m.\u001b[0m\u001b[0m_engine\u001b[0m \u001b[0;34m=\u001b[0m \u001b[0mself\u001b[0m\u001b[0;34m.\u001b[0m\u001b[0m_make_engine\u001b[0m\u001b[0;34m(\u001b[0m\u001b[0mf\u001b[0m\u001b[0;34m,\u001b[0m \u001b[0mself\u001b[0m\u001b[0;34m.\u001b[0m\u001b[0mengine\u001b[0m\u001b[0;34m)\u001b[0m\u001b[0;34m\u001b[0m\u001b[0;34m\u001b[0m\u001b[0m\n\u001b[0m\u001b[1;32m    934\u001b[0m \u001b[0;34m\u001b[0m\u001b[0m\n\u001b[1;32m    935\u001b[0m     \u001b[0;32mdef\u001b[0m \u001b[0mclose\u001b[0m\u001b[0;34m(\u001b[0m\u001b[0mself\u001b[0m\u001b[0;34m)\u001b[0m\u001b[0;34m:\u001b[0m\u001b[0;34m\u001b[0m\u001b[0;34m\u001b[0m\u001b[0m\n",
      "\u001b[0;32m~/miniforge3/envs/myenv/lib/python3.9/site-packages/pandas/io/parsers/readers.py\u001b[0m in \u001b[0;36m_make_engine\u001b[0;34m(self, f, engine)\u001b[0m\n\u001b[1;32m   1215\u001b[0m             \u001b[0;31m# \"Union[str, PathLike[str], ReadCsvBuffer[bytes], ReadCsvBuffer[str]]\"\u001b[0m\u001b[0;34m\u001b[0m\u001b[0;34m\u001b[0m\u001b[0m\n\u001b[1;32m   1216\u001b[0m             \u001b[0;31m# , \"str\", \"bool\", \"Any\", \"Any\", \"Any\", \"Any\", \"Any\"\u001b[0m\u001b[0;34m\u001b[0m\u001b[0;34m\u001b[0m\u001b[0m\n\u001b[0;32m-> 1217\u001b[0;31m             self.handles = get_handle(  # type: ignore[call-overload]\n\u001b[0m\u001b[1;32m   1218\u001b[0m                 \u001b[0mf\u001b[0m\u001b[0;34m,\u001b[0m\u001b[0;34m\u001b[0m\u001b[0;34m\u001b[0m\u001b[0m\n\u001b[1;32m   1219\u001b[0m                 \u001b[0mmode\u001b[0m\u001b[0;34m,\u001b[0m\u001b[0;34m\u001b[0m\u001b[0;34m\u001b[0m\u001b[0m\n",
      "\u001b[0;32m~/miniforge3/envs/myenv/lib/python3.9/site-packages/pandas/io/common.py\u001b[0m in \u001b[0;36mget_handle\u001b[0;34m(path_or_buf, mode, encoding, compression, memory_map, is_text, errors, storage_options)\u001b[0m\n\u001b[1;32m    787\u001b[0m         \u001b[0;32mif\u001b[0m \u001b[0mioargs\u001b[0m\u001b[0;34m.\u001b[0m\u001b[0mencoding\u001b[0m \u001b[0;32mand\u001b[0m \u001b[0;34m\"b\"\u001b[0m \u001b[0;32mnot\u001b[0m \u001b[0;32min\u001b[0m \u001b[0mioargs\u001b[0m\u001b[0;34m.\u001b[0m\u001b[0mmode\u001b[0m\u001b[0;34m:\u001b[0m\u001b[0;34m\u001b[0m\u001b[0;34m\u001b[0m\u001b[0m\n\u001b[1;32m    788\u001b[0m             \u001b[0;31m# Encoding\u001b[0m\u001b[0;34m\u001b[0m\u001b[0;34m\u001b[0m\u001b[0m\n\u001b[0;32m--> 789\u001b[0;31m             handle = open(\n\u001b[0m\u001b[1;32m    790\u001b[0m                 \u001b[0mhandle\u001b[0m\u001b[0;34m,\u001b[0m\u001b[0;34m\u001b[0m\u001b[0;34m\u001b[0m\u001b[0m\n\u001b[1;32m    791\u001b[0m                 \u001b[0mioargs\u001b[0m\u001b[0;34m.\u001b[0m\u001b[0mmode\u001b[0m\u001b[0;34m,\u001b[0m\u001b[0;34m\u001b[0m\u001b[0;34m\u001b[0m\u001b[0m\n",
      "\u001b[0;31mFileNotFoundError\u001b[0m: [Errno 2] No such file or directory: './data/filmer.csv'"
     ]
    }
   ],
   "source": [
    "df = pd.read_csv(\"./data/filmer.csv\")\n",
    "display(df)"
   ]
  },
  {
   "cell_type": "markdown",
   "id": "c1ebdd4a-37cd-44f3-b6d7-bebb002d3366",
   "metadata": {},
   "source": [
    "```{admonition} Csv-filer\n",
    ":class: warning \n",
    "\n",
    "Siden komma er standard desimalskilletegn i Norge, mens punktum brukes i USA, oppstår det i blant trøbbel når vi skal lese inn norske CSV-filer. De bruker nemlig ofte semikolon i stedet for komma til å separere verdiene. Dette løser vi ved å bruke `delimiter=\";\"` som argument til `read_csv`. \n",
    "```"
   ]
  },
  {
   "cell_type": "markdown",
   "id": "6798d3e1-6585-467b-9a69-10c105e73a75",
   "metadata": {},
   "source": [
    "## Kaste ut data vi ikke skal bruke"
   ]
  },
  {
   "cell_type": "markdown",
   "id": "cc1b4689-3348-48c0-86dd-492f08931191",
   "metadata": {},
   "source": [
    "Ofte har en csv fil kollonner eller data vi ikke skal bruke, og da blir det ryddigere å ikke ha de med. Hvis vi f.eks vil undersøke hvilket år som hadde de beste filmene trenger vi ikke navnene eller rangeringene."
   ]
  },
  {
   "cell_type": "code",
   "execution_count": 3,
   "id": "3defc5d6-e0c3-4f7e-8301-4b5c64f07d86",
   "metadata": {},
   "outputs": [],
   "source": [
    "data = df.drop([\"Rangering\", \"Navn\"], axis=1)"
   ]
  },
  {
   "cell_type": "markdown",
   "id": "b799e847-24fa-444f-9303-7228d7b301ce",
   "metadata": {},
   "source": [
    "Man kan også fjerne rader med data, enten ved å fjerne spesifikke rader eller ved å filtrere på ulike måter. Hvis man f.eks tenker at superheltfilmer ikke er ekte filmer, kan man fjerne The Dark Knight fra datasettet med indeksen dens. Og hvis man mener det ikke ble laget ekte filmer før 70-tallet kan man filtrere de ut slik:"
   ]
  },
  {
   "cell_type": "code",
   "execution_count": 4,
   "id": "e76e5037-0e4e-46d6-bce8-32fa1cf11d46",
   "metadata": {},
   "outputs": [
    {
     "data": {
      "text/html": [
       "<div>\n",
       "<style scoped>\n",
       "    .dataframe tbody tr th:only-of-type {\n",
       "        vertical-align: middle;\n",
       "    }\n",
       "\n",
       "    .dataframe tbody tr th {\n",
       "        vertical-align: top;\n",
       "    }\n",
       "\n",
       "    .dataframe thead th {\n",
       "        text-align: right;\n",
       "    }\n",
       "</style>\n",
       "<table border=\"1\" class=\"dataframe\">\n",
       "  <thead>\n",
       "    <tr style=\"text-align: right;\">\n",
       "      <th></th>\n",
       "      <th>År</th>\n",
       "      <th>IMDb Rating</th>\n",
       "    </tr>\n",
       "  </thead>\n",
       "  <tbody>\n",
       "    <tr>\n",
       "      <th>0</th>\n",
       "      <td>1994</td>\n",
       "      <td>9.2</td>\n",
       "    </tr>\n",
       "    <tr>\n",
       "      <th>1</th>\n",
       "      <td>1972</td>\n",
       "      <td>9.1</td>\n",
       "    </tr>\n",
       "    <tr>\n",
       "      <th>2</th>\n",
       "      <td>1974</td>\n",
       "      <td>9.0</td>\n",
       "    </tr>\n",
       "    <tr>\n",
       "      <th>5</th>\n",
       "      <td>1993</td>\n",
       "      <td>8.9</td>\n",
       "    </tr>\n",
       "    <tr>\n",
       "      <th>6</th>\n",
       "      <td>2003</td>\n",
       "      <td>8.9</td>\n",
       "    </tr>\n",
       "    <tr>\n",
       "      <th>7</th>\n",
       "      <td>1994</td>\n",
       "      <td>8.8</td>\n",
       "    </tr>\n",
       "    <tr>\n",
       "      <th>9</th>\n",
       "      <td>2001</td>\n",
       "      <td>8.8</td>\n",
       "    </tr>\n",
       "  </tbody>\n",
       "</table>\n",
       "</div>"
      ],
      "text/plain": [
       "     År  IMDb Rating\n",
       "0  1994          9.2\n",
       "1  1972          9.1\n",
       "2  1974          9.0\n",
       "5  1993          8.9\n",
       "6  2003          8.9\n",
       "7  1994          8.8\n",
       "9  2001          8.8"
      ]
     },
     "metadata": {},
     "output_type": "display_data"
    }
   ],
   "source": [
    "data_filtered = data.drop([3])\n",
    "data_filtered = data_filtered[data_filtered[\"År\"] >= 1970]\n",
    "display(data_filtered)"
   ]
  },
  {
   "cell_type": "markdown",
   "id": "9b311193-2394-42c6-8a7f-a4378a523767",
   "metadata": {},
   "source": [
    "## Lage en dataframe manuelt\n",
    "\n",
    "I blant trenger vi å skrive inn data manuelt. Da er det fint å vite hvordan vi kan lage en *Pandas* *DataFrame* fra grunnen. Dette kan også være nyttig om vi skal sette inn data fra eksempelvis *numpy*-arrayer i en *DataFrame*. En enkel og ryddig måte å lage en *DataFrame* er å først legge dataene i en *dictionary* og deretter be *Pandas* lage en *DataFrame* av denne dictionary'en."
   ]
  },
  {
   "cell_type": "code",
   "execution_count": 5,
   "id": "459cfae8-2db6-46ea-976d-9fc1398a7a92",
   "metadata": {},
   "outputs": [],
   "source": [
    "data = {\"innsats\" : [2, 4, 3, 8, 4, 1, 6, 6, 10, 3, 7], \n",
    "        \"talent\" : [4, 5, 3, 4, 6, 2, 3, 5, 2, 4, 5], \n",
    "        \"resultat\" : [24, 73, 25, 185, 93, 4, 55, 110, 198, 42, 155]}\n",
    "grit_data = pd.DataFrame(data)"
   ]
  },
  {
   "cell_type": "markdown",
   "id": "24b78c98-d1fc-45c3-8dce-78e82fa94e3d",
   "metadata": {},
   "source": [
    "Vi er interresert i å se på sammenhengen mellom de ulike kolonnene i datasettet. En scatter matrise plotter fordelingen av de ulike verdiene for hver av kolonnene med søylediagrammer, og hvordan disse verdieme sammenfaller med scatter plots."
   ]
  },
  {
   "cell_type": "code",
   "execution_count": 6,
   "id": "357c440c-cf67-4f12-a3ae-45eeacc980e2",
   "metadata": {},
   "outputs": [
    {
     "data": {
      "image/png": "[encoded data removed]",
      "text/plain": [
       "<Figure size 576x432 with 9 Axes>"
      ]
     },
     "metadata": {
      "filenames": {
       "image/png": "/Users/mhjensen/Teaching/RefreshProgrammingSkills/_build/jupyter_execute/notebooks/Python/pandas_16_0.png"
      },
      "needs_background": "light"
     },
     "output_type": "display_data"
    }
   ],
   "source": [
    "hfig = pd.plotting.scatter_matrix(grit_data, figsize=(8,6), alpha=1)\n",
    "plt.show()"
   ]
  },
  {
   "cell_type": "markdown",
   "id": "ebf3e033-83b6-4d1b-8bbc-3fbf88ba267b",
   "metadata": {},
   "source": [
    "```{admonition} Ta imot returvariabelen fra plottingen\n",
    ":class: note\n",
    "\n",
    "Noen ganger vil plottekommandoer returnere et objekt som holder på figuren vi har laget. Dette objektet kan vi senere bruke om vi vil endre på farger, fontstørrelser og så videre. Det er ofte også slik at om vi ikke eksplisitt tar imot returvariabelen fra en plottekommando, får vi en del unyttig tekst i output-vinduet (med mindre man bruker plt.show()).\n",
    "```"
   ]
  },
  {
   "cell_type": "markdown",
   "id": "f5c10680-48cc-46f6-b808-6e57b23bfe2e",
   "metadata": {},
   "source": [
    "## Et større datasett: Presidenvalget i USA, 2020"
   ]
  },
  {
   "cell_type": "code",
   "execution_count": 7,
   "id": "ff4594d2-0ca2-415c-9601-59f7e97beac9",
   "metadata": {},
   "outputs": [
    {
     "data": {
      "text/html": [
       "<div>\n",
       "<style scoped>\n",
       "    .dataframe tbody tr th:only-of-type {\n",
       "        vertical-align: middle;\n",
       "    }\n",
       "\n",
       "    .dataframe tbody tr th {\n",
       "        vertical-align: top;\n",
       "    }\n",
       "\n",
       "    .dataframe thead th {\n",
       "        text-align: right;\n",
       "    }\n",
       "</style>\n",
       "<table border=\"1\" class=\"dataframe\">\n",
       "  <thead>\n",
       "    <tr style=\"text-align: right;\">\n",
       "      <th></th>\n",
       "      <th>state</th>\n",
       "      <th>county</th>\n",
       "      <th>candidate</th>\n",
       "      <th>party</th>\n",
       "      <th>votes</th>\n",
       "    </tr>\n",
       "  </thead>\n",
       "  <tbody>\n",
       "    <tr>\n",
       "      <th>0</th>\n",
       "      <td>Delaware</td>\n",
       "      <td>Kent County</td>\n",
       "      <td>Joe Biden</td>\n",
       "      <td>DEM</td>\n",
       "      <td>44552</td>\n",
       "    </tr>\n",
       "    <tr>\n",
       "      <th>1</th>\n",
       "      <td>Delaware</td>\n",
       "      <td>Kent County</td>\n",
       "      <td>Donald Trump</td>\n",
       "      <td>REP</td>\n",
       "      <td>41009</td>\n",
       "    </tr>\n",
       "    <tr>\n",
       "      <th>2</th>\n",
       "      <td>Delaware</td>\n",
       "      <td>Kent County</td>\n",
       "      <td>Jo Jorgensen</td>\n",
       "      <td>LIB</td>\n",
       "      <td>1044</td>\n",
       "    </tr>\n",
       "    <tr>\n",
       "      <th>3</th>\n",
       "      <td>Delaware</td>\n",
       "      <td>Kent County</td>\n",
       "      <td>Howie Hawkins</td>\n",
       "      <td>GRN</td>\n",
       "      <td>420</td>\n",
       "    </tr>\n",
       "    <tr>\n",
       "      <th>4</th>\n",
       "      <td>Delaware</td>\n",
       "      <td>New Castle County</td>\n",
       "      <td>Joe Biden</td>\n",
       "      <td>DEM</td>\n",
       "      <td>195034</td>\n",
       "    </tr>\n",
       "    <tr>\n",
       "      <th>...</th>\n",
       "      <td>...</td>\n",
       "      <td>...</td>\n",
       "      <td>...</td>\n",
       "      <td>...</td>\n",
       "      <td>...</td>\n",
       "    </tr>\n",
       "    <tr>\n",
       "      <th>31107</th>\n",
       "      <td>Arizona</td>\n",
       "      <td>Maricopa County</td>\n",
       "      <td>Donald Trump</td>\n",
       "      <td>REP</td>\n",
       "      <td>993691</td>\n",
       "    </tr>\n",
       "    <tr>\n",
       "      <th>31108</th>\n",
       "      <td>Arizona</td>\n",
       "      <td>Maricopa County</td>\n",
       "      <td>Jo Jorgensen</td>\n",
       "      <td>LIB</td>\n",
       "      <td>31608</td>\n",
       "    </tr>\n",
       "    <tr>\n",
       "      <th>31109</th>\n",
       "      <td>Arizona</td>\n",
       "      <td>Mohave County</td>\n",
       "      <td>Donald Trump</td>\n",
       "      <td>REP</td>\n",
       "      <td>78534</td>\n",
       "    </tr>\n",
       "    <tr>\n",
       "      <th>31110</th>\n",
       "      <td>Arizona</td>\n",
       "      <td>Mohave County</td>\n",
       "      <td>Joe Biden</td>\n",
       "      <td>DEM</td>\n",
       "      <td>24831</td>\n",
       "    </tr>\n",
       "    <tr>\n",
       "      <th>31111</th>\n",
       "      <td>Arizona</td>\n",
       "      <td>Mohave County</td>\n",
       "      <td>Jo Jorgensen</td>\n",
       "      <td>LIB</td>\n",
       "      <td>1302</td>\n",
       "    </tr>\n",
       "  </tbody>\n",
       "</table>\n",
       "<p>31112 rows × 5 columns</p>\n",
       "</div>"
      ],
      "text/plain": [
       "          state             county      candidate party   votes\n",
       "0      Delaware        Kent County      Joe Biden   DEM   44552\n",
       "1      Delaware        Kent County   Donald Trump   REP   41009\n",
       "2      Delaware        Kent County   Jo Jorgensen   LIB    1044\n",
       "3      Delaware        Kent County  Howie Hawkins   GRN     420\n",
       "4      Delaware  New Castle County      Joe Biden   DEM  195034\n",
       "...         ...                ...            ...   ...     ...\n",
       "31107   Arizona    Maricopa County   Donald Trump   REP  993691\n",
       "31108   Arizona    Maricopa County   Jo Jorgensen   LIB   31608\n",
       "31109   Arizona      Mohave County   Donald Trump   REP   78534\n",
       "31110   Arizona      Mohave County      Joe Biden   DEM   24831\n",
       "31111   Arizona      Mohave County   Jo Jorgensen   LIB    1302\n",
       "\n",
       "[31112 rows x 5 columns]"
      ]
     },
     "metadata": {},
     "output_type": "display_data"
    }
   ],
   "source": [
    "data = pd.read_csv(\"./data/president_county_candidate.csv\")\n",
    "display(data)"
   ]
  },
  {
   "cell_type": "markdown",
   "id": "fe220a18-ba92-4272-a584-2f8f14f41aae",
   "metadata": {},
   "source": [
    "Når vi leser inn slik i en jupyter notebook, får vi opp en visning av deler av tabellen. Om det er en veldig liten tabell ser vi hele. I dette tilfellet har vi lastet inn en tabell med valgresultatene for presidentvalget i USA i 2020. Det er en liste med mye innhold. La oss i første omgang bare lese ut litt forskjellige data fra tabellen, for å demonstrere hvordan vi *aksesserer* deler av dataene fra tabellen."
   ]
  },
  {
   "cell_type": "code",
   "execution_count": 8,
   "id": "b7c042ad-d9d1-4129-85e4-04a04b0f6935",
   "metadata": {},
   "outputs": [
    {
     "data": {
      "text/html": [
       "<div>\n",
       "<style scoped>\n",
       "    .dataframe tbody tr th:only-of-type {\n",
       "        vertical-align: middle;\n",
       "    }\n",
       "\n",
       "    .dataframe tbody tr th {\n",
       "        vertical-align: top;\n",
       "    }\n",
       "\n",
       "    .dataframe thead th {\n",
       "        text-align: right;\n",
       "    }\n",
       "</style>\n",
       "<table border=\"1\" class=\"dataframe\">\n",
       "  <thead>\n",
       "    <tr style=\"text-align: right;\">\n",
       "      <th></th>\n",
       "      <th>state</th>\n",
       "      <th>county</th>\n",
       "      <th>candidate</th>\n",
       "      <th>party</th>\n",
       "      <th>votes</th>\n",
       "    </tr>\n",
       "  </thead>\n",
       "  <tbody>\n",
       "    <tr>\n",
       "      <th>0</th>\n",
       "      <td>Delaware</td>\n",
       "      <td>Kent County</td>\n",
       "      <td>Joe Biden</td>\n",
       "      <td>DEM</td>\n",
       "      <td>44552</td>\n",
       "    </tr>\n",
       "    <tr>\n",
       "      <th>1</th>\n",
       "      <td>Delaware</td>\n",
       "      <td>Kent County</td>\n",
       "      <td>Donald Trump</td>\n",
       "      <td>REP</td>\n",
       "      <td>41009</td>\n",
       "    </tr>\n",
       "    <tr>\n",
       "      <th>2</th>\n",
       "      <td>Delaware</td>\n",
       "      <td>Kent County</td>\n",
       "      <td>Jo Jorgensen</td>\n",
       "      <td>LIB</td>\n",
       "      <td>1044</td>\n",
       "    </tr>\n",
       "    <tr>\n",
       "      <th>3</th>\n",
       "      <td>Delaware</td>\n",
       "      <td>Kent County</td>\n",
       "      <td>Howie Hawkins</td>\n",
       "      <td>GRN</td>\n",
       "      <td>420</td>\n",
       "    </tr>\n",
       "    <tr>\n",
       "      <th>4</th>\n",
       "      <td>Delaware</td>\n",
       "      <td>New Castle County</td>\n",
       "      <td>Joe Biden</td>\n",
       "      <td>DEM</td>\n",
       "      <td>195034</td>\n",
       "    </tr>\n",
       "    <tr>\n",
       "      <th>5</th>\n",
       "      <td>Delaware</td>\n",
       "      <td>New Castle County</td>\n",
       "      <td>Donald Trump</td>\n",
       "      <td>REP</td>\n",
       "      <td>88364</td>\n",
       "    </tr>\n",
       "    <tr>\n",
       "      <th>6</th>\n",
       "      <td>Delaware</td>\n",
       "      <td>New Castle County</td>\n",
       "      <td>Jo Jorgensen</td>\n",
       "      <td>LIB</td>\n",
       "      <td>2953</td>\n",
       "    </tr>\n",
       "    <tr>\n",
       "      <th>7</th>\n",
       "      <td>Delaware</td>\n",
       "      <td>New Castle County</td>\n",
       "      <td>Howie Hawkins</td>\n",
       "      <td>GRN</td>\n",
       "      <td>1282</td>\n",
       "    </tr>\n",
       "    <tr>\n",
       "      <th>8</th>\n",
       "      <td>Delaware</td>\n",
       "      <td>Sussex County</td>\n",
       "      <td>Donald Trump</td>\n",
       "      <td>REP</td>\n",
       "      <td>71230</td>\n",
       "    </tr>\n",
       "    <tr>\n",
       "      <th>9</th>\n",
       "      <td>Delaware</td>\n",
       "      <td>Sussex County</td>\n",
       "      <td>Joe Biden</td>\n",
       "      <td>DEM</td>\n",
       "      <td>56682</td>\n",
       "    </tr>\n",
       "    <tr>\n",
       "      <th>10</th>\n",
       "      <td>Delaware</td>\n",
       "      <td>Sussex County</td>\n",
       "      <td>Jo Jorgensen</td>\n",
       "      <td>LIB</td>\n",
       "      <td>1003</td>\n",
       "    </tr>\n",
       "    <tr>\n",
       "      <th>11</th>\n",
       "      <td>Delaware</td>\n",
       "      <td>Sussex County</td>\n",
       "      <td>Howie Hawkins</td>\n",
       "      <td>GRN</td>\n",
       "      <td>437</td>\n",
       "    </tr>\n",
       "  </tbody>\n",
       "</table>\n",
       "</div>"
      ],
      "text/plain": [
       "       state             county      candidate party   votes\n",
       "0   Delaware        Kent County      Joe Biden   DEM   44552\n",
       "1   Delaware        Kent County   Donald Trump   REP   41009\n",
       "2   Delaware        Kent County   Jo Jorgensen   LIB    1044\n",
       "3   Delaware        Kent County  Howie Hawkins   GRN     420\n",
       "4   Delaware  New Castle County      Joe Biden   DEM  195034\n",
       "5   Delaware  New Castle County   Donald Trump   REP   88364\n",
       "6   Delaware  New Castle County   Jo Jorgensen   LIB    2953\n",
       "7   Delaware  New Castle County  Howie Hawkins   GRN    1282\n",
       "8   Delaware      Sussex County   Donald Trump   REP   71230\n",
       "9   Delaware      Sussex County      Joe Biden   DEM   56682\n",
       "10  Delaware      Sussex County   Jo Jorgensen   LIB    1003\n",
       "11  Delaware      Sussex County  Howie Hawkins   GRN     437"
      ]
     },
     "metadata": {},
     "output_type": "display_data"
    },
    {
     "data": {
      "text/html": [
       "<div>\n",
       "<style scoped>\n",
       "    .dataframe tbody tr th:only-of-type {\n",
       "        vertical-align: middle;\n",
       "    }\n",
       "\n",
       "    .dataframe tbody tr th {\n",
       "        vertical-align: top;\n",
       "    }\n",
       "\n",
       "    .dataframe thead th {\n",
       "        text-align: right;\n",
       "    }\n",
       "</style>\n",
       "<table border=\"1\" class=\"dataframe\">\n",
       "  <thead>\n",
       "    <tr style=\"text-align: right;\">\n",
       "      <th></th>\n",
       "      <th>state</th>\n",
       "      <th>county</th>\n",
       "      <th>candidate</th>\n",
       "      <th>party</th>\n",
       "      <th>votes</th>\n",
       "    </tr>\n",
       "  </thead>\n",
       "  <tbody>\n",
       "    <tr>\n",
       "      <th>0</th>\n",
       "      <td>Delaware</td>\n",
       "      <td>Kent County</td>\n",
       "      <td>Joe Biden</td>\n",
       "      <td>DEM</td>\n",
       "      <td>44552</td>\n",
       "    </tr>\n",
       "    <tr>\n",
       "      <th>4</th>\n",
       "      <td>Delaware</td>\n",
       "      <td>New Castle County</td>\n",
       "      <td>Joe Biden</td>\n",
       "      <td>DEM</td>\n",
       "      <td>195034</td>\n",
       "    </tr>\n",
       "    <tr>\n",
       "      <th>9</th>\n",
       "      <td>Delaware</td>\n",
       "      <td>Sussex County</td>\n",
       "      <td>Joe Biden</td>\n",
       "      <td>DEM</td>\n",
       "      <td>56682</td>\n",
       "    </tr>\n",
       "    <tr>\n",
       "      <th>12</th>\n",
       "      <td>District of Columbia</td>\n",
       "      <td>District of Columbia</td>\n",
       "      <td>Joe Biden</td>\n",
       "      <td>DEM</td>\n",
       "      <td>35485</td>\n",
       "    </tr>\n",
       "    <tr>\n",
       "      <th>19</th>\n",
       "      <td>District of Columbia</td>\n",
       "      <td>Ward 2</td>\n",
       "      <td>Joe Biden</td>\n",
       "      <td>DEM</td>\n",
       "      <td>26086</td>\n",
       "    </tr>\n",
       "    <tr>\n",
       "      <th>...</th>\n",
       "      <td>...</td>\n",
       "      <td>...</td>\n",
       "      <td>...</td>\n",
       "      <td>...</td>\n",
       "      <td>...</td>\n",
       "    </tr>\n",
       "    <tr>\n",
       "      <th>31098</th>\n",
       "      <td>Arizona</td>\n",
       "      <td>Graham County</td>\n",
       "      <td>Joe Biden</td>\n",
       "      <td>DEM</td>\n",
       "      <td>4034</td>\n",
       "    </tr>\n",
       "    <tr>\n",
       "      <th>31101</th>\n",
       "      <td>Arizona</td>\n",
       "      <td>Greenlee County</td>\n",
       "      <td>Joe Biden</td>\n",
       "      <td>DEM</td>\n",
       "      <td>1182</td>\n",
       "    </tr>\n",
       "    <tr>\n",
       "      <th>31104</th>\n",
       "      <td>Arizona</td>\n",
       "      <td>La Paz County</td>\n",
       "      <td>Joe Biden</td>\n",
       "      <td>DEM</td>\n",
       "      <td>2236</td>\n",
       "    </tr>\n",
       "    <tr>\n",
       "      <th>31106</th>\n",
       "      <td>Arizona</td>\n",
       "      <td>Maricopa County</td>\n",
       "      <td>Joe Biden</td>\n",
       "      <td>DEM</td>\n",
       "      <td>1038364</td>\n",
       "    </tr>\n",
       "    <tr>\n",
       "      <th>31110</th>\n",
       "      <td>Arizona</td>\n",
       "      <td>Mohave County</td>\n",
       "      <td>Joe Biden</td>\n",
       "      <td>DEM</td>\n",
       "      <td>24831</td>\n",
       "    </tr>\n",
       "  </tbody>\n",
       "</table>\n",
       "<p>4633 rows × 5 columns</p>\n",
       "</div>"
      ],
      "text/plain": [
       "                      state                county  candidate party    votes\n",
       "0                  Delaware           Kent County  Joe Biden   DEM    44552\n",
       "4                  Delaware     New Castle County  Joe Biden   DEM   195034\n",
       "9                  Delaware         Sussex County  Joe Biden   DEM    56682\n",
       "12     District of Columbia  District of Columbia  Joe Biden   DEM    35485\n",
       "19     District of Columbia                Ward 2  Joe Biden   DEM    26086\n",
       "...                     ...                   ...        ...   ...      ...\n",
       "31098               Arizona         Graham County  Joe Biden   DEM     4034\n",
       "31101               Arizona       Greenlee County  Joe Biden   DEM     1182\n",
       "31104               Arizona         La Paz County  Joe Biden   DEM     2236\n",
       "31106               Arizona       Maricopa County  Joe Biden   DEM  1038364\n",
       "31110               Arizona         Mohave County  Joe Biden   DEM    24831\n",
       "\n",
       "[4633 rows x 5 columns]"
      ]
     },
     "metadata": {},
     "output_type": "display_data"
    }
   ],
   "source": [
    "display(data[data[\"state\"] == \"Delaware\"])\n",
    "display(data[data[\"candidate\"] == \"Joe Biden\"])"
   ]
  },
  {
   "cell_type": "markdown",
   "id": "0008f7ec-63a9-4978-a810-48c4be531431",
   "metadata": {},
   "source": [
    "Det finnes mange flere måter å hente ut data på. Vi kommer til å introdusere dem i det tempoet vi trenger dem. Det er for kjedelig å liste opp alle mulige måter, og for dem som trenger å lese om alle måtene for å få sove godt om natta, finnes denne informasjonen [andre steder](https://pandas.pydata.org/pandas-docs/stable/user_guide/10min.html). \n",
    "\n",
    "La oss så begynne å regne litt. Kanskje er vi interessert i å finne ut hvor mange stemmer Donald trump fikk totalt i staten Delaware. Da kan vi summere opp stemmene for de radene i tabellen som svarer til Donald Trump og Delaware. "
   ]
  },
  {
   "cell_type": "code",
   "execution_count": 9,
   "id": "9eb554d5-a073-4d51-b884-70aff158ebc5",
   "metadata": {},
   "outputs": [
    {
     "name": "stdout",
     "output_type": "stream",
     "text": [
      "Donald Trump fikk 200603 stemmer i Delaware\n"
     ]
    }
   ],
   "source": [
    "subset = data[data[\"state\"] == \"Delaware\"]\n",
    "subset = subset[subset[\"candidate\"] == \"Donald Trump\"]\n",
    "\n",
    "trump_votes_delaware = 0\n",
    "for number in subset[\"votes\"]: \n",
    "    trump_votes_delaware += number\n",
    "    \n",
    "print(f\"Donald Trump fikk {trump_votes_delaware} stemmer i Delaware\")"
   ]
  },
  {
   "cell_type": "code",
   "execution_count": 10,
   "id": "fe7e29f4-ff67-4ce2-a4b3-fe244b0009b5",
   "metadata": {},
   "outputs": [
    {
     "data": {
      "text/plain": [
       "200603"
      ]
     },
     "execution_count": 10,
     "metadata": {},
     "output_type": "execute_result"
    }
   ],
   "source": [
    "data[(data.state == \"Delaware\") & (data.candidate == \"Donald Trump\")][\"votes\"].sum()"
   ]
  },
  {
   "cell_type": "markdown",
   "id": "1ed1c51f-2572-43e0-9f0d-65c901ebd28a",
   "metadata": {},
   "source": [
    "Over skjer det litt av hvert. For det første bruker vi et sammensatt logisk uttrykk for å hente ut de linjene i tabellen som inneholder *både* staten \"Delaware\" *og* kandidaten \"Donald Trump\". Når vi har hentet ut linjene som oppfyller disse kriteriene, velger vi kolonnen \"votes\", siden vi er interessert i antallet stemmer. Til slutt bruker vi `sum`-funksjonen på DataFrame-objektet. DataFrame-objektet er pandas sin vanlige måte å holde på data. "
   ]
  },
  {
   "cell_type": "markdown",
   "id": "3585ac30-a5e2-4364-831f-4c560e50a310",
   "metadata": {},
   "source": [
    "## Gruppere data"
   ]
  },
  {
   "cell_type": "code",
   "execution_count": 11,
   "id": "f9c4ee89-cf72-4ef6-b318-932a61a0462c",
   "metadata": {},
   "outputs": [
    {
     "data": {
      "text/html": [
       "<div>\n",
       "<style scoped>\n",
       "    .dataframe tbody tr th:only-of-type {\n",
       "        vertical-align: middle;\n",
       "    }\n",
       "\n",
       "    .dataframe tbody tr th {\n",
       "        vertical-align: top;\n",
       "    }\n",
       "\n",
       "    .dataframe thead th {\n",
       "        text-align: right;\n",
       "    }\n",
       "</style>\n",
       "<table border=\"1\" class=\"dataframe\">\n",
       "  <thead>\n",
       "    <tr style=\"text-align: right;\">\n",
       "      <th></th>\n",
       "      <th>candidate</th>\n",
       "      <th>votes</th>\n",
       "    </tr>\n",
       "  </thead>\n",
       "  <tbody>\n",
       "    <tr>\n",
       "      <th>37</th>\n",
       "      <td>Zachary Scalf</td>\n",
       "      <td>29</td>\n",
       "    </tr>\n",
       "    <tr>\n",
       "      <th>26</th>\n",
       "      <td>Keith McCormic</td>\n",
       "      <td>127</td>\n",
       "    </tr>\n",
       "    <tr>\n",
       "      <th>13</th>\n",
       "      <td>Gary Swing</td>\n",
       "      <td>143</td>\n",
       "    </tr>\n",
       "    <tr>\n",
       "      <th>23</th>\n",
       "      <td>Jordan Scott</td>\n",
       "      <td>173</td>\n",
       "    </tr>\n",
       "    <tr>\n",
       "      <th>24</th>\n",
       "      <td>Joseph Kishore</td>\n",
       "      <td>192</td>\n",
       "    </tr>\n",
       "  </tbody>\n",
       "</table>\n",
       "</div>"
      ],
      "text/plain": [
       "         candidate  votes\n",
       "37   Zachary Scalf     29\n",
       "26  Keith McCormic    127\n",
       "13      Gary Swing    143\n",
       "23    Jordan Scott    173\n",
       "24  Joseph Kishore    192"
      ]
     },
     "metadata": {},
     "output_type": "display_data"
    },
    {
     "data": {
      "text/html": [
       "<div>\n",
       "<style scoped>\n",
       "    .dataframe tbody tr th:only-of-type {\n",
       "        vertical-align: middle;\n",
       "    }\n",
       "\n",
       "    .dataframe tbody tr th {\n",
       "        vertical-align: top;\n",
       "    }\n",
       "\n",
       "    .dataframe thead th {\n",
       "        text-align: right;\n",
       "    }\n",
       "</style>\n",
       "<table border=\"1\" class=\"dataframe\">\n",
       "  <thead>\n",
       "    <tr style=\"text-align: right;\">\n",
       "      <th></th>\n",
       "      <th>candidate</th>\n",
       "      <th>votes</th>\n",
       "    </tr>\n",
       "  </thead>\n",
       "  <tbody>\n",
       "    <tr>\n",
       "      <th>1</th>\n",
       "      <td>Write-ins</td>\n",
       "      <td>155165</td>\n",
       "    </tr>\n",
       "    <tr>\n",
       "      <th>15</th>\n",
       "      <td>Howie Hawkins</td>\n",
       "      <td>376714</td>\n",
       "    </tr>\n",
       "    <tr>\n",
       "      <th>19</th>\n",
       "      <td>Jo Jorgensen</td>\n",
       "      <td>1808321</td>\n",
       "    </tr>\n",
       "    <tr>\n",
       "      <th>12</th>\n",
       "      <td>Donald Trump</td>\n",
       "      <td>72691128</td>\n",
       "    </tr>\n",
       "    <tr>\n",
       "      <th>20</th>\n",
       "      <td>Joe Biden</td>\n",
       "      <td>78220235</td>\n",
       "    </tr>\n",
       "  </tbody>\n",
       "</table>\n",
       "</div>"
      ],
      "text/plain": [
       "        candidate     votes\n",
       "1       Write-ins    155165\n",
       "15  Howie Hawkins    376714\n",
       "19   Jo Jorgensen   1808321\n",
       "12   Donald Trump  72691128\n",
       "20      Joe Biden  78220235"
      ]
     },
     "metadata": {},
     "output_type": "display_data"
    }
   ],
   "source": [
    "by_candidate_sum = data.groupby(\"candidate\", as_index=False).sum()\n",
    "by_candidate_sum = by_candidate_sum.sort_values(by=\"votes\")\n",
    "\n",
    "display(by_candidate_sum.head()) #viser kun de fem første radene\n",
    "\n",
    "display(by_candidate_sum.tail()) #viser kun de fem siste radene"
   ]
  },
  {
   "cell_type": "markdown",
   "id": "d59635ce-de40-4312-99f2-e1841ce033de",
   "metadata": {},
   "source": [
    "Her innser vi for det første at det ar veldig mange kandidater. La oss så plotte resultatene for alle disse kandidatene:"
   ]
  },
  {
   "cell_type": "code",
   "execution_count": 12,
   "id": "2d99fe0f-5266-48d9-861e-6d079017f0e8",
   "metadata": {},
   "outputs": [
    {
     "data": {
      "image/png": "[encoded data removed]",
      "text/plain": [
       "<Figure size 720x432 with 1 Axes>"
      ]
     },
     "metadata": {
      "filenames": {
       "image/png": "/Users/mhjensen/Teaching/RefreshProgrammingSkills/_build/jupyter_execute/notebooks/Python/pandas_29_0.png"
      },
      "needs_background": "light"
     },
     "output_type": "display_data"
    }
   ],
   "source": [
    "plt.figure(figsize=(10,6))\n",
    "plt.bar(by_candidate_sum[\"candidate\"], by_candidate_sum[\"votes\"])\n",
    "plt.xticks(rotation=90)\n",
    "plt.show()"
   ]
  },
  {
   "cell_type": "markdown",
   "id": "3eec9e84-2481-4a3c-aa9b-18eefb5a9961",
   "metadata": {},
   "source": [
    "## Henting av subsets og kollaps av subsets"
   ]
  },
  {
   "cell_type": "markdown",
   "id": "df50bef0-ed8e-4437-9cf9-008e84c155c6",
   "metadata": {},
   "source": [
    "Hvis vi vil hente ut en del av dataene til en ny dataframe, som f.eks alle radene med Biden stemmer gjør vi det slik:"
   ]
  },
  {
   "cell_type": "code",
   "execution_count": 13,
   "id": "abadd328-2cad-498a-83c1-0caf5d7add0a",
   "metadata": {},
   "outputs": [],
   "source": [
    "biden = data[data[\"candidate\"] == \"Joe Biden\"]\n",
    "trump = data[data[\"candidate\"] == \"Donald Trump\"]"
   ]
  },
  {
   "cell_type": "markdown",
   "id": "09e27489-3adc-4d79-97a3-0ac263659a47",
   "metadata": {},
   "source": [
    "Hvis vi så vil slå sammen alle delene av dataene som har samme verdi for \"state\" gjør vi det slik. Her slår vi de sammen ved å summere verdiene, men det går også ann å ta gjennomsnitt eller bare telle antall rader."
   ]
  },
  {
   "cell_type": "code",
   "execution_count": 14,
   "id": "317e4b50-9897-489e-8830-e1fa3d8443ae",
   "metadata": {},
   "outputs": [],
   "source": [
    "biden_states = biden.groupby(\"state\").sum() #.mean() og .size() er også nyttige ofte!\n",
    "trump_states = trump.groupby(\"state\").sum()"
   ]
  },
  {
   "cell_type": "markdown",
   "id": "199c8d20-6c02-471e-84ed-290b0b6df9fa",
   "metadata": {},
   "source": [
    "Nå har vi to dataframes som holder antall stemmer hver kandidat har i hver stat, så vi kan f.eks regne ut forskjellen og plotte den:"
   ]
  },
  {
   "cell_type": "code",
   "execution_count": 15,
   "id": "1a1c636f-124b-4cb7-91cf-2d51143e0ca5",
   "metadata": {},
   "outputs": [
    {
     "data": {
      "image/png": "[encoded data removed]",
      "text/plain": [
       "<Figure size 864x432 with 1 Axes>"
      ]
     },
     "metadata": {
      "filenames": {
       "image/png": "/Users/mhjensen/Teaching/RefreshProgrammingSkills/_build/jupyter_execute/notebooks/Python/pandas_36_0.png"
      },
      "needs_background": "light"
     },
     "output_type": "display_data"
    }
   ],
   "source": [
    "diff_states = biden_states - trump_states\n",
    "\n",
    "plt.figure(figsize=(12,6))\n",
    "plt.bar(diff_states.index, diff_states[\"votes\"])\n",
    "plt.xticks(rotation=90)\n",
    "plt.show()"
   ]
  },
  {
   "cell_type": "markdown",
   "id": "75515492-9718-4040-9797-893224d6183e",
   "metadata": {},
   "source": [
    "## Masker for å effektivt hente subsets av subsets"
   ]
  },
  {
   "cell_type": "markdown",
   "id": "2983ea9c-9538-497b-8b9d-9642743afb8a",
   "metadata": {},
   "source": [
    "I forrige eksempel brukte vi en maske(rekke med `True` og `False` verdier) for å plukke ut verdiene vi ville ha med i dataframen `biden`.\n",
    "\n",
    "```\n",
    "biden = data[data[\"candidate\"] == \"Joe Biden\"]\n",
    "```\n",
    "\n",
    "Masken er det inni hakeparantesen, og kan bli lagret i en egen variabel:\n",
    "\n",
    "```\n",
    "biden_mask = data[\"candidate\"] == \"Joe Biden\"\n",
    "```\n",
    "Dette blir utrolig nyttig om vi skal ha tak i mange ulike subsets av subsets av dataen. Dette eksempelet illustrerer ikke dette veldig godt, siden vi har få kollonner å jobbe med, men i datasett med egenskaper som kjønn, alder og rase blir dette helt nødvendig for å effektivt hente alle mulige kombinasjoner som hvite menn, asiatiske kvinner etc."
   ]
  },
  {
   "cell_type": "code",
   "execution_count": 16,
   "id": "5a45b2bc-95aa-4856-816a-0091a5843d74",
   "metadata": {},
   "outputs": [],
   "source": [
    "import numpy as np"
   ]
  },
  {
   "cell_type": "code",
   "execution_count": 29,
   "id": "db057b8c-b3ef-46d6-b70a-665c1e32001f",
   "metadata": {},
   "outputs": [],
   "source": [
    "biden_mask = data[\"candidate\"] == \"Joe Biden\"\n",
    "trump_mask = data[\"candidate\"] == \"Donald Trump\"\n",
    "other = np.logical_not(np.logical_or(biden_mask, trump_mask)) #evt. ~(biden_mask | trump_mask)\n",
    "\n",
    "even = data[\"votes\"] % 2 == 0\n",
    "more10k = data[\"votes\"] >= 10000\n",
    "more100k = data[\"votes\"] >= 100000"
   ]
  },
  {
   "cell_type": "markdown",
   "id": "983e8315-2805-40d8-b79b-2a69fc487336",
   "metadata": {},
   "source": [
    "Vi kombinerer masker med numpy sine logiske funksjoner. Man kan også bruke python sine innebygde [bitwise operatorer](https://realpython.com/python-bitwise-operators/#overview-of-pythons-bitwise-operators).\n",
    "\n",
    "\n",
    "Hvis vi bare vil telle antall `True`, kan vi ta summen av masken. Hugs at masker også kan brukes til å hente ut en subset av dataen."
   ]
  },
  {
   "cell_type": "markdown",
   "id": "4c96c690-adc6-42cc-acba-5e8f7f0050a3",
   "metadata": {},
   "source": [
    "Trump fikk et partall antall stemmer i flere fylker:"
   ]
  },
  {
   "cell_type": "code",
   "execution_count": 30,
   "id": "c83d5cbf-8978-42ca-a2ad-ba8b0f86f33a",
   "metadata": {},
   "outputs": [
    {
     "name": "stdout",
     "output_type": "stream",
     "text": [
      "2354\n",
      "2381\n"
     ]
    }
   ],
   "source": [
    "print(np.logical_and(biden_mask, even).sum()) #evt. (biden_mask & even).sum()\n",
    "print(np.logical_and(trump_mask, even).sum())"
   ]
  },
  {
   "cell_type": "markdown",
   "id": "665a3547-5c85-447e-8c6b-d4775829e174",
   "metadata": {},
   "source": [
    "Trump fikk mer enn 10000 stemmer i flere fylker enn Biden:"
   ]
  },
  {
   "cell_type": "code",
   "execution_count": 31,
   "id": "595c6e76-c460-4f95-a8fb-73cc3f6d4744",
   "metadata": {},
   "outputs": [
    {
     "name": "stdout",
     "output_type": "stream",
     "text": [
      "932\n",
      "1347\n"
     ]
    }
   ],
   "source": [
    "print(np.logical_and(biden_mask, more10k).sum()) #evt. (biden_mask & more10k).sum()\n",
    "print(np.logical_and(trump_mask, more10k).sum())"
   ]
  },
  {
   "cell_type": "markdown",
   "id": "0f3594dd-6fda-4162-a96a-0ba9fb994fbd",
   "metadata": {},
   "source": [
    "Men Biden fikk med enn 100000 stemmer i flere fylker enn Trump!"
   ]
  },
  {
   "cell_type": "code",
   "execution_count": 32,
   "id": "610ed233-2c7e-41e6-9a34-e5ea2e737915",
   "metadata": {},
   "outputs": [
    {
     "name": "stdout",
     "output_type": "stream",
     "text": [
      "168\n",
      "136\n"
     ]
    }
   ],
   "source": [
    "print(np.logical_and(biden_mask, more100k).sum()) #evt. (biden_mask & more10k).sum()\n",
    "print(np.logical_and(trump_mask, more100k).sum())"
   ]
  },
  {
   "cell_type": "markdown",
   "id": "1fdcb738-1c96-4365-92d9-934ddf36c0b3",
   "metadata": {},
   "source": [
    "Vi kan lage en funksjon som sammenligner hvor mange fylker en maske gjelder for for hver kandidat. Denne kan vi bruke til å finne når Biden tok igjen Trump"
   ]
  },
  {
   "cell_type": "code",
   "execution_count": 21,
   "id": "d0a51432-0b15-4d2b-87bb-0bf90fa1a82b",
   "metadata": {},
   "outputs": [],
   "source": [
    "def trumpVbiden(subset_mask=True):\n",
    "    return np.logical_and(biden_mask, subset_mask).sum() < np.logical_and(trump_mask, subset_mask).sum()\n",
    "    #evt. (biden_mask & subset_mask).sum() < (trump_mask & subset_mask).sum()"
   ]
  },
  {
   "cell_type": "markdown",
   "id": "cd6f0c39-a475-44b5-85c8-64eeff37253d",
   "metadata": {},
   "source": [
    "Biden tar igjen Trump i antall fylker når man ser på fylker med 67114 stemmer eller flere."
   ]
  },
  {
   "cell_type": "code",
   "execution_count": 22,
   "id": "ef2a2f05-8a07-46b4-88d8-bef3e2b80eb0",
   "metadata": {},
   "outputs": [
    {
     "name": "stdout",
     "output_type": "stream",
     "text": [
      "67114\n"
     ]
    }
   ],
   "source": [
    "votes = 10000\n",
    "while trumpVbiden(data[\"votes\"] >= votes):\n",
    "    votes += 1\n",
    "    if votes > 100000:\n",
    "        break\n",
    "print(votes)"
   ]
  },
  {
   "cell_type": "markdown",
   "id": "a25d788f-d6da-45da-ae6a-2424628d0c10",
   "metadata": {},
   "source": [
    "For å finne hvilket fylke som var vippepunktet er det bare å lage en maske for 67113 stemmer. Trump mistet ledelsen i antall fylker når man ser på fylker med mer enn 67113 stemmer."
   ]
  },
  {
   "cell_type": "code",
   "execution_count": 23,
   "id": "e2c85868-5118-4d61-8b61-90de0874fa73",
   "metadata": {},
   "outputs": [
    {
     "data": {
      "text/html": [
       "<div>\n",
       "<style scoped>\n",
       "    .dataframe tbody tr th:only-of-type {\n",
       "        vertical-align: middle;\n",
       "    }\n",
       "\n",
       "    .dataframe tbody tr th {\n",
       "        vertical-align: top;\n",
       "    }\n",
       "\n",
       "    .dataframe thead th {\n",
       "        text-align: right;\n",
       "    }\n",
       "</style>\n",
       "<table border=\"1\" class=\"dataframe\">\n",
       "  <thead>\n",
       "    <tr style=\"text-align: right;\">\n",
       "      <th></th>\n",
       "      <th>state</th>\n",
       "      <th>county</th>\n",
       "      <th>candidate</th>\n",
       "      <th>party</th>\n",
       "      <th>votes</th>\n",
       "    </tr>\n",
       "  </thead>\n",
       "  <tbody>\n",
       "    <tr>\n",
       "      <th>18799</th>\n",
       "      <td>Texas</td>\n",
       "      <td>Bell County</td>\n",
       "      <td>Donald Trump</td>\n",
       "      <td>REP</td>\n",
       "      <td>67113</td>\n",
       "    </tr>\n",
       "  </tbody>\n",
       "</table>\n",
       "</div>"
      ],
      "text/plain": [
       "       state       county     candidate party  votes\n",
       "18799  Texas  Bell County  Donald Trump   REP  67113"
      ]
     },
     "execution_count": 23,
     "metadata": {},
     "output_type": "execute_result"
    }
   ],
   "source": [
    "data[data[\"votes\"] == votes-1]"
   ]
  },
  {
   "cell_type": "code",
   "execution_count": 24,
   "id": "9906d1e4-5bb2-4c6d-bb3b-70191eb1a3af",
   "metadata": {},
   "outputs": [
    {
     "name": "stdout",
     "output_type": "stream",
     "text": [
      "227\n",
      "227\n"
     ]
    }
   ],
   "source": [
    "print(np.logical_and(biden_mask, data[\"votes\"] >= votes).sum()) #evt. (biden_mask & (data[\"votes\"] >= votes)).sum()\n",
    "print(np.logical_and(trump_mask, data[\"votes\"] >= votes).sum())"
   ]
  },
  {
   "cell_type": "markdown",
   "id": "83a30beb-b796-44e0-b265-d89609e19622",
   "metadata": {},
   "source": [
    "## Kombinere DataFrames (Bonus)\n",
    " \n",
    "Noen ganger ønsker vi å kombinere tabeller. \n",
    "Vi er nå klare til å gjøre litt mer omfattende oppgaver. For eksempel om vi skal legge data fra presidentvalget inn i et kart. Da må vi kombinere kartdata og stemmedata. Vi kan bruke modulen `geopandas` til å lage figurer som viser fordelingen av stemmer rundt omkring i USA."
   ]
  },
  {
   "cell_type": "code",
   "execution_count": 25,
   "id": "5d158a9f-8970-48d8-8198-6ca2d8778552",
   "metadata": {},
   "outputs": [],
   "source": [
    "import geopandas as gp"
   ]
  },
  {
   "cell_type": "code",
   "execution_count": 26,
   "id": "1b5c66f9-4e6e-4208-9e88-807255e0fda7",
   "metadata": {},
   "outputs": [],
   "source": [
    "states = gp.read_file(\"https://www2.census.gov/geo/tiger/GENZ2018/shp/cb_2018_us_state_500k.zip\")"
   ]
  },
  {
   "cell_type": "markdown",
   "id": "d426683f-896a-4702-8052-0814de4f6758",
   "metadata": {},
   "source": [
    "Først fjerner vi alle små kandidater fra dataen. Vi må så summere stemmene hver kandidat har per stat. Så må vi vri om dataframen slik at statene blir kolonnene, hver kandidat har en rad og antall stemmer er verdiene. Så gjør vi antall stemmer om til andel av alle stemmen i den staten. Til slutt slår vi sammen kartet og dataframen med alle stemmene slik at de kan dele data om hver stat. Da kan vi plotte og få andel av stemmer inn i kartet."
   ]
  },
  {
   "cell_type": "code",
   "execution_count": 40,
   "id": "8b0b554d-2d48-44e5-8c15-bd350d8edb7b",
   "metadata": {},
   "outputs": [
    {
     "data": {
      "image/png": "[encoded data removed]",
      "text/plain": [
       "<Figure size 1152x432 with 2 Axes>"
      ]
     },
     "metadata": {
      "filenames": {
       "image/png": "/Users/mhjensen/Teaching/RefreshProgrammingSkills/_build/jupyter_execute/notebooks/Python/pandas_59_0.png"
      },
      "needs_background": "light"
     },
     "output_type": "display_data"
    }
   ],
   "source": [
    "trumpOrBiden = data[(data[\"candidate\"] == \"Donald Trump\") | (data[\"candidate\"] == \"Joe Biden\")] #used bitwise or\n",
    "votes_by_state = trumpOrBiden.groupby([\"state\", \"candidate\"], as_index=False)[\"votes\"].sum()\n",
    "votes_pivot = votes_by_state.pivot(index=\"state\", columns=\"candidate\", values=\"votes\")\n",
    "votes_share = votes_pivot.div(votes_pivot.sum(axis=1), axis=0)\n",
    "\n",
    "plotting_df = pd.merge(states, votes_share, left_on=\"NAME\", right_on=\"state\")\n",
    "\n",
    "plotting_df.plot(figsize=(16, 6), column=\"Donald Trump\", cmap=\"bwr\", legend=True, vmin=0.4, vmax=0.6)\n",
    "plt.xlim(-180, -63)\n",
    "plt.title(\"Donal Trump\")\n",
    "plt.show()"
   ]
  },
  {
   "cell_type": "markdown",
   "id": "2fd3cdab-7b79-4089-a55b-b426bea49705",
   "metadata": {},
   "source": [
    "Større bredde av verdier lar oss se forskjellene mellom de røde statene og mellom de blå statene bedre, men gjør vippestatene vanskeligere å avklare."
   ]
  },
  {
   "cell_type": "code",
   "execution_count": 39,
   "id": "d20b55ff-bb1b-49ef-864f-4af930c10474",
   "metadata": {},
   "outputs": [
    {
     "data": {
      "image/png": "[encoded data removed]",
      "text/plain": [
       "<Figure size 1152x432 with 2 Axes>"
      ]
     },
     "metadata": {
      "filenames": {
       "image/png": "/Users/mhjensen/Teaching/RefreshProgrammingSkills/_build/jupyter_execute/notebooks/Python/pandas_61_0.png"
      },
      "needs_background": "light"
     },
     "output_type": "display_data"
    }
   ],
   "source": [
    "plotting_df.plot(figsize=(16, 6), column=\"Donald Trump\", cmap=\"bwr\", legend=True, vmin=0.2, vmax=0.8)\n",
    "plt.xlim(-180, -63)\n",
    "plt.title(\"Donal Trump\")\n",
    "plt.show()"
   ]
  }
 ],
 "metadata": {
  "kernelspec": {
   "display_name": "Python 3",
   "language": "python",
   "name": "python3"
  },
  "language_info": {
   "codemirror_mode": {
    "name": "ipython",
    "version": 3
   },
   "file_extension": ".py",
   "mimetype": "text/x-python",
   "name": "python",
   "nbconvert_exporter": "python",
   "pygments_lexer": "ipython3",
   "version": "3.9.10"
  }
 },
 "nbformat": 4,
 "nbformat_minor": 5
}