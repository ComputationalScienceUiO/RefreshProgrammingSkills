{
 "cells": [
  {
   "cell_type": "markdown",
   "id": "cb1e232e",
   "metadata": {},
   "source": [
    "# Linalg and numpy - Exercises"
   ]
  },
  {
   "cell_type": "markdown",
   "id": "f11dd576",
   "metadata": {},
   "source": [
    "In these exercises you will practice linear algebra in addition to the numpy library"
   ]
  },
  {
   "cell_type": "markdown",
   "id": "2bc9e749",
   "metadata": {},
   "source": [
    "### Task 1) Some basic numpy operations"
   ]
  },
  {
   "cell_type": "markdown",
   "id": "3ad2f4a9",
   "metadata": {},
   "source": [
    "a) Check your numpy version and make sure the newest version is installed. You can use the following command:"
   ]
  },
  {
   "cell_type": "code",
   "execution_count": 1,
   "id": "69b5f19b",
   "metadata": {},
   "outputs": [
    {
     "ename": "NameError",
     "evalue": "name 'np' is not defined",
     "output_type": "error",
     "traceback": [
      "\u001b[0;31m---------------------------------------------------------------------------\u001b[0m",
      "\u001b[0;31mNameError\u001b[0m                                 Traceback (most recent call last)",
      "\u001b[0;32m<ipython-input-1-8c601e3b9b2a>\u001b[0m in \u001b[0;36m<module>\u001b[0;34m\u001b[0m\n\u001b[0;32m----> 1\u001b[0;31m \u001b[0mnp\u001b[0m\u001b[0;34m.\u001b[0m\u001b[0m__version__\u001b[0m\u001b[0;34m\u001b[0m\u001b[0;34m\u001b[0m\u001b[0m\n\u001b[0m",
      "\u001b[0;31mNameError\u001b[0m: name 'np' is not defined"
     ]
    }
   ],
   "source": [
    "np.__version__"
   ]
  },
  {
   "cell_type": "markdown",
   "id": "7506ba4e",
   "metadata": {},
   "source": [
    "The newest version per 18/8/21 should be version 1.21.0"
   ]
  },
  {
   "cell_type": "markdown",
   "id": "ae9655c9",
   "metadata": {},
   "source": [
    "b) Create a matrix fillesd with 1's at each element. The matrix should be of shape 10x10, do not use numpy"
   ]
  },
  {
   "cell_type": "markdown",
   "id": "a88d5696",
   "metadata": {},
   "source": [
    "c) Now do the same thing as in b), but use numpy this time. **Bonus exercise:** Measure the time difference between the two implementations in ecercise b) and c)"
   ]
  },
  {
   "cell_type": "markdown",
   "id": "dfb058a2",
   "metadata": {},
   "source": [
    "d1) First create an array of elements in an aranged order from 0 to 9, using np.arange."
   ]
  },
  {
   "cell_type": "markdown",
   "id": "3494882a",
   "metadata": {},
   "source": [
    "d2) Then use np.reshape to resahpe the array into the following matrix:\n",
    "\n",
    "$$\n",
    "\\begin{equation*}\n",
    "\\begin{pmatrix}\n",
    "1 & 4 & 7  \\\\\n",
    "2 & 5 & 8  \\\\\n",
    "3  & 6  & 9\n",
    "\\end{pmatrix}\n",
    "\\end{equation*}\n",
    "$$"
   ]
  },
  {
   "cell_type": "markdown",
   "id": "04d3380b",
   "metadata": {},
   "source": [
    "d3) Next task is to create some conditional statement, making all elements that are larger than 5 to be set as 1, and all elements that are less than 5 is set to 0, elements equal to 5 is unchanged."
   ]
  },
  {
   "cell_type": "markdown",
   "id": "ac50330a",
   "metadata": {},
   "source": [
    "e) Create three random 1d arrays x, y and z of length 3. Use the numpy function vstack and hstack to stack the arrays both vertically and horizontally as a matrix."
   ]
  },
  {
   "cell_type": "markdown",
   "id": "47c8e314",
   "metadata": {},
   "source": [
    "f) Create a random array of size 10. Print the mean, standard deviation and the variance using numpy"
   ]
  },
  {
   "cell_type": "markdown",
   "id": "5dc2655c",
   "metadata": {},
   "source": [
    "### Task 2) A bit of linear algebra"
   ]
  },
  {
   "cell_type": "markdown",
   "id": "4f546d90",
   "metadata": {},
   "source": [
    "a) Create a random matrix of size 3x3, containing only integers. Find the eigenvalues and eigenvectors using numpy."
   ]
  },
  {
   "cell_type": "markdown",
   "id": "d5e1d3ac",
   "metadata": {},
   "source": [
    "b) Is this matrix invertible? Compute the determinant"
   ]
  },
  {
   "cell_type": "markdown",
   "id": "d22932db",
   "metadata": {},
   "source": [
    "c) If the matrix is invertible, find the invertible matrix"
   ]
  },
  {
   "cell_type": "markdown",
   "id": "349abb94",
   "metadata": {},
   "source": [
    "d) Check if the following matrix is symmetric, real orthogonal, hermitian and unitary. Also find the norm of the matrix. \n",
    "    \n",
    "$$\n",
    "\\begin{equation*}\n",
    "\\begin{pmatrix}\n",
    "1-i & 1+i  \\\\\n",
    "1+i & 1-i\n",
    "\\end{pmatrix}\n",
    "\\end{equation*}\n",
    "$$"
   ]
  },
  {
   "cell_type": "markdown",
   "id": "db098a24",
   "metadata": {},
   "source": [
    "e) Find the LU decomposition of matrix A:\n",
    "\n",
    "$$\n",
    "\\begin{equation*}\n",
    "A=\\begin{pmatrix}\n",
    "1 & 2 & 4  \\\\\n",
    "3 & 8 & 14  \\\\\n",
    "2  & 6  & 13\n",
    "\\end{pmatrix}\n",
    "\\end{equation*}\n",
    "$$\n",
    "\n",
    "What are the matrices L and U? You can try using numpy or scipy.linalg\n",
    "    "
   ]
  },
  {
   "cell_type": "code",
   "execution_count": null,
   "id": "e7ae5df1",
   "metadata": {},
   "outputs": [],
   "source": []
  }
 ],
 "metadata": {
  "kernelspec": {
   "display_name": "Python 3",
   "language": "python",
   "name": "python3"
  },
  "language_info": {
   "codemirror_mode": {
    "name": "ipython",
    "version": 3
   },
   "file_extension": ".py",
   "mimetype": "text/x-python",
   "name": "python",
   "nbconvert_exporter": "python",
   "pygments_lexer": "ipython3",
   "version": "3.9.10"
  }
 },
 "nbformat": 4,
 "nbformat_minor": 5
}