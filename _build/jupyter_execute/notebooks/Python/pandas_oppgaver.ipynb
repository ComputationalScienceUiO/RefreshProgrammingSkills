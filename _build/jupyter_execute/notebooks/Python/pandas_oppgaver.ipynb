{
 "cells": [
  {
   "cell_type": "markdown",
   "metadata": {},
   "source": [
    "# pandas - Exercises\n",
    "\n",
    "Her følger øvingsopgaver som passer å gjøre etter første undervisningsøkt i kurset. "
   ]
  },
  {
   "cell_type": "markdown",
   "metadata": {},
   "source": [
    "**a)** Last ned filen \"bestsellers with categories.xls\" [her](https://www.kaggle.com/sootersaalu/amazon-top-50-bestselling-books-2009-2019), og les den inn med pandas.\n",
    "\n",
    "**b)** Behandling av data:\n",
    "- Datasettet har noen bøker med flere ganger. Fjern duplikatene med `.drop_duplicates(\"Name\")`\n",
    "- Fjern navnet på boken og forfatteren fra dataen\n",
    "- Fjern alle bøker med mindre enn 1000 anmeldelser\n",
    "\n",
    "**c)** Plot \n",
    "- Gjennomsnittlig anmeldelsesskårer for fiksjon og sakprosa\n",
    "- Gjennomsnittlig anmeldelsesskårer for hvert utgivelsesår.\n",
    "- Antall bøker for hver score\n",
    "- Antall anmeldelser for hver score\n",
    "\n",
    "**d)** Hvor mange fiksjonsbøker fra 2017 fikk en score bedre enn 4.6?"
   ]
  },
  {
   "cell_type": "code",
   "execution_count": null,
   "metadata": {},
   "outputs": [],
   "source": []
  }
 ],
 "metadata": {
  "kernelspec": {
   "display_name": "Python 3",
   "language": "python",
   "name": "python3"
  },
  "language_info": {
   "codemirror_mode": {
    "name": "ipython",
    "version": 3
   },
   "file_extension": ".py",
   "mimetype": "text/x-python",
   "name": "python",
   "nbconvert_exporter": "python",
   "pygments_lexer": "ipython3",
   "version": "3.9.10"
  }
 },
 "nbformat": 4,
 "nbformat_minor": 4
}