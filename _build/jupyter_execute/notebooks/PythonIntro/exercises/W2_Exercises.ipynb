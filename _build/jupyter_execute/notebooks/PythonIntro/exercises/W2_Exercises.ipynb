{
 "cells": [
  {
   "cell_type": "markdown",
   "metadata": {},
   "source": [
    "# Exercises"
   ]
  },
  {
   "cell_type": "markdown",
   "metadata": {},
   "source": [
    "If you ever get really stuck on an exercise, skip it and **ask for help!**"
   ]
  },
  {
   "cell_type": "markdown",
   "metadata": {},
   "source": [
    "## Exercise 1 - Lists"
   ]
  },
  {
   "cell_type": "markdown",
   "metadata": {},
   "source": [
    "**a)** Create a list with five names. Use a loop to print greetings including each name."
   ]
  },
  {
   "cell_type": "code",
   "execution_count": 1,
   "metadata": {
    "tags": [
     "hide-cell"
    ]
   },
   "outputs": [
    {
     "name": "stdout",
     "output_type": "stream",
     "text": [
      "Good day Nils!\n",
      "Good day Olav!\n",
      "Good day Ivar!\n",
      "Good day Levi!\n",
      "Good day Kristian!\n"
     ]
    }
   ],
   "source": [
    "names = [\"Nils\", \"Olav\", \"Ivar\", \"Levi\", \"Kristian\"]\n",
    "\n",
    "n = len(names)\n",
    "i = 0\n",
    "while i < n:\n",
    "    name = names[i]\n",
    "    print(\"Good day \" + name + \"!\")\n",
    "    i = i + 1"
   ]
  },
  {
   "cell_type": "markdown",
   "metadata": {},
   "source": [
    "**b)** Create a list with ten integers.\n",
    "- Change the first element to be equal to the fifth\n",
    "- Print the third element\n",
    "- Add 5 to all elements (while loop)\n",
    "- Swap the first and last elements\n",
    "- Remove the second element of the list using `removedElement = myList.pop(index)`. We won't use `pop()` much in this course, but we introduce it here as it will be used in exercise 6."
   ]
  },
  {
   "cell_type": "code",
   "execution_count": 2,
   "metadata": {
    "tags": [
     "hide-cell"
    ]
   },
   "outputs": [
    {
     "name": "stdout",
     "output_type": "stream",
     "text": [
      "1450\n",
      "[47, 1455, 206, 19, 6, 5, 9, 17, 19]\n"
     ]
    }
   ],
   "source": [
    "numbers = [4, 13, 1450, 201, 14, 1, 0, 4, 12, 42]\n",
    "\n",
    "numbers[0] = numbers[4]\n",
    "print(numbers[2])\n",
    "\n",
    "n = len(numbers)\n",
    "i = 0\n",
    "while i < n:\n",
    "    numbers[i] = numbers[i] + 5\n",
    "    i = i + 1\n",
    "    \n",
    "temp = numbers[0]\n",
    "numbers[0] = numbers[n - 1]\n",
    "numbers[n - 1] = temp\n",
    "\n",
    "removedElement = numbers.pop(1)\n",
    "\n",
    "print(numbers)"
   ]
  },
  {
   "cell_type": "markdown",
   "metadata": {},
   "source": [
    "## Exercise 2- Loops"
   ]
  },
  {
   "cell_type": "markdown",
   "metadata": {},
   "source": [
    "**a)** Write a program that prints all even numbers from 0 to 20."
   ]
  },
  {
   "cell_type": "code",
   "execution_count": 3,
   "metadata": {
    "tags": [
     "hide-cell"
    ]
   },
   "outputs": [
    {
     "name": "stdout",
     "output_type": "stream",
     "text": [
      "0\n",
      "2\n",
      "4\n",
      "6\n",
      "8\n",
      "10\n",
      "12\n",
      "14\n",
      "16\n",
      "18\n",
      "20\n"
     ]
    }
   ],
   "source": [
    "i = 0\n",
    "while i < 21:\n",
    "    print(i)\n",
    "    i = i + 2"
   ]
  },
  {
   "cell_type": "markdown",
   "metadata": {},
   "source": [
    "**b)** Print the 7 times table."
   ]
  },
  {
   "cell_type": "code",
   "execution_count": 4,
   "metadata": {
    "tags": [
     "hide-cell"
    ]
   },
   "outputs": [
    {
     "name": "stdout",
     "output_type": "stream",
     "text": [
      "0\n",
      "7\n",
      "14\n",
      "21\n",
      "28\n",
      "35\n",
      "42\n",
      "49\n",
      "56\n",
      "63\n",
      "70\n"
     ]
    }
   ],
   "source": [
    "for i in range(0, 71, 7):\n",
    "    print(i)"
   ]
  },
  {
   "cell_type": "markdown",
   "metadata": {},
   "source": [
    "**c)** Create a list with the numbers $\\frac{1}{1}$, $\\frac{1}{2^2}$, $\\frac{1}{3^2}$, $\\frac{1}{4^2}$ and so on, with 1000000 elements."
   ]
  },
  {
   "cell_type": "code",
   "execution_count": 5,
   "metadata": {
    "tags": [
     "hide-cell"
    ]
   },
   "outputs": [],
   "source": [
    "nums = []\n",
    "\n",
    "for i in range(1, 1000001):\n",
    "    nums.append(1/i**2)"
   ]
  },
  {
   "cell_type": "markdown",
   "metadata": {},
   "source": [
    "**d)** Find the sum of every element in your list from **c)**, multiply it by 6, and take its square root. Is there anything special about the result?"
   ]
  },
  {
   "cell_type": "code",
   "execution_count": 6,
   "metadata": {
    "tags": [
     "hide-cell"
    ]
   },
   "outputs": [
    {
     "name": "stdout",
     "output_type": "stream",
     "text": [
      "3.1415916986605086\n"
     ]
    }
   ],
   "source": [
    "total = 0\n",
    "\n",
    "for i in nums:\n",
    "    total = total + i\n",
    "    \n",
    "total = (total * 6)**0.5\n",
    "\n",
    "print(total) # It's an approximation for pi!"
   ]
  },
  {
   "cell_type": "markdown",
   "metadata": {},
   "source": [
    "**e)** Write a program that finds the sum of all odd numbers from 1 to 1001. How can you test that your program works?"
   ]
  },
  {
   "cell_type": "code",
   "execution_count": 7,
   "metadata": {
    "tags": [
     "hide-cell"
    ]
   },
   "outputs": [
    {
     "name": "stdout",
     "output_type": "stream",
     "text": [
      "251001\n"
     ]
    }
   ],
   "source": [
    "total = 0\n",
    "for i in range(1, 1002, 2):\n",
    "    total += i\n",
    "    \n",
    "print(total) # You can test your program by making sure it works for cases you can check by hand like the odd numbers up to 7 and 11"
   ]
  },
  {
   "cell_type": "markdown",
   "metadata": {},
   "source": [
    "***f)** Create a list with 10 numbers. Reverse it without using any built-in functions or tricks (like `myList.reverse()` or `myList = myList[::-1]`)."
   ]
  },
  {
   "cell_type": "code",
   "execution_count": 8,
   "metadata": {
    "tags": [
     "hide-cell"
    ]
   },
   "outputs": [
    {
     "name": "stdout",
     "output_type": "stream",
     "text": [
      "[9, 8, 7, 6, 5, 4, 3, 2, 1, 0]\n"
     ]
    }
   ],
   "source": [
    "numbers = [0, 1, 2, 3, 4, 5, 6, 7, 8, 9]\n",
    "\n",
    "n = len(numbers)\n",
    "\n",
    "for i in range(int(n/2)): # looping halfway through the list\n",
    "    temp = numbers[i]\n",
    "    numbers[i] = numbers[n-1-i]\n",
    "    numbers[n-1-i] = temp # swapping the first and last elements and doing the same moving inwards\n",
    "\n",
    "print(numbers)"
   ]
  },
  {
   "cell_type": "markdown",
   "metadata": {},
   "source": [
    "## *Exercise 3 - Sorting Algorithm"
   ]
  },
  {
   "cell_type": "markdown",
   "metadata": {},
   "source": [
    "**Important note!** Refrain from using functions such as `sorted()` and `min()` to solve this exercise, as the point is implementing your own algorithms using loops, if-statements and lists. Feel free to use `len()`, `pop()` (removes element) and `append()`. In all other cases you *really* should use functions like `sorted()` and `min()` though!\n",
    "\n",
    "Sorting algorithms are some of the most used algorithms in the world. When you make an online search, the search engine sorts the results after relevance. Shopping sites let you choose between different criteria for sorting their products. And of course, Netflix sorts movies and shows after what is most likely to keep you subscribed.\n",
    "\n",
    "The simplest case however, is sorting a list of numbers. There are many different ways of sorting numbers, each one with its pros and cons. The sorting algorithm outlined here is slow and uses a lot of space compared to more advanced sorting algorithms. It is however, a good exercise in algorithmic thinking.\n",
    "\n",
    "Here is a list of numbers:"
   ]
  },
  {
   "cell_type": "code",
   "execution_count": 9,
   "metadata": {},
   "outputs": [],
   "source": [
    "numbers = [5,1,6,3,2,6,1,1,4,78,4,12,12,6,23,12,4,3,34,2,1,43,7,7,2,3,4,214,5,1,2,7684,325,135,12353145,2,0,0,123,3,5,1,2,5,7,43,23,1]"
   ]
  },
  {
   "cell_type": "markdown",
   "metadata": {},
   "source": [
    "**a)** Find the smallest number in this list."
   ]
  },
  {
   "cell_type": "code",
   "execution_count": 10,
   "metadata": {
    "tags": [
     "hide-cell"
    ]
   },
   "outputs": [
    {
     "name": "stdout",
     "output_type": "stream",
     "text": [
      "0\n"
     ]
    }
   ],
   "source": [
    "small = numbers[0]\n",
    "\n",
    "length = len(numbers)\n",
    "\n",
    "i = 0\n",
    "while i < length:\n",
    "    if numbers[i] < small:\n",
    "        small = numbers[i]\n",
    "    i = i + 1\n",
    "    \n",
    "print(small)"
   ]
  },
  {
   "cell_type": "markdown",
   "metadata": {},
   "source": [
    "**b)** Find the index of the smallest number in this list."
   ]
  },
  {
   "cell_type": "code",
   "execution_count": 11,
   "metadata": {
    "tags": [
     "hide-cell"
    ]
   },
   "outputs": [
    {
     "name": "stdout",
     "output_type": "stream",
     "text": [
      "36\n"
     ]
    }
   ],
   "source": [
    "small = numbers[0]\n",
    "smallIndex = 0\n",
    "\n",
    "length = len(numbers)\n",
    "\n",
    "i = 0\n",
    "while i < length:\n",
    "    if numbers[i] < small:\n",
    "        small = numbers[i]\n",
    "        smallIndex = i\n",
    "    i = i + 1\n",
    "    \n",
    "print(smallIndex)"
   ]
  },
  {
   "cell_type": "markdown",
   "metadata": {},
   "source": [
    "**c)** Remove the smallest number from this list using `smallest = numbers.pop(index)`."
   ]
  },
  {
   "cell_type": "code",
   "execution_count": 12,
   "metadata": {
    "tags": [
     "hide-cell"
    ]
   },
   "outputs": [],
   "source": [
    "smallest = numbers.pop(smallIndex)"
   ]
  },
  {
   "cell_type": "markdown",
   "metadata": {},
   "source": [
    "**d)** Create a new list `sortedNumbers` and add the smallest element from `numbers` to it using `sortedNumbers.append(smallest)`"
   ]
  },
  {
   "cell_type": "code",
   "execution_count": 13,
   "metadata": {
    "tags": [
     "hide-cell"
    ]
   },
   "outputs": [],
   "source": [
    "sortedNumbers = []\n",
    "sortedNumbers.append(smallest)"
   ]
  },
  {
   "cell_type": "markdown",
   "metadata": {},
   "source": [
    "**e)** Fill `sortedNumbers` with all of the numbers from `numbers` in ascending order. **Hint:** Make the code from **b)**, **c)** and **d)** run `len(numbers)` times."
   ]
  },
  {
   "cell_type": "code",
   "execution_count": 14,
   "metadata": {
    "tags": [
     "hide-cell"
    ]
   },
   "outputs": [
    {
     "name": "stdout",
     "output_type": "stream",
     "text": [
      "[0, 0, 1, 1, 1, 1, 1, 1, 1, 2, 2, 2, 2, 2, 2, 3, 3, 3, 3, 4, 4, 4, 4, 5, 5, 5, 5, 6, 6, 6, 7, 7, 7, 12, 12, 12, 23, 23, 34, 43, 43, 78, 123, 135, 214, 325, 7684, 12353145]\n"
     ]
    }
   ],
   "source": [
    "length = len(numbers)\n",
    "\n",
    "i = 0\n",
    "while i < length: #Running the code from b, c and d len(numbers) times\n",
    "    small = numbers[0]\n",
    "    smallIndex = 0\n",
    "    newLength = len(numbers) #The search for the new smallest number now goes over fewer elements\n",
    "    j = 0\n",
    "    while j < newLength:\n",
    "        if numbers[j] < small:\n",
    "            small = numbers[j]\n",
    "            smallIndex = j\n",
    "        j = j + 1\n",
    "    smallest = numbers.pop(smallIndex)\n",
    "    sortedNumbers.append(smallest) #.append() adds an element to the end of the list, so this ends up sorting all the numbers\n",
    "    \n",
    "    i = i + 1\n",
    "\n",
    "print(sortedNumbers)"
   ]
  }
 ],
 "metadata": {
  "kernelspec": {
   "display_name": "Python 3",
   "language": "python",
   "name": "python3"
  },
  "language_info": {
   "codemirror_mode": {
    "name": "ipython",
    "version": 3
   },
   "file_extension": ".py",
   "mimetype": "text/x-python",
   "name": "python",
   "nbconvert_exporter": "python",
   "pygments_lexer": "ipython3",
   "version": "3.9.10"
  }
 },
 "nbformat": 4,
 "nbformat_minor": 4
}