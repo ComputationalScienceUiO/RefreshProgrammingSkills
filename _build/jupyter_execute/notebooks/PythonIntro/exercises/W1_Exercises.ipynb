{
 "cells": [
  {
   "cell_type": "markdown",
   "metadata": {},
   "source": [
    "# Exercises"
   ]
  },
  {
   "cell_type": "markdown",
   "metadata": {},
   "source": [
    "If you ever get really stuck on an exercise, skip it and **ask for help!**"
   ]
  },
  {
   "cell_type": "markdown",
   "metadata": {},
   "source": [
    "## Exercise 1 - Variables"
   ]
  },
  {
   "cell_type": "markdown",
   "metadata": {},
   "source": [
    "**a)** What is a variable? Why do you think they are called variables?"
   ]
  },
  {
   "cell_type": "markdown",
   "metadata": {
    "tags": []
   },
   "source": [
    "```{toggle}\n",
    "A variable is a storage adress associated with a variable name. Some value is stored at the adress. They might be called variables because their values can vary during the execution of a program.\n",
    "```"
   ]
  },
  {
   "cell_type": "markdown",
   "metadata": {},
   "source": [
    "**b)** Define two integers and print their sum."
   ]
  },
  {
   "cell_type": "code",
   "execution_count": 1,
   "metadata": {
    "tags": [
     "hide-cell"
    ]
   },
   "outputs": [
    {
     "name": "stdout",
     "output_type": "stream",
     "text": [
      "21464\n"
     ]
    }
   ],
   "source": [
    "a = 50\n",
    "b = 21414\n",
    "print(a + b)"
   ]
  },
  {
   "cell_type": "markdown",
   "metadata": {},
   "source": [
    "**c)** Define two strings, add them together (`+`), and print the result."
   ]
  },
  {
   "cell_type": "code",
   "execution_count": 2,
   "metadata": {
    "tags": [
     "hide-cell"
    ]
   },
   "outputs": [
    {
     "name": "stdout",
     "output_type": "stream",
     "text": [
      "Bob Ross\n"
     ]
    }
   ],
   "source": [
    "first = \"Bob\"\n",
    "last = \" Ross\"\n",
    "print(first + last)"
   ]
  },
  {
   "cell_type": "markdown",
   "metadata": {},
   "source": [
    "**d)** Let `a`, `b` and `c` be declared like in the code below. Use a fourth variable to swap the values of `a` and `b`, and then `b` and `c`."
   ]
  },
  {
   "cell_type": "code",
   "execution_count": 3,
   "metadata": {
    "tags": [
     "hide-cell"
    ]
   },
   "outputs": [],
   "source": [
    "a = 1\n",
    "b = 2\n",
    "c = 3\n",
    "\n",
    "temp = a\n",
    "a = b\n",
    "b = temp\n",
    "\n",
    "temp = b\n",
    "b = c\n",
    "c = temp"
   ]
  },
  {
   "cell_type": "markdown",
   "metadata": {},
   "source": [
    "**e)** What will this code output?\n",
    "\n",
    "    a = 3\n",
    "    b = a\n",
    "    a = 5\n",
    "    print(b)"
   ]
  },
  {
   "cell_type": "markdown",
   "metadata": {
    "tags": []
   },
   "source": [
    "```{toggle}\n",
    "It will output `3`, as b was defined to be the value of `a` when `a` was `3`.\n",
    "```"
   ]
  },
  {
   "cell_type": "markdown",
   "metadata": {},
   "source": [
    "**f)** What is the difference between `3`, `3.0`, `'3'`, `'''3'''` and `\"3\"`?"
   ]
  },
  {
   "cell_type": "markdown",
   "metadata": {
    "tags": []
   },
   "source": [
    "```{toggle}\n",
    "In order, their type is: integer, float, string, string, string.\n",
    "```"
   ]
  },
  {
   "cell_type": "markdown",
   "metadata": {},
   "source": [
    "**g)** What variable type should be used to store:\n",
    "- Whether Wednesday's weather will water wallflowers\n",
    "- The number Wednesdays on which it has rained before\n",
    "- The probability of it raining on Wednesday\n",
    "- A description of Wednesday's weather"
   ]
  },
  {
   "cell_type": "markdown",
   "metadata": {
    "tags": []
   },
   "source": [
    "```{toggle}\n",
    "- Whether Wednesday's weather will water wallflowers - boolean\n",
    "- The number Wednesdays on which it has rained before - integer\n",
    "- The probability of it raining on Wednesday - float\n",
    "- A description of Wednesday's weather - string\n",
    "```"
   ]
  },
  {
   "cell_type": "markdown",
   "metadata": {},
   "source": [
    "**h)** What happens when you try to print the following:\n",
    "- `1/0`\n",
    "- `variableName(40)`\n",
    "- `\"Ola\" + 5`\n",
    "- `\"Ola\", 5`"
   ]
  },
  {
   "cell_type": "markdown",
   "metadata": {
    "tags": []
   },
   "source": [
    "```{toggle}\n",
    "- `1/0` - You will get a zero division error\n",
    "- `variableName(40)` - You will get an error as you are trying to call a function which is undefined. Or if variableName is a defined variable, you will get an error from trying to call a variable as a function.\n",
    "- `\"Ola\" + 5` - You will get an error as you cannot add together strings and integer\n",
    "- `\"Ola\", 5` - You will print \"Ola 5\"\n",
    "```"
   ]
  },
  {
   "cell_type": "markdown",
   "metadata": {},
   "source": [
    "## Exercise 2 - Decisions"
   ]
  },
  {
   "cell_type": "markdown",
   "metadata": {},
   "source": [
    "**a)** Write a program that prints whether a number is larger than 10."
   ]
  },
  {
   "cell_type": "code",
   "execution_count": 4,
   "metadata": {
    "tags": [
     "hide-cell"
    ]
   },
   "outputs": [
    {
     "name": "stdout",
     "output_type": "stream",
     "text": [
      "The number is not larger than 10\n"
     ]
    }
   ],
   "source": [
    "number = 10\n",
    "\n",
    "if number > 10:\n",
    "    print(\"The number is larger than 10\")\n",
    "else:\n",
    "    print(\"The number is not larger than 10\")"
   ]
  },
  {
   "cell_type": "markdown",
   "metadata": {},
   "source": [
    "**b)** Write a program that declares two integers, `smallest` and `largest`. Make it so that if `smallest` is the largest number, the values are swapped."
   ]
  },
  {
   "cell_type": "code",
   "execution_count": 5,
   "metadata": {
    "tags": [
     "hide-cell"
    ]
   },
   "outputs": [],
   "source": [
    "smallest = 40\n",
    "largest = 12\n",
    "\n",
    "if largest < smallest:\n",
    "    temp = smallest\n",
    "    smallest = largest\n",
    "    largest = temp"
   ]
  },
  {
   "cell_type": "markdown",
   "metadata": {},
   "source": [
    "**c)** Write a program that grants any loan under 1 million to anyone between the ages of 18 and 80."
   ]
  },
  {
   "cell_type": "code",
   "execution_count": 6,
   "metadata": {
    "tags": [
     "hide-cell"
    ]
   },
   "outputs": [
    {
     "name": "stdout",
     "output_type": "stream",
     "text": [
      "Yes\n"
     ]
    }
   ],
   "source": [
    "age = 33\n",
    "loanAmount = 999999\n",
    "\n",
    "if age > 18 and age < 80:\n",
    "    if loanAmount < 1000000:\n",
    "        print(\"Yes\")\n",
    "    else:\n",
    "        print(\"No\")\n",
    "else:\n",
    "    print(\"No\")"
   ]
  },
  {
   "cell_type": "markdown",
   "metadata": {},
   "source": [
    "**d)** Write a program that grants a loan randomly, with different probabilites depending on some factor like gender, age or loan amount. (using `randint()`)"
   ]
  },
  {
   "cell_type": "code",
   "execution_count": 7,
   "metadata": {
    "tags": [
     "hide-cell"
    ]
   },
   "outputs": [
    {
     "name": "stdout",
     "output_type": "stream",
     "text": [
      "No\n"
     ]
    }
   ],
   "source": [
    "from random import randint\n",
    "\n",
    "age = 33\n",
    "loanAmount = 999999\n",
    "\n",
    "if age > 33: #50% of people older than 33 are given loans under 100k\n",
    "    if randint(1, 2) == 1 and loanAmount < 100000:\n",
    "        print(\"Yes\")\n",
    "    else:\n",
    "        print(\"No\")\n",
    "else: #20% of people 33 or under are given loans under 100k\n",
    "    if randint(1, 5) == 1 and loanAmount < 100000:\n",
    "        print(\"Yes\")\n",
    "    else:\n",
    "        print(\"No\")"
   ]
  },
  {
   "cell_type": "markdown",
   "metadata": {},
   "source": [
    "## Exercise 3 - Random number generation"
   ]
  },
  {
   "cell_type": "markdown",
   "metadata": {},
   "source": [
    "**a)** Write a program that prints a random whole number from 0 to 50."
   ]
  },
  {
   "cell_type": "code",
   "execution_count": 8,
   "metadata": {
    "tags": [
     "hide-cell"
    ]
   },
   "outputs": [
    {
     "name": "stdout",
     "output_type": "stream",
     "text": [
      "26\n"
     ]
    }
   ],
   "source": [
    "num = randint(0, 50)\n",
    "print(num)"
   ]
  },
  {
   "cell_type": "markdown",
   "metadata": {},
   "source": [
    "**b)** Write a program that prints a random even number from 0 to 100."
   ]
  },
  {
   "cell_type": "code",
   "execution_count": 9,
   "metadata": {
    "tags": [
     "hide-cell"
    ]
   },
   "outputs": [
    {
     "name": "stdout",
     "output_type": "stream",
     "text": [
      "96\n"
     ]
    }
   ],
   "source": [
    "evenNum = randint(0, 50) * 2\n",
    "print(evenNum)"
   ]
  },
  {
   "cell_type": "markdown",
   "metadata": {},
   "source": [
    "**c)** Write a program that prints out \"Heads\" 49% of the time, \"Tails\" 49% of the time, and \"Standing\" 2% of the time."
   ]
  },
  {
   "cell_type": "code",
   "execution_count": 10,
   "metadata": {
    "tags": [
     "hide-cell"
    ]
   },
   "outputs": [
    {
     "name": "stdout",
     "output_type": "stream",
     "text": [
      "Tails\n"
     ]
    }
   ],
   "source": [
    "result = randint(1,100)\n",
    "\n",
    "if result <= 49: #1 to 49 is 49%\n",
    "    print(\"Heads\")\n",
    "elif result <= 98: #50 to 98 is 49% \n",
    "    print(\"Tails\")\n",
    "else: #99 and 100 is 2%\n",
    "    print(\"Standing\")"
   ]
  },
  {
   "cell_type": "markdown",
   "metadata": {},
   "source": [
    "**d)** Write a program that generates 5 random coin tosses (50% heads, 50% tails), and prints out the total number of heads."
   ]
  },
  {
   "cell_type": "code",
   "execution_count": 11,
   "metadata": {
    "tags": [
     "hide-cell"
    ]
   },
   "outputs": [
    {
     "name": "stdout",
     "output_type": "stream",
     "text": [
      "The total number of heads is 4\n"
     ]
    }
   ],
   "source": [
    "heads = 0\n",
    "heads = heads + randint(0,1)\n",
    "heads = heads + randint(0,1)\n",
    "heads = heads + randint(0,1)\n",
    "heads = heads + randint(0,1)\n",
    "heads = heads + randint(0,1)\n",
    "\n",
    "print(\"The total number of heads is\", heads)"
   ]
  },
  {
   "cell_type": "markdown",
   "metadata": {},
   "source": [
    "**e)** Write a program that throws an error 50% of the time."
   ]
  },
  {
   "cell_type": "code",
   "execution_count": 12,
   "metadata": {
    "tags": [
     "hide-cell"
    ]
   },
   "outputs": [
    {
     "ename": "ZeroDivisionError",
     "evalue": "division by zero",
     "output_type": "error",
     "traceback": [
      "\u001b[0;31m---------------------------------------------------------------------------\u001b[0m",
      "\u001b[0;31mZeroDivisionError\u001b[0m                         Traceback (most recent call last)",
      "\u001b[0;32m<ipython-input-12-cf9f6b316dbe>\u001b[0m in \u001b[0;36m<module>\u001b[0;34m\u001b[0m\n\u001b[1;32m      2\u001b[0m \u001b[0;34m\u001b[0m\u001b[0m\n\u001b[1;32m      3\u001b[0m \u001b[0;32mif\u001b[0m \u001b[0mcoin\u001b[0m \u001b[0;34m==\u001b[0m \u001b[0;36m0\u001b[0m\u001b[0;34m:\u001b[0m\u001b[0;34m\u001b[0m\u001b[0;34m\u001b[0m\u001b[0m\n\u001b[0;32m----> 4\u001b[0;31m     \u001b[0mprint\u001b[0m\u001b[0;34m(\u001b[0m\u001b[0;36m1\u001b[0m\u001b[0;34m/\u001b[0m\u001b[0;36m0\u001b[0m\u001b[0;34m)\u001b[0m\u001b[0;34m\u001b[0m\u001b[0;34m\u001b[0m\u001b[0m\n\u001b[0m\u001b[1;32m      5\u001b[0m \u001b[0;32melse\u001b[0m\u001b[0;34m:\u001b[0m\u001b[0;34m\u001b[0m\u001b[0;34m\u001b[0m\u001b[0m\n\u001b[1;32m      6\u001b[0m     \u001b[0mprint\u001b[0m\u001b[0;34m(\u001b[0m\u001b[0;34m\"Phew!\"\u001b[0m\u001b[0;34m)\u001b[0m\u001b[0;34m\u001b[0m\u001b[0;34m\u001b[0m\u001b[0m\n",
      "\u001b[0;31mZeroDivisionError\u001b[0m: division by zero"
     ]
    }
   ],
   "source": [
    "coin = randint(0,1)\n",
    "\n",
    "if coin == 0:\n",
    "    print(1/0)\n",
    "else:\n",
    "    print(\"Phew!\")"
   ]
  }
 ],
 "metadata": {
  "kernelspec": {
   "display_name": "Python 3",
   "language": "python",
   "name": "python3"
  },
  "language_info": {
   "codemirror_mode": {
    "name": "ipython",
    "version": 3
   },
   "file_extension": ".py",
   "mimetype": "text/x-python",
   "name": "python",
   "nbconvert_exporter": "python",
   "pygments_lexer": "ipython3",
   "version": "3.9.10"
  }
 },
 "nbformat": 4,
 "nbformat_minor": 4
}