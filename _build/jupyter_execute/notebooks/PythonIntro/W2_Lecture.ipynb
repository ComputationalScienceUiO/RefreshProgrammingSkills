{
 "cells": [
  {
   "cell_type": "markdown",
   "metadata": {},
   "source": [
    "# Lists and Loops\n",
    "\n",
    "## Learning Goals\n",
    "\n",
    "After this week, the student will be able to:\n",
    "- Write programs using lists\n",
    "- Write programs using for-loops\n",
    "- Access and manipulate relevant features of strings"
   ]
  },
  {
   "cell_type": "markdown",
   "metadata": {},
   "source": [
    "## Lists"
   ]
  },
  {
   "cell_type": "markdown",
   "metadata": {},
   "source": [
    "Lists are used for storing many variables in a compact way. You make one using brackets."
   ]
  },
  {
   "cell_type": "code",
   "execution_count": 5,
   "metadata": {},
   "outputs": [
    {
     "name": "stdout",
     "output_type": "stream",
     "text": [
      "[10, 'Stephen', 40, 99, False, 'Fry']\n"
     ]
    }
   ],
   "source": [
    "mylist = [10, \"Stephen\", 40, 99, False, \"Fry\"]\n",
    "print(mylist)"
   ]
  },
  {
   "cell_type": "markdown",
   "metadata": {},
   "source": [
    "You can access specific elements in a list by writing the name of the list next to brackets with an index inside them."
   ]
  },
  {
   "cell_type": "code",
   "execution_count": 6,
   "metadata": {},
   "outputs": [
    {
     "name": "stdout",
     "output_type": "stream",
     "text": [
      "10\n"
     ]
    }
   ],
   "source": [
    "print(mylist[0])"
   ]
  },
  {
   "cell_type": "markdown",
   "metadata": {},
   "source": [
    "The first element in a list has the index 0, the second element has the index 1 and so on."
   ]
  },
  {
   "cell_type": "code",
   "execution_count": 53,
   "metadata": {},
   "outputs": [
    {
     "name": "stdout",
     "output_type": "stream",
     "text": [
      "first\n",
      "third\n",
      "['second', 'fourth', 'sixth']\n"
     ]
    }
   ],
   "source": [
    "words = [\"first\", \"second\", \"third\", \"fourth\", \"fifth\", \"sixth\"]\n",
    "print(words[0])\n",
    "print(words[2])\n",
    "print(words[1:5:2]) # Extra: Slicing! This gives elements from start:stop:step. In this case the elements with index 1 and 3."
   ]
  },
  {
   "cell_type": "markdown",
   "metadata": {},
   "source": [
    "While a variable can be though of like an address in computer memory with a specific value, a list is more like a parking lot. The list also has an address, but to get or store a value you need to specify a parking spot."
   ]
  },
  {
   "cell_type": "markdown",
   "metadata": {},
   "source": [
    "You can add elements to the end of a list by using the method `.append()`. Methods are like functions, only they need to be used on something. The `.append()` method for instance, needs to be used on a list."
   ]
  },
  {
   "cell_type": "code",
   "execution_count": 33,
   "metadata": {},
   "outputs": [
    {
     "name": "stdout",
     "output_type": "stream",
     "text": [
      "['first', 'second', 'third', 'fourth', 'fifth', 30]\n"
     ]
    }
   ],
   "source": [
    "words.append(\"fifth\")\n",
    "words.append(30)\n",
    "print(words)"
   ]
  },
  {
   "cell_type": "markdown",
   "metadata": {},
   "source": [
    "You can change the elements of a list by using indexes."
   ]
  },
  {
   "cell_type": "code",
   "execution_count": 34,
   "metadata": {},
   "outputs": [
    {
     "name": "stdout",
     "output_type": "stream",
     "text": [
      "['first', 'something else', 'third', 'fourth', 'fifth', 30]\n"
     ]
    }
   ],
   "source": [
    "words[1] = \"something else\"\n",
    "print(words)"
   ]
  },
  {
   "cell_type": "markdown",
   "metadata": {},
   "source": [
    "You can find the length of a list by using the function `len()`."
   ]
  },
  {
   "cell_type": "code",
   "execution_count": 35,
   "metadata": {},
   "outputs": [
    {
     "name": "stdout",
     "output_type": "stream",
     "text": [
      "6\n"
     ]
    }
   ],
   "source": [
    "print(len(words))"
   ]
  },
  {
   "cell_type": "markdown",
   "metadata": {},
   "source": [
    "The `in` keyword checks if a value appears in a list and returns `True` or `False`."
   ]
  },
  {
   "cell_type": "code",
   "execution_count": 37,
   "metadata": {},
   "outputs": [
    {
     "name": "stdout",
     "output_type": "stream",
     "text": [
      "The string exists in the list\n"
     ]
    }
   ],
   "source": [
    "if \"third\" in words:\n",
    "    print(\"The string exists in the list\")"
   ]
  },
  {
   "cell_type": "markdown",
   "metadata": {},
   "source": [
    "---\n",
    "\n",
    "### In-Class Lists exercises"
   ]
  },
  {
   "cell_type": "markdown",
   "metadata": {},
   "source": [
    "**a)** Create a list filled with the names of your favorite movies and shows.\n",
    "- Use `.append()` to add an element to it.\n",
    "- Print the second element of the list\n",
    "- Change the second element of the list to \"Better Call Saul\"\n",
    "- Print the second element of the list\n",
    "- Print the length of your list\n",
    "---"
   ]
  },
  {
   "cell_type": "markdown",
   "metadata": {},
   "source": [
    "## For loops"
   ]
  },
  {
   "cell_type": "markdown",
   "metadata": {},
   "source": [
    "One of the biggest strengths of computers is their ability to do many small operations over and over. Complex operations like performing statistical analysis, translating millions of sentences and simulating the spread of a disease cannot be done in one fell swoop, they must be broken into smaller parts which together give the correct result.\n",
    "\n",
    "The simplest way of performing many small operations with code is using loops. Loops are used to run code over and over again. In Python there are two types of loops, while-loops and for-loops. We will focus on using for-loops, since they are more useful for our purposes.\n",
    "\n",
    "If we wish to print \"Hello World!\" three times it can be done like this:"
   ]
  },
  {
   "cell_type": "code",
   "execution_count": 10,
   "metadata": {},
   "outputs": [
    {
     "name": "stdout",
     "output_type": "stream",
     "text": [
      "Hello World!\n",
      "Hello World!\n",
      "Hello World!\n"
     ]
    }
   ],
   "source": [
    "for i in range(3):\n",
    "    print(\"Hello World!\")"
   ]
  },
  {
   "cell_type": "markdown",
   "metadata": {},
   "source": [
    "`i` is the iteration variable. It can be used inside the loop."
   ]
  },
  {
   "cell_type": "code",
   "execution_count": 2,
   "metadata": {},
   "outputs": [
    {
     "name": "stdout",
     "output_type": "stream",
     "text": [
      "The iteration variable has the value 0\n",
      "The iteration variable has the value 1\n",
      "The iteration variable has the value 2\n"
     ]
    }
   ],
   "source": [
    "for i in range(3):\n",
    "    print(f\"The iteration variable has the value {i}\")"
   ]
  },
  {
   "cell_type": "markdown",
   "metadata": {},
   "source": [
    "The `range()` function determines how many times the `for` loop is run, and which values the iteration variable `i` will have for each iteration. `range(3)` makes the code inside the loop run once for each of the `i` values `0` -> `1` -> `2`. `range(100)` would make the code inside the loop run once for each of the values `0` -> `1` -> ... -> `98` -> `99` (100 times in total).\n",
    "\n",
    "The `range()` function can also be used in a slightly different way. You can give it a number to start from, a number where to stop and a step length. `range(2, 12, 2)` would make the code inside the loop run for each of the `i` values `2` -> `4` -> `6` -> `8` -> `10`. The order of the arguments are `range(start, stop before, step)`. The iteration variable can have any name."
   ]
  },
  {
   "cell_type": "code",
   "execution_count": 16,
   "metadata": {},
   "outputs": [
    {
     "name": "stdout",
     "output_type": "stream",
     "text": [
      "2\n",
      "4\n",
      "6\n",
      "8\n",
      "10\n",
      "The total is 30\n"
     ]
    }
   ],
   "source": [
    "total = 0 # declared BEFORE the loop!\n",
    "\n",
    "for number in range(2, 12, 2):\n",
    "    print(number)\n",
    "    \n",
    "    total += number # updating INSIDE the loop\n",
    "    \n",
    "print(f\"The total is {total}\") # printing AFTER the loop"
   ]
  },
  {
   "cell_type": "markdown",
   "metadata": {},
   "source": [
    "---\n",
    "\n",
    "### In-Class For-loop Exercises\n",
    "\n",
    "**a)** Write a program which prints \"Karma\" 5 times. Then \"Chameleon\" 1 time. Then \"You come and go\" 2 times. Use loops for **all** repeated printing!\n",
    "\n",
    "**b)** Using a for loop with a start, stop and step lenght, calculate the sum of all odd numbers from 1 to and including 101. To make sure you have the right approach, you can try from 1 to 7 first.\n",
    "\n",
    "**c)** Were both of these exercises a good use of loops?\n",
    "\n",
    "---"
   ]
  },
  {
   "cell_type": "markdown",
   "metadata": {},
   "source": [
    "### Iterating through a list\n",
    "\n",
    "A very useful use-case for a `for` loop is iterating through a list. Instead of making the iteration variable the numbers that the `range()` function gives us, we can make it go through the elements of a list using the `in` keyword."
   ]
  },
  {
   "cell_type": "code",
   "execution_count": 14,
   "metadata": {},
   "outputs": [
    {
     "name": "stdout",
     "output_type": "stream",
     "text": [
      "5\n",
      "30\n",
      "7\n",
      "2\n"
     ]
    }
   ],
   "source": [
    "myList = [5, 30, 7, 2]\n",
    "\n",
    "for element in myList:\n",
    "    print(element)"
   ]
  },
  {
   "cell_type": "markdown",
   "metadata": {},
   "source": [
    "Just like how you can put multiple `if` sentences inside eachother, you can put a `for` loop inside another `for` loop."
   ]
  },
  {
   "cell_type": "code",
   "execution_count": 13,
   "metadata": {},
   "outputs": [
    {
     "name": "stdout",
     "output_type": "stream",
     "text": [
      "i = 0 -- j = 0\n",
      "i = 0 -- j = 1\n",
      "i = 0 -- j = 2\n",
      "i = 1 -- j = 0\n",
      "i = 1 -- j = 1\n",
      "i = 1 -- j = 2\n"
     ]
    }
   ],
   "source": [
    "for i in range(2): #i is 0 then 1\n",
    "    for j in range(3): #j is 0 then 1 then 2\n",
    "        print(f\"i = {i} -- j = {j}\")"
   ]
  },
  {
   "cell_type": "markdown",
   "metadata": {},
   "source": [
    "---\n",
    "\n",
    "### In-Class Looping Through Lists Exercises\n",
    "\n",
    "**a)** Create a list of five names, then iterate through it printing out each name with a greeting.\n",
    "\n",
    "**b)** Extend the previous program so that the greeting is different if the name is your name.\n",
    "\n",
    "**c)** Create a list with five numbers, then calculate the total of all the numbers.\n",
    "\n",
    "**d)** Create a list with five numbers, then calculate the average.\n",
    "\n",
    "---"
   ]
  },
  {
   "cell_type": "markdown",
   "metadata": {},
   "source": [
    "## Advanced List Indexing"
   ]
  },
  {
   "cell_type": "markdown",
   "metadata": {},
   "source": [
    "There are a few different ways to access elements in a list. You are already familiar with using an index inside of brackets."
   ]
  },
  {
   "cell_type": "code",
   "execution_count": 1,
   "metadata": {},
   "outputs": [
    {
     "name": "stdout",
     "output_type": "stream",
     "text": [
      "4\n"
     ]
    }
   ],
   "source": [
    "myList = [1, 2, 3, 4, 5, 6, 7]\n",
    "print(myList[3])"
   ]
  },
  {
   "cell_type": "markdown",
   "metadata": {},
   "source": [
    "You can also use negative indexes. `-1` gives to the last element, `-2` the second to last and so on."
   ]
  },
  {
   "cell_type": "code",
   "execution_count": 2,
   "metadata": {},
   "outputs": [
    {
     "name": "stdout",
     "output_type": "stream",
     "text": [
      "7\n",
      "6\n"
     ]
    }
   ],
   "source": [
    "print(myList[-1])\n",
    "print(myList[-2])"
   ]
  },
  {
   "cell_type": "markdown",
   "metadata": {},
   "source": [
    "You can also use what is called slicing to get only some of the elements of the list. Slicing works like this: `myList[from:to]` returns all of the elements from index `from` to index `to`, not including the element at index `to`. You can also slice with `myList[to:from:step]`, which does the same thing, but only includes every `step` elements."
   ]
  },
  {
   "cell_type": "code",
   "execution_count": 3,
   "metadata": {},
   "outputs": [
    {
     "name": "stdout",
     "output_type": "stream",
     "text": [
      "[2, 3, 4, 5, 6]\n",
      "[2, 4, 6]\n"
     ]
    }
   ],
   "source": [
    "print(myList[1:6])\n",
    "print(myList[1:6:2])"
   ]
  }
 ],
 "metadata": {
  "kernelspec": {
   "display_name": "Python 3",
   "language": "python",
   "name": "python3"
  },
  "language_info": {
   "codemirror_mode": {
    "name": "ipython",
    "version": 3
   },
   "file_extension": ".py",
   "mimetype": "text/x-python",
   "name": "python",
   "nbconvert_exporter": "python",
   "pygments_lexer": "ipython3",
   "version": "3.9.10"
  }
 },
 "nbformat": 4,
 "nbformat_minor": 4
}