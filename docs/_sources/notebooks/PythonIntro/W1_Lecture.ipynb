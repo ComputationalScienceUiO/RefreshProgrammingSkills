{
 "cells": [
  {
   "cell_type": "markdown",
   "metadata": {},
   "source": [
    "# Variables and Decisions\n",
    "\n",
    "## Learning Goals:\n",
    "\n",
    "After this week, the student will be able to:\n",
    "- Declare variables\n",
    "- Do simple maths in Python\n",
    "- Write programs using *if* and *else* statements\n",
    "- Generate random numbers in python"
   ]
  },
  {
   "cell_type": "markdown",
   "metadata": {},
   "source": [
    "## Introduction"
   ]
  },
  {
   "cell_type": "markdown",
   "metadata": {},
   "source": [
    "This course will teach you how to write code in the Python programming language. For our purposes code is instructions that computers can follow to complete tasks and solve problems for us."
   ]
  },
  {
   "cell_type": "markdown",
   "metadata": {},
   "source": [
    "## Hello world!"
   ]
  },
  {
   "cell_type": "markdown",
   "metadata": {},
   "source": [
    "To get started with coding, it is customary to write a \"Hello world!\" program, a program that prints the words \"Hello world!\" to the screen. In Python, this program looks like this:"
   ]
  },
  {
   "cell_type": "code",
   "execution_count": 1,
   "metadata": {},
   "outputs": [
    {
     "name": "stdout",
     "output_type": "stream",
     "text": [
      "Hello world!\n"
     ]
    }
   ],
   "source": [
    "print(\"Hello world!\")"
   ]
  },
  {
   "cell_type": "markdown",
   "metadata": {},
   "source": [
    "To write and run this program, you first need to open a code editor like jupyter lab (or Spyder or <a href=\"https://repl.it/languages/Python3\">repl.it/languages/Python3</a>), then create a file with a suitable name(something like `hello.py` or `hello.ipynb` for notebooks) **in a folder you can find later**. Write `print(\"Hello world!\")` in your file, and finally run your program.\n",
    "\n",
    "The \"Hello world\" program contains two new and useful concepts:\n",
    "\n",
    "The first is the string `\"Hello world!\"` inside the parentheses. In programming, strings are one of the basic data types used to store information. Strings are used to store text. To create one you need to surround the text you want to store with quotes like this: `\"This is a string\"`.\n",
    "\n",
    "The second thing is the function `print()`. Whatever you put inside the parentheses will be written in the console. Nearly every single program in this course will include the `print()` function, we use it whenever we want our program to output some text. You will become familiar with many other functions during this course, and even make your own. Functions take some input inside the parentheses, and perform some action."
   ]
  },
  {
   "cell_type": "markdown",
   "metadata": {},
   "source": [
    "## Variables"
   ]
  },
  {
   "cell_type": "markdown",
   "metadata": {},
   "source": [
    "Variables are used to store numbers and text among other things. Variables are useful beacuse we often want to save useful information in our programs in order to access it later. You declare a variable by giving it a name and a value. Let's start by storing the number `5` in the variable `a`."
   ]
  },
  {
   "cell_type": "code",
   "execution_count": 2,
   "metadata": {},
   "outputs": [],
   "source": [
    "a = 5"
   ]
  },
  {
   "cell_type": "markdown",
   "metadata": {},
   "source": [
    "Now the variable with the name `a` holds the value `5`. You can try running `print(a)` to see what happens."
   ]
  },
  {
   "cell_type": "code",
   "execution_count": 3,
   "metadata": {},
   "outputs": [
    {
     "name": "stdout",
     "output_type": "stream",
     "text": [
      "5\n"
     ]
    }
   ],
   "source": [
    "print(a)"
   ]
  },
  {
   "cell_type": "markdown",
   "metadata": {},
   "source": [
    "The number `5` was printed to the console, since printing the variable `a` prints its value and not its name. You can create as many variables as you want, and you can name them almost anything.\n",
    "\n",
    "```{admonition} Extra: Names you can't use for variables\n",
    ":class: toggle\n",
    "A variable name can't be a number, a special character or an important Python keyword like `print`. If a keyword is used for something else, it changes color in some editors, examples of such keywords are `if`, `else`, `sum` and `type`. Don't use these names for your variables, as you'll overwrite useful functions. Try naming a variable `print` and see what happens when you then try to print something.\n",
    "\n",
    "```\n",
    "\n",
    "You can think of a variable as being an adress in your computer memory, and at that adress you store some value. When you want to access a value, you use its address to find it.\n",
    "\n",
    "There are different **types** of variables that you should familiarize yourself with:"
   ]
  },
  {
   "cell_type": "markdown",
   "metadata": {},
   "source": [
    "### Integers and Floats"
   ]
  },
  {
   "cell_type": "markdown",
   "metadata": {},
   "source": [
    "In Python, whole numbers are stored as **integers** and decimal numbers are stored as **floats**. They are declared in the same way though, so you often don't need to worry about the distinction. When doing calculations in Python, you can think of integers and floats as just being numbers. This is not the case in all other languages though.\n",
    "\n",
    "To declare an integer, do as before and assign a whole number to a variable. To declare a float, assign a decimal number to a variable."
   ]
  },
  {
   "cell_type": "code",
   "execution_count": 4,
   "metadata": {},
   "outputs": [],
   "source": [
    "thisNumber = 42\n",
    "otherNumber = 2.718"
   ]
  },
  {
   "cell_type": "markdown",
   "metadata": {},
   "source": [
    "You can add, subtract, multiply and divide in Python like this"
   ]
  },
  {
   "cell_type": "code",
   "execution_count": 5,
   "metadata": {},
   "outputs": [],
   "source": [
    "total = 5 + 1\n",
    "difference = 8 - 1\n",
    "product = 13 * 2\n",
    "quotient = 21 / 3"
   ]
  },
  {
   "cell_type": "markdown",
   "metadata": {},
   "source": [
    "To see the actual results we can print the value of the variables"
   ]
  },
  {
   "cell_type": "code",
   "execution_count": 6,
   "metadata": {},
   "outputs": [
    {
     "name": "stdout",
     "output_type": "stream",
     "text": [
      "6\n",
      "7\n",
      "26\n",
      "7.0\n"
     ]
    }
   ],
   "source": [
    "print(total)\n",
    "print(difference)\n",
    "print(product)\n",
    "print(quotient)"
   ]
  },
  {
   "cell_type": "markdown",
   "metadata": {},
   "source": [
    "You can use variables as if they were numbers when doing calculations:"
   ]
  },
  {
   "cell_type": "code",
   "execution_count": 7,
   "metadata": {},
   "outputs": [
    {
     "name": "stdout",
     "output_type": "stream",
     "text": [
      "20\n"
     ]
    }
   ],
   "source": [
    "print(product - total)"
   ]
  },
  {
   "cell_type": "markdown",
   "metadata": {},
   "source": [
    "There are other operations you can do in Python as well. Exponents are done with two multiplication signs. You can also take a square root by raising a number to the power of `0.5`."
   ]
  },
  {
   "cell_type": "code",
   "execution_count": 8,
   "metadata": {},
   "outputs": [
    {
     "name": "stdout",
     "output_type": "stream",
     "text": [
      "8\n",
      "5.0\n"
     ]
    }
   ],
   "source": [
    "exponents = 2**3\n",
    "print(exponents)\n",
    "print(25**0.5)"
   ]
  },
  {
   "cell_type": "markdown",
   "metadata": {},
   "source": [
    "Parentheses work just like in regular maths.\n",
    "\n",
    "**NOTE:** Remember to put an operator between numbers and parentheses though, or Python will treat the number like a function and your program won't run."
   ]
  },
  {
   "cell_type": "code",
   "execution_count": 9,
   "metadata": {},
   "outputs": [
    {
     "name": "stdout",
     "output_type": "stream",
     "text": [
      "25\n"
     ]
    }
   ],
   "source": [
    "parentheses = 5  * (2 + 3)\n",
    "print(parentheses)"
   ]
  },
  {
   "cell_type": "markdown",
   "metadata": {},
   "source": [
    "This won't work: `parentheses = 5(2 + 3)`, neither will this: `result = thisNumber(2 + 4)`, because Python tries to use `thisNumber` as a function instead of a variable when you use parentheses like this."
   ]
  },
  {
   "cell_type": "markdown",
   "metadata": {},
   "source": [
    "---\n",
    "\n",
    "### In-Class Number Exercises"
   ]
  },
  {
   "cell_type": "markdown",
   "metadata": {},
   "source": [
    "**a)** Store the result of `1 + 1` in a variable and print it.\n",
    "\n",
    "**b)** Store two different numbers in two variables. Add the variables together and print out the result.\n",
    "\n",
    "**c)** Do calculations using all of the operators and print out the results.\n",
    "\n",
    "---"
   ]
  },
  {
   "cell_type": "markdown",
   "metadata": {},
   "source": [
    "### Strings"
   ]
  },
  {
   "cell_type": "markdown",
   "metadata": {},
   "source": [
    "Let's declare some strings. Remember that you need to surround text with quotes when declaring strings. Single, double and triple quotes will all work."
   ]
  },
  {
   "cell_type": "code",
   "execution_count": 10,
   "metadata": {},
   "outputs": [],
   "source": [
    "first = 'Stephen'\n",
    "middle = \"John\"\n",
    "last = '''Fry'''"
   ]
  },
  {
   "cell_type": "markdown",
   "metadata": {},
   "source": [
    "You can combine strings with `+`, and  make strings repeat by multiplying them with whole numbers, "
   ]
  },
  {
   "cell_type": "code",
   "execution_count": 11,
   "metadata": {},
   "outputs": [
    {
     "name": "stdout",
     "output_type": "stream",
     "text": [
      "StephenJohnFry\n",
      "StephenStephenStephenStephenStephen\n",
      "Stephen John Fry\n"
     ]
    }
   ],
   "source": [
    "print(first + middle +  last)\n",
    "print(first * 5)\n",
    "print(first + \" \" + middle + \" \" + last)"
   ]
  },
  {
   "cell_type": "markdown",
   "metadata": {},
   "source": [
    "Strings can contain almost any text, as long as you surround it with quotes."
   ]
  },
  {
   "cell_type": "code",
   "execution_count": 12,
   "metadata": {},
   "outputs": [
    {
     "name": "stdout",
     "output_type": "stream",
     "text": [
      "Spaces   numbers 2020 'other types of quotes'\n",
      "55\n"
     ]
    }
   ],
   "source": [
    "myText = \"Spaces   numbers 2020 'other types of quotes'\"\n",
    "five = \"5\"\n",
    "print(myText)\n",
    "print(five * 2)"
   ]
  },
  {
   "cell_type": "markdown",
   "metadata": {},
   "source": [
    "A problem arises if your text contains quotation marks. `print(\"He cried: \"Oh no\"\")` creates the string `\"He cried: \"` and the empty string `\"\"`, and a mess in between that ruins the code. To avoid this problem, python uses the escape character `\\` - placing this escape character before a special character (like `\\n`, which creates a linebreak) renders it a normal character in the string: `print(\"He cried: \\\"Oh no\\\"\")`. You could also use a different type of quotation marks on the outside: `print('He cried: \"Oh no\"')`.\n",
    "\n",
    "A simple way of printing strings and numbers together is to use a comma between them."
   ]
  },
  {
   "cell_type": "code",
   "execution_count": 13,
   "metadata": {},
   "outputs": [
    {
     "name": "stdout",
     "output_type": "stream",
     "text": [
      "The best number is 129 without a doubt\n"
     ]
    }
   ],
   "source": [
    "print(\"The best number is\", 43 * 3, \"without a doubt\")"
   ]
  },
  {
   "cell_type": "markdown",
   "metadata": {},
   "source": [
    "### Better printing:"
   ]
  },
  {
   "cell_type": "markdown",
   "metadata": {},
   "source": [
    "A much better way of adding numbers or variables in the middle of text is to use f-strings (the f is for \"format\"). Put an f in front of the quotation marks, and use curly brackets where you want to add numbers or variables."
   ]
  },
  {
   "cell_type": "code",
   "execution_count": 1,
   "metadata": {},
   "outputs": [
    {
     "name": "stdout",
     "output_type": "stream",
     "text": [
      "The best number is 129 without a doubt\n"
     ]
    }
   ],
   "source": [
    "print(f\"The best number is {43 * 3} without a doubt\")"
   ]
  },
  {
   "cell_type": "code",
   "execution_count": 3,
   "metadata": {},
   "outputs": [
    {
     "name": "stdout",
     "output_type": "stream",
     "text": [
      "My name is Bond, James Bond.\n"
     ]
    }
   ],
   "source": [
    "first = \"James\"\n",
    "last = \"Bond\"\n",
    "print(f\"My name is {last}, {first} {last}.\")"
   ]
  },
  {
   "cell_type": "markdown",
   "metadata": {},
   "source": [
    "You can also use f-strings to round numbers, which can be useful when trying to make results more readable. To round a number to two decimals, add `:.2f` at the end of the curly bracket with a number. You can change the `2` to include more or fewer decimals. By adding `:.0f` after a number you can add it to the string without any decimals."
   ]
  },
  {
   "cell_type": "code",
   "execution_count": 1,
   "metadata": {},
   "outputs": [
    {
     "name": "stdout",
     "output_type": "stream",
     "text": [
      "The best number is 3.142857142857143 without a doubt, or maybe 3.14, or maybe even 3\n"
     ]
    }
   ],
   "source": [
    "print(f\"The best number is {22/7} without a doubt, or maybe {22/7:.2f}, or maybe even {22/7:.0f}\")"
   ]
  },
  {
   "cell_type": "markdown",
   "metadata": {},
   "source": [
    "If you want to print the name and value of a variable, it can be done like this:"
   ]
  },
  {
   "cell_type": "code",
   "execution_count": 1,
   "metadata": {},
   "outputs": [
    {
     "name": "stdout",
     "output_type": "stream",
     "text": [
      "number = 42\n"
     ]
    }
   ],
   "source": [
    "number = 42\n",
    "print(f\"{number = }\")"
   ]
  },
  {
   "cell_type": "markdown",
   "metadata": {},
   "source": [
    "---\n",
    "\n",
    "### In-Class String Exercises"
   ]
  },
  {
   "cell_type": "markdown",
   "metadata": {},
   "source": [
    "**a)** Store your name in a string. Using this string, make the computer print out that you're doing a good job.\n",
    "\n",
    "**b)** Store you age as an integer. Using this integer, print out that it is your age.\n",
    "\n",
    "**c)** Store the value `5.555` in a variable called `myFloat`. Using string formatting, `print` the value of `myFloat` with one decimal."
   ]
  },
  {
   "cell_type": "markdown",
   "metadata": {},
   "source": [
    "---"
   ]
  },
  {
   "cell_type": "markdown",
   "metadata": {},
   "source": [
    "### Changing a variable"
   ]
  },
  {
   "cell_type": "markdown",
   "metadata": {},
   "source": [
    "If you assign two different values to a variable with the same name, the last value is the one that will be stored."
   ]
  },
  {
   "cell_type": "code",
   "execution_count": 14,
   "metadata": {},
   "outputs": [
    {
     "name": "stdout",
     "output_type": "stream",
     "text": [
      "40\n"
     ]
    }
   ],
   "source": [
    "b = \"Text\"\n",
    "b = 40 #b now stores an integer, and not the string \"Text\"\n",
    "print(b)"
   ]
  },
  {
   "cell_type": "markdown",
   "metadata": {},
   "source": [
    "You can assign the value of one variable to another."
   ]
  },
  {
   "cell_type": "code",
   "execution_count": 15,
   "metadata": {},
   "outputs": [
    {
     "name": "stdout",
     "output_type": "stream",
     "text": [
      "5\n"
     ]
    }
   ],
   "source": [
    "a = 5\n",
    "b = a #Now b = 5\n",
    "a = 17 #This changes a, but not b\n",
    "print(b)"
   ]
  },
  {
   "cell_type": "markdown",
   "metadata": {},
   "source": [
    "### Comments"
   ]
  },
  {
   "cell_type": "markdown",
   "metadata": {},
   "source": [
    "To write good code you should write good comments when needed. You comment your code by writing `#` and then your comment anywhere in your code. Comments are ignored by the computer when you run your code. Commenting your code to clarify what it does to yourself and others who might read it is a good practice. You should only add comments when it is needed for clarity, otherwise you only end up making the code less readable."
   ]
  },
  {
   "cell_type": "code",
   "execution_count": 16,
   "metadata": {},
   "outputs": [
    {
     "name": "stdout",
     "output_type": "stream",
     "text": [
      "Ola NordmannOla Nordmann 12448\n"
     ]
    }
   ],
   "source": [
    "myName = \"Ola Nordmann\" #This is a comment\n",
    "myNumber = 6224\n",
    "\n",
    "print(myName * 2, myNumber * 2) #The first multiplication makes the string repeat itself, the second doubles the number stored in myNumber\n",
    "\n",
    "#print(myName + myNumber) this line has been \"commented out\", so the code here won't be run. If you were you run this code you would get an error anyway, since you can't add a string and integer"
   ]
  },
  {
   "cell_type": "markdown",
   "metadata": {},
   "source": [
    "---\n",
    "\n",
    "### In-Class Variable Changing Exercises"
   ]
  },
  {
   "cell_type": "markdown",
   "metadata": {},
   "source": [
    "**a)** Define a variable `myNum` with the value `10` and a variable `yourNum` with the value `42`. Use a third variable `temp` to switch the values of `myNum` and `yourNum`.\n",
    "\n",
    "**b)** What would the output of this code be?\n",
    "\n",
    "    a = 10\n",
    "    b = 7\n",
    "    \n",
    "    a = b\n",
    "    b = a + 5\n",
    "    #b = a + b\n",
    "    \n",
    "    print(a)\n",
    "    print(b)\n",
    "    \n",
    "---"
   ]
  },
  {
   "cell_type": "markdown",
   "metadata": {},
   "source": [
    "## Decisions"
   ]
  },
  {
   "cell_type": "markdown",
   "metadata": {},
   "source": [
    "We often want our program to do different things depending on the state of the program. Much like how we might want to bet different amounts in poker depending on the quality of our hand.\n",
    "\n",
    "To make our programs make decisions in Python, we use `if` and `else` statements.\n",
    "\n",
    "When the computer reaches an `if` statement, it checks whether the logical statement is true or not. If it is, the code below the `if` statement that is **indented** is run. If not, the indented code is skipped. Indented code is code with blank space to its left. We normally use the \"tab\" key to indent code."
   ]
  },
  {
   "cell_type": "code",
   "execution_count": 17,
   "metadata": {},
   "outputs": [
    {
     "name": "stdout",
     "output_type": "stream",
     "text": [
      "Hello!\n"
     ]
    }
   ],
   "source": [
    "myNumber = 5\n",
    "\n",
    "if myNumber > 3:\n",
    "    print(\"Hello!\")\n",
    "\n",
    "if myNumber > 8:\n",
    "    print(\"Goodbye!\")"
   ]
  },
  {
   "cell_type": "markdown",
   "metadata": {},
   "source": [
    "We can expand this program with an `else` statement. The indented code under the `else` statement is run whenever the `if` statement above \"fails\"."
   ]
  },
  {
   "cell_type": "code",
   "execution_count": 18,
   "metadata": {},
   "outputs": [
    {
     "name": "stdout",
     "output_type": "stream",
     "text": [
      "The number was not bigger than 8\n"
     ]
    }
   ],
   "source": [
    "myNumber = 5\n",
    "\n",
    "if myNumber > 8:\n",
    "    print(\"The number was bigger than 8\")\n",
    "else:\n",
    "    print(\"The number was not bigger than 8\")"
   ]
  },
  {
   "cell_type": "markdown",
   "metadata": {},
   "source": [
    "We can also use strings in the logical statements in the `if` statements:"
   ]
  },
  {
   "cell_type": "code",
   "execution_count": 9,
   "metadata": {},
   "outputs": [
    {
     "name": "stdout",
     "output_type": "stream",
     "text": [
      "Hello John.\n"
     ]
    }
   ],
   "source": [
    "name = \"John\"\n",
    "\n",
    "if name == \"Kant\":\n",
    "    print(\"I'm sorry, but I Kant remember your name, what was it again?\")\n",
    "else:\n",
    "    print(f\"Hello {name}.\")"
   ]
  },
  {
   "cell_type": "markdown",
   "metadata": {},
   "source": [
    "We can also put `if` statement inside other `if` or `else` statements. These nested `if` statements work just like the ones we just looked at, but the program reaches them only if the outside `if` statement \"succeeded\"."
   ]
  },
  {
   "cell_type": "code",
   "execution_count": 13,
   "metadata": {},
   "outputs": [
    {
     "name": "stdout",
     "output_type": "stream",
     "text": [
      "Hello John\n"
     ]
    }
   ],
   "source": [
    "name = \"John\"\n",
    "age = 31\n",
    "\n",
    "if name == \"Kant\":\n",
    "    if age == 297:\n",
    "        print(\"Guten tag mein mann!\")\n",
    "    else:\n",
    "        print(\"I'm sorry, but I Kant remember your name, what was it again?\")\n",
    "else:\n",
    "    print(f\"Hello {name}\")"
   ]
  },
  {
   "cell_type": "markdown",
   "metadata": {},
   "source": [
    "---\n",
    "\n",
    "### In-Class Decisions Exercises"
   ]
  },
  {
   "cell_type": "markdown",
   "metadata": {},
   "source": [
    "**a)** Write a program that checks whether an integer variable is greater than 10.\n",
    "\n",
    "**b)** Write a program which greets children with the phrase \"Hey kid\", and adults by their name.\n",
    "\n",
    "**c)** Write a program that uses a nested `if` statement.\n",
    "\n",
    "---"
   ]
  },
  {
   "cell_type": "markdown",
   "metadata": {},
   "source": [
    "## Elif statements and larger decision blocks"
   ]
  },
  {
   "cell_type": "markdown",
   "metadata": {},
   "source": [
    "We can expand this program again by combining an `if` statement and an `else` statement into an `elif` statement. The `elif` statement is run when an `if` statement right above it fails.\n",
    "\n",
    "When you have multiple decisions chained together like this, the final `else` only \"succeeds\" when all prevous `ifs` and `elifs` failed or were skipped. Only an `if` can start such a chain, and when you reach an `else` the chain is stopped.\n",
    "\n",
    "The trolley problem is a thought experiment where a trolley is about to run over five people on the main track, but you can divert it to a side track where it will run over only one person.\n",
    "\n",
    "Let's write a program that chooses what action to take depending on which action saves the most lives."
   ]
  },
  {
   "cell_type": "code",
   "execution_count": 19,
   "metadata": {},
   "outputs": [
    {
     "name": "stdout",
     "output_type": "stream",
     "text": [
      "Change the tracks!\n"
     ]
    }
   ],
   "source": [
    "mainTrack = 5\n",
    "sideTrack = 1\n",
    "\n",
    "if mainTrack > sideTrack:\n",
    "    print(\"Change the tracks!\")\n",
    "elif mainTrack == sideTrack:\n",
    "    print(\"I honestly don't care what you do.\")\n",
    "else:\n",
    "    print(\"Don't change the tracks!\")"
   ]
  },
  {
   "cell_type": "markdown",
   "metadata": {},
   "source": [
    "We can also put `if` statement inside other `if` or `else` statements. These nested `if` statements work just like the ones we just looked at, but the program reaches them only if the outside `if` statement \"succeeded\".\n",
    "\n",
    "Let's write a program which does the same as last time, only now it can also choose to blow up the trolley if that saves the most lives."
   ]
  },
  {
   "cell_type": "code",
   "execution_count": 20,
   "metadata": {},
   "outputs": [
    {
     "name": "stdout",
     "output_type": "stream",
     "text": [
      "Blow up the trolley!\n"
     ]
    }
   ],
   "source": [
    "mainTrack = 5\n",
    "sideTrack = 8\n",
    "passengers = 4\n",
    "\n",
    "if mainTrack > sideTrack:\n",
    "    if sideTrack > passengers:\n",
    "        print(\"Blow up the trolley!\")\n",
    "    else:\n",
    "        print(\"Switch the tracks!\")\n",
    "        \n",
    "elif mainTrack == sideTrack == passengers:\n",
    "    print(\"I honestly don't care what you do.\")\n",
    "    \n",
    "else:\n",
    "    if mainTrack > passengers:\n",
    "        print(\"Blow up the trolley!\")\n",
    "    else:\n",
    "        print(\"Don't switch the tracks!\")"
   ]
  },
  {
   "cell_type": "markdown",
   "metadata": {},
   "source": [
    "**1.** First the variables `mainTrack`, `sideTrack` and `passengers` are declared\n",
    "\n",
    "**2.** Then the program reaches the first `if` statement. `mainTrack` is not greater than `sideTrack`, so the program skips the indented code under the first `if` statement.\n",
    "\n",
    "**3.** Then it reaches an `elif` statement. `mainTrack`, `sideTrack` and `passengers` are not all equal, so this `elif` statement \"fails\". The indented code is skipped and the program reaches an `else` sentence.\n",
    "\n",
    "**4.** Everything on the level of this `else` statement failed, so the indented code under it is run.\n",
    "\n",
    "**5.** There it reaches an `if` statement. `mainTrack` is greater than `passengers`, so the `if` statement succeeds and the indented code is run. \"Blow up the trolley!\" is printed.\n",
    "\n",
    "**6.** Finally, the last `else` is reached and since the previous `if` succeeded, it is skipped. The program has now reached the end.\n",
    "\n",
    "This example brings up an important question when writing programs that make decisions in the real world. Should a program choose whether a self driving car should sacrifice a passenger or a pedestrian if it comes down to it during a potential collision? And if so, what should it choose? Should this decision be made by the car manufacturers?"
   ]
  },
  {
   "cell_type": "markdown",
   "metadata": {},
   "source": [
    "### Logical statements and booleans"
   ]
  },
  {
   "cell_type": "markdown",
   "metadata": {},
   "source": [
    "We often compare numbers in `if` and `elif` statements. These are the five different logical operators you can use to compare numbers:\n",
    "\n",
    "Let `a = 5`\n",
    "\n",
    "- `a < 5` returns False\n",
    "- `a > 5` returns False\n",
    "- `a == 5` returns True *(equal, you NEED two equal signs)*\n",
    "- `a <= 5` returns True *(less than or equal)*\n",
    "- `a >= 5` returns True\n",
    "- `a != 5` returns False *(not equal)*"
   ]
  },
  {
   "cell_type": "markdown",
   "metadata": {},
   "source": [
    "You can store the value of these logical statemens in variables called booleans. Booleans can hold the values `True` or `False` and can be used for logical operations. Python uses the `and`, `or` and `not` keywords for logical operations."
   ]
  },
  {
   "cell_type": "code",
   "execution_count": 21,
   "metadata": {},
   "outputs": [
    {
     "name": "stdout",
     "output_type": "stream",
     "text": [
      "Go buy some sunscreen!\n"
     ]
    }
   ],
   "source": [
    "sunny = True\n",
    "ownSunscreen = False\n",
    "\n",
    "if sunny and not ownSunscreen:\n",
    "    print(\"Go buy some sunscreen!\")"
   ]
  },
  {
   "cell_type": "markdown",
   "metadata": {},
   "source": [
    "- `True and True -> True`\n",
    "- `True or True -> True`\n",
    "- `True or False -> True`\n",
    "- `not True -> False`\n",
    "- `not False -> True`\n",
    "- `True and False -> False`\n",
    "- `False and False -> False`\n",
    "- `False or False -> False`"
   ]
  },
  {
   "cell_type": "markdown",
   "metadata": {},
   "source": [
    "---\n",
    "\n",
    "### In-Class Decisions With `elif` Exercises"
   ]
  },
  {
   "cell_type": "markdown",
   "metadata": {},
   "source": [
    "**a)** Write a program that is nice to people called \"Alice\" and rude to people called \"Bob\", while other people are given a standard greeting.\n",
    "\n",
    "**b)** Write a program that makes a decision in the trolley problem, such that the most people are killed.\n",
    "\n",
    "**c)** Try comparing two strings using the `<` operator. Write a program that compares two words and prints out the one which comes first alphabetically (only use lower case letters).\n",
    "\n",
    "---"
   ]
  },
  {
   "cell_type": "markdown",
   "metadata": {},
   "source": [
    "## Random number generation"
   ]
  },
  {
   "cell_type": "markdown",
   "metadata": {},
   "source": [
    "By using built-in functionality in your computer and clever maths, Python can generate psuedorandom numbers. They're not actually random numbers, since they're generated from a starting number using a sequence of equations. But psuedorandom numbers are still distributed like random numbers, which is what we care about(therefore, we will just be calling them random numbers from now on). To generate them we need to `import` the `randint()` function like this:"
   ]
  },
  {
   "cell_type": "code",
   "execution_count": 22,
   "metadata": {},
   "outputs": [],
   "source": [
    "from random import randint"
   ]
  },
  {
   "cell_type": "markdown",
   "metadata": {},
   "source": [
    "Python includes a lot of functionality right out of the box, but we often need even more functionality. To access this functionality, we `import` modules. In this case, we imported the `randint` function from the `random` module so that we can generate random numbers. Now we can use this function freely in our program, much like how we would use the `print()` function.\n",
    "\n",
    "The `randint()` function takes two arguments, a starting number and an ending number. The function then returns a random between the starting number and the ending number. What that means is that `randint(1, 6)` can return any of the numbers 1, 2, 3, 4, 5 or 6, with equal probability.\n",
    "\n",
    "Using this we can simulate the throw of a die! Write these lines of code and run it multiple times to see what happens."
   ]
  },
  {
   "cell_type": "code",
   "execution_count": 23,
   "metadata": {},
   "outputs": [
    {
     "name": "stdout",
     "output_type": "stream",
     "text": [
      "6\n"
     ]
    }
   ],
   "source": [
    "dice = randint(1,6) #generates a random number between 1 and 6, like a die\n",
    "print(dice)"
   ]
  },
  {
   "cell_type": "markdown",
   "metadata": {},
   "source": [
    "We can also simulate a cointoss like this:"
   ]
  },
  {
   "cell_type": "code",
   "execution_count": 24,
   "metadata": {},
   "outputs": [
    {
     "name": "stdout",
     "output_type": "stream",
     "text": [
      "Tails!\n"
     ]
    }
   ],
   "source": [
    "coin = randint(0, 1)\n",
    "\n",
    "if coin == 0:\n",
    "    print(\"Heads!\")\n",
    "else:\n",
    "    print(\"Tails!\")"
   ]
  },
  {
   "cell_type": "markdown",
   "metadata": {},
   "source": [
    "---"
   ]
  },
  {
   "cell_type": "markdown",
   "metadata": {},
   "source": [
    "### In-Class Random number exercises"
   ]
  },
  {
   "cell_type": "markdown",
   "metadata": {},
   "source": [
    "The variable `dice` holds a random value from 1 to 6, like a diceroll.\n",
    "\n",
    "**a)** What is the probability that A will be printed?\n",
    "\n",
    "**b)** What is the probability that B will be printed?\n",
    "\n",
    "**c)** What is the probability that B will be printed given that A has been printed?"
   ]
  },
  {
   "cell_type": "code",
   "execution_count": 25,
   "metadata": {},
   "outputs": [],
   "source": [
    "dice = randint(1,6)\n",
    "\n",
    "if dice > 3:\n",
    "    print(\"A\")\n",
    "\n",
    "if dice == 6:\n",
    "    print(\"B\")"
   ]
  },
  {
   "cell_type": "markdown",
   "metadata": {},
   "source": [
    "**d)** Does this change the behaviour of the code?"
   ]
  },
  {
   "cell_type": "code",
   "execution_count": 26,
   "metadata": {},
   "outputs": [
    {
     "name": "stdout",
     "output_type": "stream",
     "text": [
      "A\n"
     ]
    }
   ],
   "source": [
    "dice = randint(1,6)\n",
    "\n",
    "if dice > 3:\n",
    "    print(\"A\")\n",
    "    if dice == 6:\n",
    "        print(\"B\")"
   ]
  },
  {
   "cell_type": "markdown",
   "metadata": {},
   "source": [
    "---"
   ]
  }
 ],
 "metadata": {
  "kernelspec": {
   "display_name": "Python 3",
   "language": "python",
   "name": "python3"
  },
  "language_info": {
   "codemirror_mode": {
    "name": "ipython",
    "version": 3
   },
   "file_extension": ".py",
   "mimetype": "text/x-python",
   "name": "python",
   "nbconvert_exporter": "python",
   "pygments_lexer": "ipython3",
   "version": "3.7.10"
  },
  "toc-showtags": false
 },
 "nbformat": 4,
 "nbformat_minor": 4
}
