{
 "cells": [
  {
   "cell_type": "markdown",
   "id": "speaking-birth",
   "metadata": {},
   "source": [
    "# Linear algebra exercises with numpy"
   ]
  },
  {
   "cell_type": "markdown",
   "id": "musical-original",
   "metadata": {},
   "source": [
    "In these exercises you will practice linear algebra in addition to the numpy library"
   ]
  },
  {
   "cell_type": "markdown",
   "id": "nominated-garden",
   "metadata": {},
   "source": [
    "### Task 1-Some basic numpy operations)"
   ]
  },
  {
   "cell_type": "markdown",
   "id": "played-refund",
   "metadata": {},
   "source": [
    "a) Check your numpy version and make sure the newest version is installed. You can use the following command:"
   ]
  },
  {
   "cell_type": "code",
   "execution_count": 15,
   "id": "affiliated-rachel",
   "metadata": {},
   "outputs": [
    {
     "data": {
      "text/plain": [
       "'1.20.3'"
      ]
     },
     "execution_count": 15,
     "metadata": {},
     "output_type": "execute_result"
    }
   ],
   "source": [
    "np.__version__"
   ]
  },
  {
   "cell_type": "markdown",
   "id": "arctic-level",
   "metadata": {},
   "source": [
    "The newest version per 18/8/21 should be version 1.21.0"
   ]
  },
  {
   "cell_type": "markdown",
   "id": "mysterious-hollow",
   "metadata": {},
   "source": [
    "b) Create a matrix fillesd with 1's at each element. The matrix should be of shape 10x10, do not use numpy"
   ]
  },
  {
   "cell_type": "markdown",
   "id": "appreciated-legend",
   "metadata": {},
   "source": [
    "c) Now do the same thing as in b), but use numpy this time. **Bonus exercise:** Measure the time difference between the two implementations in ecercise b) and c)"
   ]
  },
  {
   "cell_type": "markdown",
   "id": "technical-ivory",
   "metadata": {},
   "source": [
    "d1) First create an array of elements in an aranged order from 0 to 9, using np.arange."
   ]
  },
  {
   "cell_type": "markdown",
   "id": "favorite-corruption",
   "metadata": {},
   "source": [
    "d2) Then use np.reshape to resahpe the array into the following matrix:\n",
    "\\begin{equation*}\n",
    "\\begin{pmatrix}\n",
    "1 & 4 & 7  \\\\\n",
    "2 & 5 & 8  \\\\\n",
    "3  & 6  & 9\n",
    "\\end{pmatrix}\n",
    "\\end{equation*}"
   ]
  },
  {
   "cell_type": "markdown",
   "id": "automotive-sarah",
   "metadata": {},
   "source": [
    "d3) Next task is to create some conditional statement, making all elements that are larger than 5 to be set as 1, and all elements that are less than 5 is set to 0, elements equal to 5 is unchanged."
   ]
  },
  {
   "cell_type": "markdown",
   "id": "26e7b798",
   "metadata": {},
   "source": [
    "e) Create three random 1d arrays x, y and z of length 3. Use the numpy function vstack and hstack to stack the arrays both vertically and horizontally as a matrix."
   ]
  },
  {
   "cell_type": "markdown",
   "id": "4846a6c4",
   "metadata": {},
   "source": [
    "f) Create a random array of size 10. Print the mean, standard deviation and the variance using numpy"
   ]
  },
  {
   "cell_type": "markdown",
   "id": "2508b54d",
   "metadata": {},
   "source": [
    "### Task 2-A bit of linear algebra)"
   ]
  },
  {
   "cell_type": "markdown",
   "id": "282c3f09",
   "metadata": {},
   "source": [
    "a) Create a random matrix of size 3x3, containing only integers. Find the eigenvalues and eigenvectors using numpy."
   ]
  },
  {
   "cell_type": "markdown",
   "id": "501f08df",
   "metadata": {},
   "source": [
    "b) Is this matrix invertible? Compute the determinant"
   ]
  },
  {
   "cell_type": "markdown",
   "id": "c8173027",
   "metadata": {},
   "source": [
    "c) If the matrix is invertible, find the invertible matrix"
   ]
  },
  {
   "cell_type": "markdown",
   "id": "d4720e8c",
   "metadata": {},
   "source": [
    "d) Check if the following matrix is symmetric, real orthogonal, hermitian and unitary. Also find the norm of the matrix. \n",
    "    \n",
    "\\begin{equation*}\n",
    "\\begin{pmatrix}\n",
    "1-i & 1+i  \\\\\n",
    "1+i & 1-i\n",
    "\\end{pmatrix}\n",
    "\\end{equation*}"
   ]
  },
  {
   "cell_type": "markdown",
   "id": "61223835",
   "metadata": {},
   "source": [
    "e) Find the LU decomposition of matrix A:\n",
    "\\begin{equation*}\n",
    "A=\\begin{pmatrix}\n",
    "1 & 2 & 4  \\\\\n",
    "3 & 8 & 14  \\\\\n",
    "2  & 6  & 13\n",
    "\\end{pmatrix}\n",
    "\\end{equation*}\n",
    "\n",
    "What are the matrices L and U? You can try using numpy or scipy.linalg\n",
    "    "
   ]
  },
  {
   "cell_type": "code",
   "execution_count": null,
   "id": "5d3cf3b7",
   "metadata": {},
   "outputs": [],
   "source": []
  }
 ],
 "metadata": {
  "kernelspec": {
   "display_name": "Python 3",
   "language": "python",
   "name": "python3"
  },
  "language_info": {
   "codemirror_mode": {
    "name": "ipython",
    "version": 3
   },
   "file_extension": ".py",
   "mimetype": "text/x-python",
   "name": "python",
   "nbconvert_exporter": "python",
   "pygments_lexer": "ipython3",
   "version": "3.8.3"
  }
 },
 "nbformat": 4,
 "nbformat_minor": 5
}
