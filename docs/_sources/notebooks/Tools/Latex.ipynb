{
 "cells": [
  {
   "cell_type": "markdown",
   "id": "66cdcfba-444b-4ef3-bf4b-ce741db1b3c3",
   "metadata": {},
   "source": [
    "# LaTeX"
   ]
  },
  {
   "cell_type": "markdown",
   "id": "e460d85a-d402-4294-b22f-a0f72c447a70",
   "metadata": {},
   "source": [
    "LaTeX is a tool for creating professional looking documents. For science students, it is an essential tool for writing reports, their masters thesis or any document with formulas, like an assignment or exam.\n",
    "\n",
    "The are many differtent LaTeX editors out there, but we recommend starting with the online editor Overleaf, since you don't have to download anything, it's easy to use, and it's perfect for collaboration.\n",
    "\n",
    "The basics of how to use LaTeX (how to add different types of content to your document) is covered in this tutorial: https://www.overleaf.com/learn/latex/Learn_LaTeX_in_30_minutes. We recommend creating an account and then your own document in Overleaf to follow along the tutorial.\n",
    "\n",
    "In LaTeX there are packages which add extra commands and functionality. If you want access to more physics symbols or want to add figures to your document, you will need to use some packages. The problem when starting out is that you have no idea what's possible or not, nor what packages exist. It can therefore be helpful to look at what other people are using, and use their setups and solutions as a starting point for your own documents.\n",
    "\n",
    "Here in an example of a starting point for writing documents with formulas and figures:"
   ]
  },
  {
   "cell_type": "code",
   "execution_count": null,
   "id": "63374548-f823-4cbc-8db4-f981929f2790",
   "metadata": {},
   "outputs": [],
   "source": []
  }
 ],
 "metadata": {
  "kernelspec": {
   "display_name": "Python 3",
   "language": "python",
   "name": "python3"
  },
  "language_info": {
   "codemirror_mode": {
    "name": "ipython",
    "version": 3
   },
   "file_extension": ".py",
   "mimetype": "text/x-python",
   "name": "python",
   "nbconvert_exporter": "python",
   "pygments_lexer": "ipython3",
   "version": "3.7.10"
  }
 },
 "nbformat": 4,
 "nbformat_minor": 5
}
