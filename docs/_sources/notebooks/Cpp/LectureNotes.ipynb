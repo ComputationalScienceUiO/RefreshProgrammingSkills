{
 "cells": [
  {
   "cell_type": "markdown",
   "metadata": {},
   "source": [
    "<!-- dom:TITLE: Computational Physics:  Teach yourself C++ -->\n",
    "# Computational Physics:  Teach yourself C++\n",
    "<!-- dom:AUTHOR: Morten Hjorth-Jensen at Department of Physics, University of Oslo & Department of Physics and Astronomy and National Superconducting Cyclotron Laboratory, Michigan State University -->\n",
    "<!-- Author: -->  \n",
    "**Morten Hjorth-Jensen**, Department of Physics, University of Oslo and Department of Physics and Astronomy and National Superconducting Cyclotron Laboratory, Michigan State University\n",
    "\n",
    "Date: **Aug 19, 2021**\n",
    "\n",
    "Copyright 1999-2021, Morten Hjorth-Jensen. Released under CC Attribution-NonCommercial 4.0 license\n",
    "\n",
    "\n",
    "\n",
    "\n",
    "## Getting Started, compiling and linking first\n",
    "\n",
    "The programming language C++ is a so-called [compiled language](https://en.wikipedia.org/wiki/Compiled_language). For help on how to use C++, we recommend highly the [cpplus website](http://www.cplusplus.com/). \n",
    "\n",
    "\n",
    "Assume we already have a program file, say **myprogram.cpp**. Note that C++ files have the extension **.cpp**.\n",
    "\n",
    "Here we discuss first how to obtain an executable without using IDEs like [QT](https://www.qt.io/) creator or other types of integrated development environments ([Visual Studio](https://www.visualstudio.com/) or other, see [list here](https://sourceforge.net/directory/development/ide/) etc).\n",
    "\n",
    "\n",
    "It means that you need to compile the program (translate the human-like instructions into machine code) and link the resulting compiled file (a so-called **object** file) with various libraries in order to obtain an executable file. \n",
    "\n",
    "In order to obtain an executable file for a C++ program, the following\n",
    "instructions under Unix/Linux can be used ([similar instructions apply to windows-like environments using DOS](https://msdn.microsoft.com/en-us/library/ms235639.aspx)).\n",
    "\n",
    "First you need to open a terminal on your Unix/Linux PC/laptop. You need also to have a C++ compiler installed. To check on Unix/Linux whether a C++ is installed or not simply type (in the terminal window)"
   ]
  },
  {
   "cell_type": "markdown",
   "metadata": {},
   "source": [
    "        which c++\n"
   ]
  },
  {
   "cell_type": "markdown",
   "metadata": {},
   "source": [
    "If you get something like"
   ]
  },
  {
   "cell_type": "markdown",
   "metadata": {},
   "source": [
    "        Mortens-MacBook-Pro:~ hjensen$ which c++\n",
    "        /usr/bin/c++\n"
   ]
  },
  {
   "cell_type": "markdown",
   "metadata": {},
   "source": [
    "you are ok. \n",
    "Then compile and link your program as"
   ]
  },
  {
   "cell_type": "markdown",
   "metadata": {},
   "source": [
    "        c++ -c -Wall myprogram.cpp\n",
    "        c++ -o myprogram.exe  myprogram.o\n"
   ]
  },
  {
   "cell_type": "markdown",
   "metadata": {},
   "source": [
    "where the compiler is called through the command c++/g++. The compiler\n",
    "option -Wall means that a warning is issued in case of non-standard\n",
    "language. The executable file is in this case **myprogram.exe**. The option\n",
    "`-c` is for compilation only, where the program is translated into machine code,\n",
    "while the `-o` option links the produced object file **myprogram.o** with other libraries \n",
    "and produces the executable **myprogram.exe**.\n",
    "\n",
    "You can skip the first step by simply writing"
   ]
  },
  {
   "cell_type": "markdown",
   "metadata": {},
   "source": [
    "        c++ -o myprogram.exe  myprogram.cpp\n"
   ]
  },
  {
   "cell_type": "markdown",
   "metadata": {},
   "source": [
    "Also, to speed up the code use compile options like (compiler flags will be dealt with later)"
   ]
  },
  {
   "cell_type": "markdown",
   "metadata": {},
   "source": [
    "        c++ -O3 -c -Wall myprogram.cpp\n"
   ]
  },
  {
   "cell_type": "markdown",
   "metadata": {},
   "source": [
    "To run your program, simply write"
   ]
  },
  {
   "cell_type": "markdown",
   "metadata": {},
   "source": [
    "        myprogram.exe\n"
   ]
  },
  {
   "cell_type": "markdown",
   "metadata": {},
   "source": [
    "or if you wish to avoid creating executables which by accident have the same name as operating system commands (with sometime fatal consequences) write"
   ]
  },
  {
   "cell_type": "markdown",
   "metadata": {},
   "source": [
    "        ./myprogram.exe\n"
   ]
  },
  {
   "cell_type": "markdown",
   "metadata": {},
   "source": [
    "Here, using . denotes the current directory. Since you want to run a file in your current directory and that directory is not in your $PATH, you need the ./ bit to tell the shell where the executable is.\n",
    "\n",
    "\n",
    "\n",
    "Under Linux/Unix it is often convenient to create a\n",
    "so-called makefile, which is a script which includes possible\n",
    "compiling commands.  By clicking on the link here you can see examples of [makefiles](https://www.gnu.org/software/make/manual/make.html). \n",
    "\n",
    "\n",
    "If you name your file for **makefile**, simply type the command\n",
    "**make** and Linux/Unix executes all possible statements included in your makefile. \n",
    "\n",
    "When you use an IDE like Qt, it creates automatically something similar to a makefile for you and you don't need to hardcode the above statements. \n",
    "\n",
    "\n",
    "\n",
    "\n",
    "Our first program is the classic [Hello World](https://github.com/CompPhysics/ComputationalPhysicsMSU/blob/master/doc/Programs/LecturePrograms/programs/IntroProgramming/cpp/hellow.cpp).\n",
    "\n",
    "Here we present the C++ version using **namespace**, see shortly below here for an explanation."
   ]
  },
  {
   "cell_type": "markdown",
   "metadata": {},
   "source": [
    "        // A comment line begins like this in C++ programs\n",
    "        // Standard ANSI-C++ include files\n",
    "        #include <cstdlib> // atof function \n",
    "        #include <iostream>   // input and output\n",
    "        #include <cmath>      // math functions\n",
    "        using namespace std;\n",
    "        int main (int argc, char* argv[])\n",
    "        {\n",
    "          // convert the text argv[1] to double using atof:\n",
    "          double r = atof(argv[1]);  // convert the text argv[1] to double\n",
    "          double s = sin(r);\n",
    "          cout << \"Hello, World! sin(\" << r << \") =\" << s << endl;\n",
    "          return 0;           // success execution of the program \n",
    "        }\n"
   ]
  },
  {
   "cell_type": "markdown",
   "metadata": {},
   "source": [
    "The compiler must see a declaration of a function before you can\n",
    "call it (the compiler checks the argument and return types).\n",
    "The declaration of library functions appears\n",
    "in so-called \"header files\" that must be included in the program, as an example the following statement includes the so-called **Standard Library Functions**"
   ]
  },
  {
   "cell_type": "markdown",
   "metadata": {},
   "source": [
    "           #include <cstdlib> // atof function \n"
   ]
  },
  {
   "cell_type": "markdown",
   "metadata": {},
   "source": [
    "We call three functions (atof, sin, cout)\n",
    "and these are declared in three different header files. These declarations should come first. The **cout** function is included in the **isostream**. In C++, input and output (I/O) operations  are performed by using so-called streams which a *stream of data* where a  stream is an object with properties that are defined by a class. Global objects are predefined for the standard I/O channels.   The **sin** function is defined by the **cmath** library and its header file and needs to be included. For those of you familiar with **Python** this is similar to"
   ]
  },
  {
   "cell_type": "code",
   "execution_count": null,
   "metadata": {
    "collapsed": false,
    "editable": true
   },
   "outputs": [],
   "source": [
    "from math import sin"
   ]
  },
  {
   "cell_type": "markdown",
   "metadata": {},
   "source": [
    "[The main program is a function called main](http://en.cppreference.com/w/cpp/language/return)\n",
    "with a return value set to an integer, int (0 if success).\n",
    "The operating system stores the return value,\n",
    "and other programs/utilities can check whether\n",
    "the execution was successful or not. The main program has thus to be declared as **int main()** in standard C++. \n",
    "The command-line arguments are transferred to the main function through"
   ]
  },
  {
   "cell_type": "markdown",
   "metadata": {},
   "source": [
    "           int main (int argc, char* argv[])\n"
   ]
  },
  {
   "cell_type": "markdown",
   "metadata": {},
   "source": [
    "The command-line arguments are transferred to the main function through"
   ]
  },
  {
   "cell_type": "markdown",
   "metadata": {},
   "source": [
    "           int main (int argc, char* argv[])\n"
   ]
  },
  {
   "cell_type": "markdown",
   "metadata": {},
   "source": [
    "The integer **argc** is the number  of command-line arguments (two in our case) while\n",
    "**argv** is a vector of strings containing the command-line arguments\n",
    "with _argv[0]_ containing  the name of the program\n",
    "and _argv[1]_, _argv[2]_, ... are the command-line args, i.e., the number of\n",
    "arguments that are  inputs to the program.\n",
    "\n",
    "We define floating point variables, see also below,\n",
    "through the keywords **float** for single precision real numbers and\n",
    "**double** for double precision real numbers. The function\n",
    "**atof** transforms a text string to a float, either single or double precision.\n",
    "The **sine** function is declared in **cmath**, a library which\n",
    "is not automatically included and needs to be linked when computing\n",
    "and producing the  executable file. Note that arrays in C++ begin by default with $0$. The first element is here _argv[0]_. \n",
    "\n",
    "A one-dimensional array like **argv** can be defined statically or dynamically. To reserve space in memory statically means defining a variable of this type as"
   ]
  },
  {
   "cell_type": "markdown",
   "metadata": {},
   "source": [
    "        char argv[10]; \n"
   ]
  },
  {
   "cell_type": "markdown",
   "metadata": {},
   "source": [
    "which contains in this case ten elements. Each element has a specific address in memory, see the discussions below on pointers. We anticipate partly the discussion here by declaring a pointer variable and allocating memory dynamically. In C++ this is done as"
   ]
  },
  {
   "cell_type": "markdown",
   "metadata": {},
   "source": [
    "        char *argv;  // declaring first a pointer\n",
    "        argv = new char[10];   // Now reserving space for  ten elements in memory for a character variable (4 bytes or 32 bits).\n"
   ]
  },
  {
   "cell_type": "markdown",
   "metadata": {},
   "source": [
    "For a floating point variable of  8 bytes or 64 bits we would declare a similar array as"
   ]
  },
  {
   "cell_type": "markdown",
   "metadata": {},
   "source": [
    "        double *argv;  // declaring first a pointer\n",
    "        argv = new double[10];   // Now reserving space for  ten elements in memory for a character variable (4 bytes or 32 bits).\n"
   ]
  },
  {
   "cell_type": "markdown",
   "metadata": {},
   "source": [
    "In similar ways we can declare integer variable, single precisions floats etc.\n",
    "We can write the above in one line as"
   ]
  },
  {
   "cell_type": "markdown",
   "metadata": {},
   "source": [
    "        double *argv = new double[10];   \n"
   ]
  },
  {
   "cell_type": "markdown",
   "metadata": {},
   "source": [
    "After having compiled this program as"
   ]
  },
  {
   "cell_type": "markdown",
   "metadata": {},
   "source": [
    "        c++ -o hw.exe hellowd.cpp\n"
   ]
  },
  {
   "cell_type": "markdown",
   "metadata": {},
   "source": [
    "we can run the executable and obtain"
   ]
  },
  {
   "cell_type": "markdown",
   "metadata": {},
   "source": [
    "        Mortens-MacBook-Pro:cpp hjensen$ ./hw.exe 0.5\n",
    "        Hello, World! sin(0.5) =0.479426\n"
   ]
  },
  {
   "cell_type": "markdown",
   "metadata": {},
   "source": [
    "If we do not write the value of $x$ on the command line we would get"
   ]
  },
  {
   "cell_type": "markdown",
   "metadata": {},
   "source": [
    "        Mortens-MacBook-Pro:cpp hjensen$ ./hw.exe \n",
    "        Segmentation fault: 11\n"
   ]
  },
  {
   "cell_type": "markdown",
   "metadata": {},
   "source": [
    "In this case, since reading from the command line with a number of arguments defined by the number of elements in the array _argv[]_, trying to access _argv[1]_ results in a segmentation fault. In the last case there is only one command line argument, the name of the executable program. It means that we have only the array element _argv[0]_. The element _argv[1]_ is not defined and we are trying to access something which is outside the memory slots reserved for _argv[]_. \n",
    "\n",
    "We can rewrite our [Hello World without the namespace usage](https://github.com/CompPhysics/ComputationalPhysicsMSU/blob/master/doc/Programs/LecturePrograms/programs/IntroProgramming/cpp/hellownonamespace.cpp). \n",
    "\n",
    "Namespaces provide a method for preventing name conflicts in large projects and \n",
    "symbols declared inside a namespace block are placed in a named scope that prevents them from being mistaken for identically-named symbols in other scopes.\n",
    "Multiple namespace blocks with the same name are allowed. All declarations within those blocks are declared in the named scope.  This author likes to limit the usage of namespace to some few libraries, like the standard C library **csdtlib**. \n",
    "\n",
    "\n",
    "Here we present the C++ version without using namespace."
   ]
  },
  {
   "cell_type": "markdown",
   "metadata": {},
   "source": [
    "        // A comment line begins like this in C++ programs\n",
    "        // Standard ANSI-C++ include files\n",
    "        #include <cstdlib> // atof function \n",
    "        #include <iostream>   // input and output\n",
    "        #include <cmath>      // math functions\n",
    "        \n",
    "        int main (int argc, char* argv[])\n",
    "        {\n",
    "          // convert the text argv[1] to double using atof:\n",
    "          double r = atof(argv[1]);  // convert the text argv[1] to double\n",
    "          double s = sin(r);\n",
    "          // Note std::cout and std::endl\n",
    "          std::cout << \"Hello, World! sin(\" << r << \") =\" << s << std::endl;\n",
    "          return 0;           // success execution of the program \n",
    "        }\n"
   ]
  },
  {
   "cell_type": "markdown",
   "metadata": {},
   "source": [
    "I personally tend to use **namespace** for input and output as I feel it increases the readability of my codes. Thus, all examples from here and on will have a statement like"
   ]
  },
  {
   "cell_type": "markdown",
   "metadata": {},
   "source": [
    "        using namespace std;\n"
   ]
  },
  {
   "cell_type": "markdown",
   "metadata": {},
   "source": [
    "## Brief summary\n",
    "\n",
    "  * A C/C++ program begins with include statements of header files (libraries,intrinsic functions etc). This is similar to the **import** statement in Python.\n",
    "\n",
    "  * Functions which are used are normally defined at the top (details below)\n",
    "\n",
    "  * The main program is declared as an integer, it returns 0 (everything correct) or 1 (something went wrong)\n",
    "\n",
    "  * Standard `if`, `while` and `for` statements as in Java, Fortran, Python...\n",
    "\n",
    "  * A C/C++ array begins by indexing at 0!\n",
    "\n",
    "  * Array allocations are done by size, not by the final index value.If you allocate an array with 10 elements, you should index them from $0,1,\\dots, 9$.\n",
    "\n",
    "  * Initialize always an array before a computation.\n",
    "\n",
    "### From decimal to binary representation\n",
    "\n",
    "Let us now write a program which translates an integer in the decimal representation to one in the binary representation. The mathematical formula for this is given by"
   ]
  },
  {
   "cell_type": "markdown",
   "metadata": {},
   "source": [
    "$$\n",
    "a_n2^n+a_{n-1}2^{n-1}  +a_{n-2}2^{n-2}  +\\dots +a_{0}2^{0}.\n",
    "$$"
   ]
  },
  {
   "cell_type": "markdown",
   "metadata": {},
   "source": [
    "In binary notation we have thus $(417)_{10} =(110110001)_2$\n",
    "since we have"
   ]
  },
  {
   "cell_type": "markdown",
   "metadata": {},
   "source": [
    "$$\n",
    "\\begin{align*}\n",
    "(110100001)_2\n",
    "&=1\\times2^8+1\\times 2^{7}+0\\times 2^{6}+1\\times 2^{5}+0\\times 2^{4}+0\\times 2^{3}\\\\\n",
    "&+0\\times 2^{2}+0\\times 2^{2}+0\\times 2^{1}+1\\times 2^{0}.\n",
    "\\end{align*}\n",
    "$$"
   ]
  },
  {
   "cell_type": "markdown",
   "metadata": {},
   "source": [
    "To see this, we have performed the following divisions by 2\n",
    "\n",
    "<table border=\"1\">\n",
    "<tr></tr>\n",
    "<tbody>\n",
    "<tr><td align=\"center\">   417/2=208    </td> <td align=\"center\">   remainder 1    </td> <td align=\"center\">   coefficient of $2^{0}$ is 1    </td> </tr>\n",
    "<tr><td align=\"center\">   208/2=104    </td> <td align=\"center\">   remainder 0    </td> <td align=\"center\">   coefficient of $2^{1}$ is 0    </td> </tr>\n",
    "<tr><td align=\"center\">   104/2=52     </td> <td align=\"center\">   remainder 0    </td> <td align=\"center\">   coefficient of $2^{2}$ is 0    </td> </tr>\n",
    "<tr><td align=\"center\">   52/2=26      </td> <td align=\"center\">   remainder 0    </td> <td align=\"center\">   coefficient of $2^{3}$ is 0    </td> </tr>\n",
    "<tr><td align=\"center\">   26/2=13      </td> <td align=\"center\">   remainder 1    </td> <td align=\"center\">   coefficient of $2^{4}$ is 0    </td> </tr>\n",
    "<tr><td align=\"center\">   13/2= 6      </td> <td align=\"center\">   remainder 1    </td> <td align=\"center\">   coefficient of $2^{5}$ is 1    </td> </tr>\n",
    "<tr><td align=\"center\">   6/2= 3       </td> <td align=\"center\">   remainder 0    </td> <td align=\"center\">   coefficient of $2^{6}$ is 0    </td> </tr>\n",
    "<tr><td align=\"center\">   3/2= 1       </td> <td align=\"center\">   remainder 1    </td> <td align=\"center\">   coefficient of $2^{7}$ is 1    </td> </tr>\n",
    "<tr><td align=\"center\">   1/2= 0       </td> <td align=\"center\">   remainder 1    </td> <td align=\"center\">   coefficient of $2^{8}$ is 1    </td> </tr>\n",
    "</tbody>\n",
    "</table>\n",
    "\n",
    "Let us now look at the [code which takes as input from the command line a number in the decimal representation and converts it into the binary representation](https://github.com/CompPhysics/ComputationalPhysicsMSU/blob/master/doc/Programs/LecturePrograms/programs/IntroProgramming/cpp/program2.cpp)"
   ]
  },
  {
   "cell_type": "markdown",
   "metadata": {},
   "source": [
    "        #include <iostream>\n",
    "        #include <cmath>\n",
    "        #include <cstdio>\n",
    "        #include <cstdlib>\n",
    "        using namespace std;\n",
    "        int main (int argc, char* argv[])\n",
    "        {\n",
    "          int terms[32]; // storage of a0, a1, etc, up to 32 bits\n",
    "          int number = atoi(argv[1]); \n",
    "          // initialise the term a0, a1 etc\n",
    "          for (int i=0; i < 32 ; i++) terms[i] = 0;\n",
    "          for (int i=0; i < 32 ; i++){ \n",
    "            terms[i] = number%2;   // modulo division done by %\n",
    "            number /= 2; \n",
    "          }\n",
    "          // write out results\n",
    "          cout << \"Number of bytes used= \" << sizeof(number) << endl;\n",
    "          for (i=0; i < 32 ; i++){ \n",
    "            cout << \" Term nr: \" << i << \"Value= \" << terms[i];\n",
    "            cout << endl;\n",
    "          }\n",
    "          return 0;  \n",
    "        }\n"
   ]
  },
  {
   "cell_type": "markdown",
   "metadata": {},
   "source": [
    "To be noted here is the way we define a loop in C++. Our first encounter is"
   ]
  },
  {
   "cell_type": "markdown",
   "metadata": {},
   "source": [
    "          for (i=0; i < 32 ; i++){ terms[i] = 0;}\n"
   ]
  },
  {
   "cell_type": "markdown",
   "metadata": {},
   "source": [
    "The loop starts with the **for** declaration, followed by a parenthesis hwere we declare the starting values (**i=0**) and the end value\n",
    "(**i < 32**). What would have happened if we declared the endpoint as **i <=32**?  \n",
    "\n",
    "This loop is just a oneliner that serves to initialize the array _terms[]_ to zero. Note the way we can write increment by one via **i++**.\n",
    "\n",
    "Our next loop"
   ]
  },
  {
   "cell_type": "markdown",
   "metadata": {},
   "source": [
    "          for (int i=0; i < 32 ; i++){ \n",
    "            terms[i] = number%2;   // modulo division done by %\n",
    "            number /= 2; \n",
    "          }\n"
   ]
  },
  {
   "cell_type": "markdown",
   "metadata": {},
   "source": [
    "contains the actual algorithm for the translation of an integer in the decimal representation to an integer in the binary representation. We note the way we use the curly parentheses to mark where the content inside a loop starts and where it ends. It is useful to introduce some indentation (many text editors do this automatically for you when the file ends with **.cpp**) in order to increase readability.\n",
    "\n",
    "The function **sizeof()** tells how many bytes are used to store a given variable. An integer is by default defined in terms of four bytes or 32 bits. \n",
    "\n",
    "Our next example is a program that calculates the second derivative numerically  of a function (the exponential function here) and writes the result to a file declared by the user. The first thing to notice is declaration of the object **ofile** which inherits all functionality from the **ofstream** class. [This class](http://www.cplusplus.com/reference/fstream/ofstream/) (to be discussed later below in connection with classes) overloads functions like writing to file, opening files, closing files etc. A similar class exists, the **ifstream** class, for input variables. \n",
    "Adding the header file **fstream** gives us access to the functionality of the **ofstream** class. \n",
    "The **iomanip** header files allows to format our output with functions like **setprecision**, **setw** etc."
   ]
  },
  {
   "cell_type": "markdown",
   "metadata": {},
   "source": [
    "        #include <iostream>\n",
    "        #include <cmath>\n",
    "        #include <fstream>\n",
    "        #include <iomanip>\n",
    "        // output file as global variable\n",
    "        ofstream ofile;\n",
    "        \n",
    "        // Begin of main program\n",
    "        \n",
    "        int main(int argc, char* argv[])\n",
    "        {\n",
    "          char *outfilename;\n",
    "          // Read in output file, abort if there are too few command-line arguments\n",
    "          if( argc <= 3 ){\n",
    "            cout << \"Bad Usage: \" << argv[0] <<\n",
    "              \" read also output file, number of integration points and the final x values  on same line, four variables in total\" << std::endl;\n",
    "            exit(1);\n",
    "          }\n",
    "          else{\n",
    "            outfilename=argv[1];\n",
    "          }\n",
    "          //  opening a file for the program\n",
    "          ofile.open(outfilename);\n",
    "          // extracting number of mesh points\n",
    "          int i = atoi(argv[2]);\n",
    "          double x = atof(argv[3]);  // reading x-value\n",
    "          double h = 1.0/((double) i); // setting up step size\n",
    "          double Derivative = (exp(x+h)-2.*exp(x)+exp(x-h))/(h*h);\n",
    "          double RelativeError = log10(fabs(Derivative-exp(x))/exp(x));\n",
    "          ofile <<  setw(15) << setprecision(8) << \"relative error=\" << RelativeError << endl;\n",
    "          ofile.close();  // close output file\n",
    "          return 0;\n",
    "        }\n"
   ]
  },
  {
   "cell_type": "markdown",
   "metadata": {},
   "source": [
    "We have in addition included some safety valves here. In case we have less than four variables on the command line, the program aborts.\n",
    "After having read the name of the output file we open the file  and by default we can write to it via the statement"
   ]
  },
  {
   "cell_type": "markdown",
   "metadata": {},
   "source": [
    "          ofile.open(outfilename);\n"
   ]
  },
  {
   "cell_type": "markdown",
   "metadata": {},
   "source": [
    "and we close it at the end by"
   ]
  },
  {
   "cell_type": "markdown",
   "metadata": {},
   "source": [
    "          ofile.close();\n"
   ]
  },
  {
   "cell_type": "markdown",
   "metadata": {},
   "source": [
    "We have also defined how to write to file our result in a formatted way via the statement"
   ]
  },
  {
   "cell_type": "markdown",
   "metadata": {},
   "source": [
    "          ofile <<  setw(15) << setprecision(8) << \"relative error=\" << RelativeError << endl;\n"
   ]
  },
  {
   "cell_type": "markdown",
   "metadata": {},
   "source": [
    "where we reserve a field width of 15 characters and a precision of eight leading digits after the decimal point.\n",
    "\n",
    "The above example represents our first simple case where we write our results to file. Before we proceed now, we need to say something more about pointers. \n",
    "\n",
    "## Technical Matter in C/C++: Pointers\n",
    "\n",
    "Variables are stored in the memory of a computer and each location in memory is defined by a unique address. How is memory management done?\n",
    "\n",
    "The main memory contains the program data\n",
    "* Cache memory contains a copy of the main memory data\n",
    "\n",
    "* Cache is faster but consumes more space and power. It is normally assumed to be much faster than main memory\n",
    "\n",
    "* Registers contain working data only\n",
    "\n",
    " * Modern CPUs perform most or all operations only on data in register\n",
    "\n",
    "\n",
    "* Multiple Cache memories contain a copy of the main memory data\n",
    "\n",
    " * Cache items accessed by their address in main memory\n",
    "\n",
    " * L1 cache is the fastest but has the least capacity\n",
    "\n",
    " * L2, L3 provide intermediate performance/size tradeoffs\n",
    "\n",
    "\n",
    "Loads and stores to memory can be as important as floating point operations when we measure performance.\n",
    "\n",
    "\n",
    "* Most communication in a computer is carried out in chunks, blocks of bytes of data that move together\n",
    "\n",
    "* In the memory hierarchy, data moves between memory and cache, and between different levels of cache, in groups called lines\n",
    "\n",
    " * Lines are typically 64-128 bytes, or 8-16 double precision words\n",
    "\n",
    " * Even if you do not use the data, it is moved and occupies space in the cache\n",
    "\n",
    "\n",
    "* This performance feature is not captured in most programming languages\n",
    "\n",
    "When we store variables in memory, each memory location is identified and referenced with an address (like a house number specifies where a particular family resides on a street).\n",
    "Pointers play a central role in understanding memory management in C++. A pointer is just another name for an address and a pointer specifies where a value resides in the computer's memory. \n",
    "\n",
    "A pointer points to an address not to a data container of any kind! It is a variable (with its own address in memory) whose value is the address of some other memory location. C++ as programming language offers several operations that allow us to access say elements of an array in an efficient way by accessing data by their addresses.\n",
    "\n",
    "Let us look at some simple example declarations. We define four variables and each of them is storeed in memory schematically as shown here (think of every box as a slot in memory of say 32 bits or more for each slot)\n",
    "<table border=\"1\">\n",
    "<thead>\n",
    "<tr><th align=\"center\">int a</th> <th align=\"center\">int b</th> <th align=\"center\">double c</th> <th align=\"center\">int d</th> <th align=\"center\">double e</th> </tr>\n",
    "</thead>\n",
    "<tbody>\n",
    "<tr><td align=\"center\">   112      </td> <td align=\"center\">   -1       </td> <td align=\"center\">   3.14        </td> <td align=\"center\">   ?        </td> <td align=\"center\">   ?           </td> </tr>\n",
    "</tbody>\n",
    "</table>\n",
    "We have put questions marks for the values of the variables **d** and **e**. \n",
    "In the program here we define **a** and **b** as integers and **c** as a double. The variables **d** and **e** are declared as pointers."
   ]
  },
  {
   "cell_type": "markdown",
   "metadata": {},
   "source": [
    "        #include <iostream>\n",
    "        using namespace std;\n",
    "        //  Declare functions before main\n",
    "        int main(int argc, char *argv[])\n",
    "        {\n",
    "          int a =112, b = -1;\n",
    "          double c = 3.14;\n",
    "          int *d = &a;\n",
    "          double  *e = &c;\n",
    "        \n",
    "          cout << \"Address of the integer variable a :\" << &a <<endl;\n",
    "          cout << \"Value of the integer pointer variable d:\" << d << endl;\n",
    "          cout << \"Value which pointer d is pointing at :\" << *d << endl;\n",
    "          cout << \"Address of the double variable c :\" << &c <<endl;\n",
    "          cout << \"Value of the integer pointer variable e:\" << e << endl;\n",
    "          cout << \"Value which pointer e is pointing at :\" << *e << endl;\n",
    "        \n",
    "        \n",
    "          return 0;\n",
    "        } // End: function main()\n"
   ]
  },
  {
   "cell_type": "markdown",
   "metadata": {},
   "source": [
    "Running this [program](https://github.com/CompPhysics/ComputationalPhysicsMSU/blob/master/doc/Programs/LecturePrograms/programs/IntroProgramming/cpp/program11.cpp) we get the following"
   ]
  },
  {
   "cell_type": "markdown",
   "metadata": {},
   "source": [
    "        Address of the integer variable a :0x7fff56966a7c\n",
    "        Value of the integer pointer variable d:0x7fff56966a7c\n",
    "        Value which pointer d is pointing at :112\n",
    "        Address of the double variable c :0x7fff56966a70\n",
    "        Value of the integer pointer variable e:0x7fff56966a70\n",
    "        Value which pointer e is pointing at :3.14\n"
   ]
  },
  {
   "cell_type": "markdown",
   "metadata": {},
   "source": [
    "we see that the value of **d** is the address of **a** and it points to the value $112$ stored in the memory slot reserved for **a**. Similarly, **e** is a pointer and gets as value the address of **c**, which is $0x7fff56966a70$ which points to the value of $3.14$. The operation"
   ]
  },
  {
   "cell_type": "markdown",
   "metadata": {},
   "source": [
    "          int *d = &a;\n"
   ]
  },
  {
   "cell_type": "markdown",
   "metadata": {},
   "source": [
    "is called dereferencing. We could alternatively have written"
   ]
  },
  {
   "cell_type": "markdown",
   "metadata": {},
   "source": [
    "          int *d;\n",
    "          d = &a;\n"
   ]
  },
  {
   "cell_type": "markdown",
   "metadata": {},
   "source": [
    "where the latter means that **d** gets as value the address of **a**. The print statement"
   ]
  },
  {
   "cell_type": "markdown",
   "metadata": {},
   "source": [
    "          cout << \"Value which pointer d is pointing at :\" << *d << endl;\n"
   ]
  },
  {
   "cell_type": "markdown",
   "metadata": {},
   "source": [
    "then prints the actual number it points at, that is the vaue of the variable **a**.\n",
    "\n",
    "[ Another pPointer example ](https://github.com/CompPhysics/ComputationalPhysicsMSU/blob/master/doc/Programs/LecturePrograms/programs/IntroProgramming/cpp/program7.cpp) is the following program"
   ]
  },
  {
   "cell_type": "markdown",
   "metadata": {},
   "source": [
    "        int main()\n",
    "        {\n",
    "          int var;\n",
    "          int *p;\n",
    "          p = &var;\n",
    "          var  = 421;\n",
    "          printf(\"Address of integer variable var : %p\\n\",&var);\n",
    "          printf(\"Its value: %d\\n\", var);\n",
    "          printf(\"Value of integer pointer p : %p\\n\",p);\n",
    "          printf(\"The value p points at :  %d\\n\",*p);\n",
    "          printf(\"Address of the pointer p : %p\\n\",&p);\n",
    "          return 0;\n",
    "        }\n"
   ]
  },
  {
   "cell_type": "markdown",
   "metadata": {},
   "source": [
    "Dissecting it we have (now with the **printf** function from standard C)"
   ]
  },
  {
   "cell_type": "markdown",
   "metadata": {},
   "source": [
    "        int main()\n",
    "        {\n",
    "          int var;     // Define an integer variable var\n",
    "          int *p;      // Define a pointer to an integer\n",
    "          p = &var;    // Extract the address of var\n",
    "          var = 421;   // Change content of var\n",
    "          printf(\"Address of integer variable var : %p\\n\", &var);\n",
    "          printf(\"Its value: %d\\n\", var);  // 421\n",
    "          printf(\"Value of integer pointer p : %p\\n\", p);  // = &var\n",
    "          // The content of the variable pointed to by p is *p\n",
    "          printf(\"The value p points at :  %d\\n\", *p);\n",
    "          // Address where the pointer is stored in memory\n",
    "          printf(\"Address of the pointer p : %p\\n\", &p);\n",
    "          return 0;\n",
    "        }\n"
   ]
  },
  {
   "cell_type": "markdown",
   "metadata": {},
   "source": [
    "and running the code we get"
   ]
  },
  {
   "cell_type": "markdown",
   "metadata": {},
   "source": [
    "        Address of integer variable var : 0x7fff5cfe6ae8\n",
    "        Its value: 421\n",
    "        Value of integer pointer p : 0x7fff5cfe6ae8\n",
    "        The value p points at :  421\n",
    "        Address of the pointer p : 0x7fff5cfe6ae0\n"
   ]
  },
  {
   "cell_type": "markdown",
   "metadata": {},
   "source": [
    "We see again that the value of the pointer **p** is the address of the variable **var**. \n",
    "\n",
    "[The next pointer example](https://github.com/CompPhysics/ComputationalPhysicsMSU/blob/master/doc/Programs/LecturePrograms/programs/IntroProgramming/cpp/program8.cpp) deals with arrays and how to access array elements with pointer operations."
   ]
  },
  {
   "cell_type": "markdown",
   "metadata": {},
   "source": [
    "        int matr[2];    // Define integer array with two elements\n",
    "        int *p;         // Define pointer to integer\n",
    "        p = &matr[0];   // Point to the address of the first element in matr\n",
    "        matr[0] = 321;  // Change the first element\n",
    "        matr[1] = 322;  // Change the second element\n",
    "        printf(\"\\nAddress of matrix element matr[1]: %p\", &matr[0]);\n",
    "        printf(\"\\nValue of the  matrix element  matr[1]; %d\", matr[0]);\n",
    "        printf(\"\\nAddress of matrix element matr[2]: %p\", &matr[1]);\n",
    "        printf(\"\\nValue of the matrix element  matr[2]: %d\\n\", matr[1]);\n",
    "        printf(\"\\nValue of the pointer p: %p\", p);\n",
    "        printf(\"\\nThe value p points to: %d\", *p);\n",
    "        printf(\"\\nThe value that (p+1) points to  %d\\n\", *(p+1));\n",
    "        printf(\"\\nAddress of pointer p : %p\\n\", &p);\n"
   ]
  },
  {
   "cell_type": "markdown",
   "metadata": {},
   "source": [
    "Here we define an array with two elements. The pointer **p** gets as value the address of the first element. The output of this program is"
   ]
  },
  {
   "cell_type": "markdown",
   "metadata": {},
   "source": [
    "        Address of the matrix element matr[1]: 0xbfffef70\n",
    "        Value of the  matrix element  matr[1]; 321\n",
    "        Address of the matrix element matr[2]: 0xbfffef74\n",
    "        Value of the matrix element  matr[2]: 322\n",
    "        Value of the pointer: 0xbfffef70\n",
    "        The value pointer points at: 321\n",
    "        The value that (pointer+1) points at:  322\n",
    "        Address of the pointer variable : 0xbfffef6c\n"
   ]
  },
  {
   "cell_type": "markdown",
   "metadata": {},
   "source": [
    "We note that the operation"
   ]
  },
  {
   "cell_type": "markdown",
   "metadata": {},
   "source": [
    "        printf(\"\\nThe value that (p+1) points to  %d\\n\", *(p+1));\n"
   ]
  },
  {
   "cell_type": "markdown",
   "metadata": {},
   "source": [
    "allows us to print the address of the second array element. This is the way we can use pointers to access array elements.\n",
    "\n",
    "Let us now discuss another subtle issue, that is transfer of data using call by value and call by reference, shown in the [program here](https://github.com/CompPhysics/ComputationalPhysicsMSU/blob/master/doc/Programs/LecturePrograms/programs/Classes/cpp/program6.cpp)."
   ]
  },
  {
   "cell_type": "markdown",
   "metadata": {},
   "source": [
    "        #include <iostream>\n",
    "        using namespace std;\n",
    "        //  Declare functions before main\n",
    "        void func(int, int*);\n",
    "        int main(int argc, char *argv[]) \n",
    "        {\n",
    "          int a; \n",
    "          int *b;\n",
    "          a = 10;\n",
    "          b = new int[10];\n",
    "          for(int i = 0; i < 10; i++) {\n",
    "            b[i] = i;\n",
    "            cout <<  b[i] << endl;\n",
    "          }\n",
    "          // the variable a is transferred by call by value. This means\n",
    "          //  that the function func cannot change a in the calling function\n",
    "          func( a,b);\n",
    "          \n",
    "          delete [] b ; \n",
    "          return 0;\n",
    "        } // End: function main()\n",
    "        \n",
    "        void func( int x, int *y) \n",
    "        {\n",
    "          // a becomes locally x  and it can be changed locally\n",
    "          x+=7;\n",
    "          //  func gets the address of the first element of y (b)\n",
    "          // it changes y[0] to 10 and when returning control to main\n",
    "          // it changes also b[0]. Call by reference\n",
    "          *y += 10;  //  *y = *y+10;\n",
    "          //  explicit element \n",
    "          y[6] += 10;\n",
    "          //   in this function y[0]  and y[6] have been changed and when returning \n",
    "          // control to main  this means that b[0] and b[6] are changed.  \n",
    "          return;\n",
    "        } // End: function func()\n",
    "        \n"
   ]
  },
  {
   "cell_type": "markdown",
   "metadata": {},
   "source": [
    "There are several things to notice here. First, we have now declared a function **func**. This declaration is placed before the main function. If we don't do that the main function does not know how this function is to be used. The function takes as input an integer and an integer pointer defined by the asterix in"
   ]
  },
  {
   "cell_type": "markdown",
   "metadata": {},
   "source": [
    "        void func(int, int*);\n"
   ]
  },
  {
   "cell_type": "markdown",
   "metadata": {},
   "source": [
    "This means that we transfer an address (in this case the address of the first element of the pointer **b**). This is called **call by reference**.\n",
    "It means that the function **func** can change the value of **b** upon returning the instruction pointer to the main program (or calling function).\n",
    "The other variable is transferred through what we label as  **call by value**. In this case the called function can change the value of **a** locally but cannot change the value of this variable in the calling function.\n",
    "The function **func** func gets the address of the first element of y (b) and changes y[0] to 10 and when returning control to main\n",
    "it changes also b[0]. This is done via"
   ]
  },
  {
   "cell_type": "markdown",
   "metadata": {},
   "source": [
    "          *y += 10;  \n"
   ]
  },
  {
   "cell_type": "markdown",
   "metadata": {},
   "source": [
    "This changes only the first element. To change another element, we would write (unless we use pointer operations)"
   ]
  },
  {
   "cell_type": "markdown",
   "metadata": {},
   "source": [
    "          y[6] += 10;\n"
   ]
  },
  {
   "cell_type": "markdown",
   "metadata": {},
   "source": [
    "which changes $\\mathbf{y[6]}$  to $16$, since its orginal value was $6$, as defined in the main function. Using pointer operations we could write this as"
   ]
  },
  {
   "cell_type": "markdown",
   "metadata": {},
   "source": [
    "          *(y+6) += 10;\n"
   ]
  },
  {
   "cell_type": "markdown",
   "metadata": {},
   "source": [
    "and it produces the same result. It states that the value of the element which resides in $\\mathbf{y[6]}$ is to be changed to $16$. \n",
    "\n",
    "\n",
    "C++ allows the programmer to use solely call by reference (note that call by reference is implemented as pointers). To see the difference between C and C++, consider the following simple examples.\n",
    "In C we would write"
   ]
  },
  {
   "cell_type": "markdown",
   "metadata": {},
   "source": [
    "           int n; n =8;\n",
    "           func(&n); /* &n is a pointer to n */\n",
    "           ....\n",
    "           void func(int *i)\n",
    "           {\n",
    "             *i = 10; /* n is changed to 10 */\n",
    "             ....\n",
    "           }\n"
   ]
  },
  {
   "cell_type": "markdown",
   "metadata": {},
   "source": [
    "whereas in C++ we would write"
   ]
  },
  {
   "cell_type": "markdown",
   "metadata": {},
   "source": [
    "           int n; n =8;\n",
    "           func(n); // just transfer n itself\n",
    "           ....\n",
    "           void func(int& i)\n",
    "           {\n",
    "             i = 10; // n is changed to 10\n",
    "             ....\n",
    "           }\n"
   ]
  },
  {
   "cell_type": "markdown",
   "metadata": {},
   "source": [
    "The reason why we emphasize the difference between call by value and call\n",
    "by reference is that it allows the programmer to avoid pitfalls\n",
    "like unwanted changes of variables. However, many people feel that this\n",
    "reduces the readability of the code.\n",
    "\n",
    "\n",
    "\n",
    "\n",
    "Let us look at further Example codes in C++, with writing to file and [dynamic allocation for arrays](https://github.com/CompPhysics/ComputationalPhysicsMSU/blob/master/doc/Programs/LecturePrograms/programs/Classes/cpp/program5.cpp)"
   ]
  },
  {
   "cell_type": "markdown",
   "metadata": {},
   "source": [
    "        #include <iostream>\n",
    "        #include <cmath>\n",
    "        #include <fstream>\n",
    "        #include <iomanip>\n",
    "        using namespace std; \n",
    "        \n",
    "        // output file as global variable\n",
    "        \n",
    "        ofstream ofile;  \n",
    "        \n",
    "        // Begin of main program   \n",
    "        \n",
    "        int main(int argc, char* argv[])\n",
    "        {\n",
    "          char *outfilename;\n",
    "          // Read in output file, abort if there are too few command-line arguments\n",
    "          if( argc <= 2 ){\n",
    "            cout << \"Bad Usage: \" << argv[0] << \n",
    "              \" read also output file and number of elements on same line\" << endl;\n",
    "            exit(1);\n",
    "          }\n",
    "          else{\n",
    "            outfilename=argv[1];\n",
    "          }\n",
    "        \n",
    "          //  opening a file for the program\n",
    "          ofile.open(outfilename); \n",
    "          int i = atoi(argv[2]); \n",
    "         /* we can define it as \n",
    "          int *a;\n",
    "          a = new int[i];\n",
    "          or as\n",
    "         */\n",
    "          double *a = new double[i]; \n",
    "          cout << \" bytes for i=\" << sizeof(i) << endl;\n",
    "          for (int j = 0; j < i; j++) {\n",
    "            a[j] = j*exp(2.0);\n",
    "            // ofile instead of cout\n",
    "            ofile << setw(15) << setprecision(8) << \"a=\" << a[j] << endl;\n",
    "          }\n",
    "          delete [] a; // free memory\n",
    "          ofile.close();  // close output file\n",
    "          return 0;\n",
    "        }\n",
    "        \n"
   ]
  },
  {
   "cell_type": "markdown",
   "metadata": {},
   "source": [
    "Here we read from the command line the number of elements **i** via"
   ]
  },
  {
   "cell_type": "markdown",
   "metadata": {},
   "source": [
    "          int i = atoi(argv[2]); \n"
   ]
  },
  {
   "cell_type": "markdown",
   "metadata": {},
   "source": [
    "and allocate memory dynamically by declaring a pointer array (a vector here) **a** using"
   ]
  },
  {
   "cell_type": "markdown",
   "metadata": {},
   "source": [
    "          double *a = new double[i];\n"
   ]
  },
  {
   "cell_type": "markdown",
   "metadata": {},
   "source": [
    "Using dynamic memory allocation we actually allow  memory to be more flexibly and explicitly managed.\n",
    "When the memory is no longer needed, the pointer is passed to free which deallocates the memory so that it can be used for other purposes. This is done by the **delete** statement"
   ]
  },
  {
   "cell_type": "markdown",
   "metadata": {},
   "source": [
    "          delete [] a; // free memory\n"
   ]
  },
  {
   "cell_type": "markdown",
   "metadata": {},
   "source": [
    "In the loop"
   ]
  },
  {
   "cell_type": "markdown",
   "metadata": {},
   "source": [
    "          for (int j = 0; j < i; j++) {\n",
    "            a[j] = j*exp(2.0);\n",
    "            // ofile instead of cout\n",
    "            ofile << setw(15) << setprecision(8) << \"a=\" << a[j] << endl;\n",
    "          }\n"
   ]
  },
  {
   "cell_type": "markdown",
   "metadata": {},
   "source": [
    "we assign a specific value to each array element and print to file. \n",
    "\n",
    "If we wish to time our function, the following [program](https://github.com/CompPhysics/ComputationalPhysicsMSU/blob/master/doc/Programs/LecturePrograms/programs/Classes/cpp/program7.cpp) gives a typical example."
   ]
  },
  {
   "cell_type": "markdown",
   "metadata": {},
   "source": [
    "        #include <cstdlib>\n",
    "        #include <iostream>\n",
    "        #include <cmath>\n",
    "        #include <iomanip> \n",
    "        #include \"time.h\"   // Not the use time.h\n",
    "        \n",
    "        using namespace std; // note use of namespace                                       \n",
    "        int main (int argc, char* argv[])\n",
    "        {\n",
    "          int i = atoi(argv[1]); \n",
    "          double *a, *b, *c;\n",
    "          a = new double[i]; \n",
    "          b = new double[i]; \n",
    "          c = new double[i]; \n",
    "        \n",
    "          clock_t start, finish;\n",
    "          start = clock();\n",
    "          for (int j = 0; j < i; j++) {\n",
    "            a[j] = cos(j*1.0);\n",
    "            b[j] = sin(j+3.0);\n",
    "            c[j] = 0.0;\n",
    "          }\n",
    "          for (int j = 0; j < i; j++) {\n",
    "            c[j] = a[j]+b[j];\n",
    "          }\n",
    "          finish = clock();\n",
    "          double timeused = (double) (finish - start)/(CLOCKS_PER_SEC );\n",
    "          cout << setiosflags(ios::showpoint | ios::uppercase);\n",
    "          cout << setprecision(10) << setw(20) << \"Time used  for vector addition=\" << timeused  << endl;\n",
    "          delete [] a;\n",
    "          delete [] b;\n",
    "          delete [] c;\n",
    "          return 0;           /* success execution of the program */\n",
    "        }\n"
   ]
  },
  {
   "cell_type": "markdown",
   "metadata": {},
   "source": [
    "When timing the program, you should carefully plan what to time. Here we calculate the time difference from the point where we start filling in the three arrays **a**, **b** and **c** defining the starting time as"
   ]
  },
  {
   "cell_type": "markdown",
   "metadata": {},
   "source": [
    "          clock_t start, finish;\n",
    "          start = clock();\n",
    "          for (int j = 0; j < i; j++) {\n"
   ]
  },
  {
   "cell_type": "markdown",
   "metadata": {},
   "source": [
    "The final time is when all operations we are interested in are concluded, namely at"
   ]
  },
  {
   "cell_type": "markdown",
   "metadata": {},
   "source": [
    "          for (int j = 0; j < i; j++) {\n",
    "            c[j] = a[j]+b[j];\n",
    "          }\n",
    "          finish = clock();\n"
   ]
  },
  {
   "cell_type": "markdown",
   "metadata": {},
   "source": [
    "The time difference from start to end, with its granularity is defined as"
   ]
  },
  {
   "cell_type": "markdown",
   "metadata": {},
   "source": [
    "          double timeused = (double) (finish - start)/(CLOCKS_PER_SEC );\n"
   ]
  },
  {
   "cell_type": "markdown",
   "metadata": {},
   "source": [
    "When timing a program you should pay attention to the following:\n",
    "1. Timers are not infinitely accurate\n",
    "\n",
    "2. All clocks have a granularity, the minimum time that they can measure\n",
    "\n",
    "3. The error in a time measurement, even if everything is perfect, may be the size of this granularity (sometimes called a clock tick)\n",
    "\n",
    "4. Always know what your clock granularity is\n",
    "\n",
    "5. Ensure that your measurement is for a long enough duration (say 100 times the **tick**)\n",
    "\n",
    "What happens when the code is executed? The assumption is that the code is ready to\n",
    "execute. But\n",
    "1. Code may still be on disk, and not even read into memory.\n",
    "\n",
    "2. Data may be in slow memory rather than fast (which may be wrong or right for what you are measuring)\n",
    "\n",
    "3. Multiple tests often necessary to ensure that cold start effects are not present\n",
    "\n",
    "4. Special effort often required to ensure data in the intended part of the memory hierarchy.\n",
    "\n",
    "You should thus think of a numerical calculation as an experiment. To provide benchmark times you should thus run the timing measurement several times and then take the average over a series of simulations. \n",
    "\n",
    "\n",
    "## Using **strings** instead of characters\n",
    "\n",
    "Till now we have used character variables when declaring for example filenames for output or input files. C++ offers a compact and flexible way of dealing with text strings through the **string** class. In the program below we wish for example to define several output files for our calculations byapending  to a basename read in on the command line various endings. These endings can then be used to recognize a specific calculation.\n",
    "Here we read the basic name of an ouput file and add to it the actual exponent used in a calculation by appending it to the file name. We show only the relevant parts"
   ]
  },
  {
   "cell_type": "markdown",
   "metadata": {},
   "source": [
    "        #include <iostream>\n",
    "        #include <fstream>\n",
    "        #include <iomanip>\n",
    "        #include <cmath>\n",
    "        #include <string>\n",
    "        // use namespace for output and input\n",
    "        using namespace std;\n",
    "        \n",
    "        // object for output files\n",
    "        ofstream ofile;\n",
    "        \n",
    "        \n",
    "        // Begin main program\n",
    "        int main(int argc, char *argv[]){\n",
    "          int exponent; \n",
    "            string filename;\n",
    "            // We read also the basic name for the output file and the highest power of 10^n we want\n",
    "            if( argc <= 1 ){\n",
    "                  cout << \"Bad Usage: \" << argv[0] <<\n",
    "                      \" read also file name on same line and max power 10^n\" << endl;\n",
    "                  exit(1);\n",
    "            }\n",
    "                else{\n",
    "                filename = argv[1]; // first command line argument after name of program\n",
    "                exponent = atoi(argv[2]);\n",
    "            }\n",
    "            // Loop over powers of 10\n",
    "            for (int i = 1; i <= exponent; i++){\n",
    "              int  n = (int) pow(10.0,i);\n",
    "              // Declare new file name\n",
    "              string fileout = filename;\n",
    "              // Convert the power 10^i to a string\n",
    "              string argument = to_string(i);\n",
    "              // Final filename as filename-i- by appending the power of 10\n",
    "              fileout.append(argument);\n",
    "              ofile.open(fileout);\n",
    "              ofile << setiosflags(ios::showpoint | ios::uppercase);\n",
    "              //   Do something \n",
    "              ofile.close();  // close output file wth given ending\n",
    "            }\n",
    "            return 0;\n",
    "        }\n"
   ]
  },
  {
   "cell_type": "markdown",
   "metadata": {},
   "source": [
    "Instead of our earlier definition"
   ]
  },
  {
   "cell_type": "markdown",
   "metadata": {},
   "source": [
    "          char *outfilename;\n"
   ]
  },
  {
   "cell_type": "markdown",
   "metadata": {},
   "source": [
    "we define now the same output file via the **string** statement, inheriting thus all functionality of the **string** class by writing"
   ]
  },
  {
   "cell_type": "markdown",
   "metadata": {},
   "source": [
    "            string filename;\n"
   ]
  },
  {
   "cell_type": "markdown",
   "metadata": {},
   "source": [
    "In the statement"
   ]
  },
  {
   "cell_type": "markdown",
   "metadata": {},
   "source": [
    "            filename = argv[1]; \n"
   ]
  },
  {
   "cell_type": "markdown",
   "metadata": {},
   "source": [
    "the variable **filename** gets the name of file we declared on the command line.\n",
    "A new file for the specific calculation is then established via"
   ]
  },
  {
   "cell_type": "markdown",
   "metadata": {},
   "source": [
    "              // Declare new file name\n",
    "              string fileout = filename;\n",
    "              // Convert the power 10^i to a string\n",
    "              string argument = to_string(i);\n",
    "              // Final filename as filename-i- by appending the power of 10\n",
    "              fileout.append(argument);\n",
    "              ofile.open(fileout);  // then open\n"
   ]
  },
  {
   "cell_type": "markdown",
   "metadata": {},
   "source": [
    "We recommend using the **string** class, it gives ou much more flexibility in handling strings. \n",
    "\n",
    "## Matrices in C++\n",
    "Another quantity we end up using again and again are matrices.\n",
    "We have  an $N\\times N$ matrix A  with $N=100$\n",
    "In C/C++ this would be  defined as"
   ]
  },
  {
   "cell_type": "markdown",
   "metadata": {},
   "source": [
    "           int N = 100;\n",
    "           double A[100][100];\n",
    "           //   initialize all elements to zero\n",
    "           for(i=0 ; i < N ; i++) {\n",
    "              for(j=0 ; j < N ; j++) {\n",
    "                 A[i][j] = 0.0;\n",
    "        \n"
   ]
  },
  {
   "cell_type": "markdown",
   "metadata": {},
   "source": [
    "Note the way the matrix is organized, row-major order.\n",
    "\n",
    "We have  $N\\times N$ matrices A, B and C and we wish to\n",
    "evaluate $A=B+C$."
   ]
  },
  {
   "cell_type": "markdown",
   "metadata": {},
   "source": [
    "$$\n",
    "\\mathbf{A}= \\mathbf{B}\\pm\\mathbf{C}  \\Longrightarrow a_{ij} = b_{ij}\\pm c_{ij},\n",
    "$$"
   ]
  },
  {
   "cell_type": "markdown",
   "metadata": {},
   "source": [
    "In C/C++ this would be coded like"
   ]
  },
  {
   "cell_type": "markdown",
   "metadata": {},
   "source": [
    "           for(i=0 ; i < N ; i++) {\n",
    "              for(j=0 ; j < N ; j++) {\n",
    "                 a[i][j] = b[i][j]+c[i][j]\n",
    "        \n"
   ]
  },
  {
   "cell_type": "markdown",
   "metadata": {},
   "source": [
    "We have  $N\\times N$ matrices A, B and C and we wish to\n",
    "evaluate $A=BC$."
   ]
  },
  {
   "cell_type": "markdown",
   "metadata": {},
   "source": [
    "$$\n",
    "\\mathbf{A}=\\mathbf{BC}   \\Longrightarrow a_{ij} = \\sum_{k=1}^{n} b_{ik}c_{kj},\n",
    "$$"
   ]
  },
  {
   "cell_type": "markdown",
   "metadata": {},
   "source": [
    "In C/C++ this would be coded like"
   ]
  },
  {
   "cell_type": "markdown",
   "metadata": {},
   "source": [
    "           for(i=0 ; i < N ; i++) {\n",
    "              for(j=0 ; j < N ; j++) {\n",
    "                 for(k=0 ; k < N ; k++) {\n",
    "                    a[i][j]+=b[i][k]*c[k][j];\n",
    "        \n"
   ]
  },
  {
   "cell_type": "markdown",
   "metadata": {},
   "source": [
    "The above matrices were all declared statically.\n",
    "For dynamic memory allocation in C++ there are \n",
    "several  possibilities\n",
    "\n",
    "  * Do it yourself\n",
    "\n",
    "  * Use the functions provided in the library package [lib.cpp](https://github.com/CompPhysics/ComputationalPhysics/blob/master/doc/Programs/LecturePrograms/programs/cppLibrary/lib.cpp)\n",
    "\n",
    "  * Use Armadillo <http://arma.sourceforgenet> (a C++ linear algebra library, discussion both here and at lab). \n",
    "\n",
    "  * Write yur own matrix-vector class (to be discussed later.\n",
    "\n",
    "A matrix in C++ is a double pointer, a pointer to a pointer. Here is how you would do it yourself."
   ]
  },
  {
   "cell_type": "markdown",
   "metadata": {},
   "source": [
    "        int N;\n",
    "        double **  A;\n",
    "        A = new double*[N]\n",
    "        for ( i = 0; i < N; i++)\n",
    "            A[i] = new double[N];\n"
   ]
  },
  {
   "cell_type": "markdown",
   "metadata": {},
   "source": [
    "Always free space when you don't need an array anymore."
   ]
  },
  {
   "cell_type": "markdown",
   "metadata": {},
   "source": [
    "        for ( i = 0; i < N; i++)\n",
    "            delete[] A[i];\n",
    "        delete[] A;\n"
   ]
  },
  {
   "cell_type": "markdown",
   "metadata": {},
   "source": [
    "Before we discuss a library like Armadillo (see below) and classes (we will discuss how to write our own matrix-vector class) it is instructive to look at the following two examples. The first program is an example of a single **main** function where we allocate and deallocate memory for three matrices using what we will call the basic C++ way of allocating and deallocating matrices. \n",
    "\"The first program[:](https://github.com/CompPhysics/ComputationalPhysicsMSU/blob/master/doc/Programs/LecturePrograms/programs/Classes/cpp/program9.cpp) is listed here. Both programs  compute the Froebenius norm of a matrix given by"
   ]
  },
  {
   "cell_type": "markdown",
   "metadata": {},
   "source": [
    "4\n",
    " \n",
    "<\n",
    "<\n",
    "<\n",
    "!\n",
    "!\n",
    "M\n",
    "A\n",
    "T\n",
    "H\n",
    "_\n",
    "B\n",
    "L\n",
    "O\n",
    "C\n",
    "K"
   ]
  },
  {
   "cell_type": "markdown",
   "metadata": {},
   "source": [
    "        #include <cstdlib>\n",
    "        #include <iostream>\n",
    "        #include <cmath>\n",
    "        #include <iomanip>\n",
    "        #include \"time.h\"\n",
    "        \n",
    "        using namespace std; // note use of namespace\n",
    "        int main (int argc, char* argv[])\n",
    "        {\n",
    "          // read in dimension of square matrix\n",
    "          int n = atoi(argv[1]);\n",
    "          double s = 1.0/sqrt( (double) n);\n",
    "          double **A, **B, **C;\n",
    "          // Start timing\n",
    "          clock_t start, finish;\n",
    "          start = clock();\n",
    "          // Allocate space for the three matrices\n",
    "          A = new double*[n]; B = new double*[n]; C = new double*[n];\n",
    "          for (int i = 0; i < n; i++){\n",
    "            A[i] = new double[n];\n",
    "            B[i] = new double[n];\n",
    "            C[i] = new double[n];\n",
    "          }\n",
    "          // Set up values for matrix A and B and zero matrix C\n",
    "          for (int i = 0; i < n; i++){\n",
    "            for (int j = 0; j < n; j++) {\n",
    "              double angle = 2.0*M_PI*i*j/ (( double ) n);\n",
    "              A[i][j] = s * ( sin ( angle ) + cos ( angle ) );\n",
    "              B[j][i] =  A[i][j];\n",
    "            }\n",
    "          }\n",
    "          // Then perform the matrix-matrix multiplication\n",
    "          for (int i = 0; i < n; i++){\n",
    "            for (int j = 0; j < n; j++) {\n",
    "              double sum = 0.0;\n",
    "               for (int k = 0; k < n; k++) {\n",
    "                   sum += B[i][k]*A[k][j];\n",
    "               }\n",
    "               C[i][j] = sum;\n",
    "            }\n",
    "          }\n",
    "          // Compute now the Frobenius norm\n",
    "          double Fsum = 0.0;\n",
    "          for (int i = 0; i < n; i++){\n",
    "            for (int j = 0; j < n; j++) {\n",
    "              Fsum += C[i][j]*C[i][j];\n",
    "            }\n",
    "          }\n",
    "          Fsum = sqrt(Fsum);\n",
    "          finish = clock();\n",
    "          double timeused = (double) (finish - start)/(CLOCKS_PER_SEC );\n",
    "          cout << setiosflags(ios::showpoint | ios::uppercase);\n",
    "          cout << setprecision(10) << setw(20) << \"Time used  for matrix-matrix multiplication=\" << timeused  << endl;\n",
    "          cout << \"  Frobenius norm  = \" << Fsum << endl;\n",
    "          // Free up space\n",
    "          for (int i = 0; i < n; i++){\n",
    "            delete[] A[i];\n",
    "            delete[] B[i];\n",
    "            delete[] C[i];\n",
    "          }\n",
    "          delete[] A;\n",
    "          delete[] B;\n",
    "          delete[] C;\n",
    "          return 0;\n",
    "        }\n"
   ]
  },
  {
   "cell_type": "markdown",
   "metadata": {},
   "source": [
    "Here we have defined three different matrices which we have declared as double pointers"
   ]
  },
  {
   "cell_type": "markdown",
   "metadata": {},
   "source": [
    "          // Allocate space for the three matrices\n",
    "          A = new double*[n]; B = new double*[n]; C = new double*[n];\n",
    "          for (int i = 0; i < n; i++){\n",
    "            A[i] = new double[n];\n",
    "            B[i] = new double[n];\n",
    "            C[i] = new double[n];\n",
    "          }\n",
    "        ....\n",
    "        // and finally we free space\n",
    "          // Free up space\n",
    "          for (int i = 0; i < n; i++){\n",
    "            delete[] A[i];\n",
    "            delete[] B[i];\n",
    "            delete[] C[i];\n",
    "          }\n",
    "          delete[] A;\n",
    "          delete[] B;\n",
    "          delete[] C;\n"
   ]
  },
  {
   "cell_type": "markdown",
   "metadata": {},
   "source": [
    "The matrices are defined as real $n\\times n$ matrices. It is easy to imagine that if we are to need many more matrices either in the main function or other user defined functions, we would have to write these operations again and again. This is something which can easily lead to errors. In the [next program](https://github.com/CompPhysics/ComputationalPhysicsMSU/blob/master/doc/Programs/LecturePrograms/programs/Classes/cpp/program10.cpp)  we have written four functions that allow us to hide these operations. \n",
    "Two of the functions allocate and deallocate memory for a matrix declared as a floating point variable, while the other two functions do the same for an integer type matrix. The allocation functions for the doubles and integers are practically identical except for the the matrices being either doubles or integer. This is not a very elegant way of programming. \n",
    "With classes we can generalize these operations to just two functions, as well as being able to add much more functionality. \n",
    "We will come back to this below. Our new program"
   ]
  },
  {
   "cell_type": "markdown",
   "metadata": {},
   "source": [
    "        // This program uses its own function for allocating and freeing memory for matrices\n",
    "        // It can be seen as an intermediate step towards the construction of a more general \n",
    "        // matrix vector class\n",
    "        \n",
    "        #include <cstdlib>\n",
    "        #include <iostream>\n",
    "        #include <cmath>\n",
    "        #include <iomanip>\n",
    "        #include \"time.h\"\n",
    "        \n",
    "        //  Declaring functions to allocate and free space for a matrix\n",
    "        \n",
    "        double ** CreateMatrix(int m, int n);\n",
    "        void DestroyMatrix(double ** mat, int m, int n); \n",
    "        \n",
    "        int ** ICreateMatrix(int m, int n);\n",
    "        void IDestroyMatrix(int ** mat, int m, int n);\n",
    "        \n",
    "        \n",
    "        using namespace std; // note use of namespace\n",
    "        int main (int argc, char* argv[])\n",
    "        {\n",
    "          // read in dimension of square matrix\n",
    "          int n = atoi(argv[1]);\n",
    "          double s = 1.0/sqrt( (double) n);\n",
    "          double **A, **B, **C;\n",
    "          // Start timing\n",
    "          clock_t start, finish;\n",
    "          start = clock();\n",
    "          // Allocate space for the three matrices\n",
    "          A = CreateMatrix(n, n);\n",
    "          B = CreateMatrix(n, n);\n",
    "          C = CreateMatrix(n, n);\n",
    "          // Set up values for matrix A and B and zero matrix C\n",
    "          for (int i = 0; i < n; i++){\n",
    "            for (int j = 0; j < n; j++) {\n",
    "              double angle = 2.0*M_PI*i*j/ (( double ) n);\n",
    "              A[i][j] = s * ( sin ( angle ) + cos ( angle ) );\n",
    "              B[j][i] =  A[i][j];\n",
    "            }\n",
    "          }\n",
    "          // Then perform the matrix-matrix multiplication\n",
    "          for (int i = 0; i < n; i++){\n",
    "            for (int j = 0; j < n; j++) {\n",
    "              double sum = 0.0;\n",
    "               for (int k = 0; k < n; k++) {\n",
    "                   sum += B[i][k]*A[k][j];\n",
    "               }\n",
    "               C[i][j] = sum;\n",
    "            }\n",
    "          }\n",
    "          // Compute now the Frobenius norm\n",
    "          double Fsum = 0.0;\n",
    "          for (int i = 0; i < n; i++){\n",
    "            for (int j = 0; j < n; j++) {\n",
    "              Fsum += C[i][j]*C[i][j];\n",
    "            }\n",
    "          }\n",
    "          Fsum = sqrt(Fsum);\n",
    "          finish = clock();\n",
    "          double timeused = (double) (finish - start)/(CLOCKS_PER_SEC );\n",
    "          cout << setiosflags(ios::showpoint | ios::uppercase);\n",
    "          cout << setprecision(10) << setw(20) << \"Time used  for matrix-matrix multiplication=\" << timeused  << endl;\n",
    "          cout << \"  Frobenius norm  = \" << Fsum << endl;\n",
    "          // Free up space\n",
    "          DestroyMatrix(A, n, n);   DestroyMatrix(B, n, n);   DestroyMatrix(C, n, n);\n",
    "          return 0;\n",
    "        }\n",
    "        \n",
    "        \n",
    "        //  Allocating space for a double type matrix\n",
    "        double ** CreateMatrix(int m, int n){\n",
    "          double ** mat;\n",
    "          mat = new double*[m];\n",
    "          for(int i=0;i<m;i++){\n",
    "            mat[i] = new double[n];\n",
    "            for(int j=0;j<m;j++)\n",
    "              mat[i][j] = 0.0;\n",
    "          }\n",
    "          return mat;\n",
    "        }\n",
    "        \n",
    "        //  Allocating space for an integer type  matrix\n",
    "        int ** ICreateMatrix(int m, int n){\n",
    "          int ** mat;\n",
    "          mat = new int*[m];\n",
    "          for(int i=0;i<m;i++){\n",
    "            mat[i] = new int[n];\n",
    "            for(int j=0;j<m;j++)\n",
    "              mat[i][j] = 0;\n",
    "          }\n",
    "          return mat;\n",
    "        }\n",
    "        \n",
    "        // Freeing space for a double type matrix \n",
    "        void DestroyMatrix(double ** mat, int m, int n){\n",
    "          for(int i=0;i<m;i++)\n",
    "            delete[] mat[i];\n",
    "          delete[] mat;\n",
    "        }\n",
    "        \n",
    "        // Freeing space for an integer type matrix \n",
    "        void IDestroyMatrix(int ** mat, int m, int n){\n",
    "          for(int i=0;i<m;i++)\n",
    "            delete[] mat[i];\n",
    "          delete[] mat;\n",
    "        }\n"
   ]
  },
  {
   "cell_type": "markdown",
   "metadata": {},
   "source": [
    "has now the desired functionality. A simple call like"
   ]
  },
  {
   "cell_type": "markdown",
   "metadata": {},
   "source": [
    "          A = CreateMatrix(n, n);\n"
   ]
  },
  {
   "cell_type": "markdown",
   "metadata": {},
   "source": [
    "allocates now space for matrix $\\hat{A}$ of dimensionality $n\\ times n$. This increases the readibility of the program and makes easier to declare and delete matrices.  In order to allocated memory for a floating point variable matrix we have defined the function"
   ]
  },
  {
   "cell_type": "markdown",
   "metadata": {},
   "source": [
    "        //  Allocating space for a double type matrix\n",
    "        double ** CreateMatrix(int m, int n){\n",
    "          double ** mat;\n",
    "          mat = new double*[m];\n",
    "          for(int i=0;i<m;i++){\n",
    "            mat[i] = new double[n];\n",
    "            for(int j=0;j<m;j++)\n",
    "              mat[i][j] = 0.0;\n",
    "          }\n",
    "          return mat;\n",
    "        }\n"
   ]
  },
  {
   "cell_type": "markdown",
   "metadata": {},
   "source": [
    "Note that here we initialize the matrix elements to zero. We always recommend to initialize variables in order to avoid random initialization values. Similarly, we free memory by"
   ]
  },
  {
   "cell_type": "markdown",
   "metadata": {},
   "source": [
    "        // Freeing space for a double type matrix \n",
    "        void DestroyMatrix(double ** mat, int m, int n){\n",
    "          for(int i=0;i<m;i++)\n",
    "            delete[] mat[i];\n",
    "          delete[] mat;\n",
    "        }\n"
   ]
  },
  {
   "cell_type": "markdown",
   "metadata": {},
   "source": [
    "Before we venture into the world of object orientation, we would like to introduce to you the popular  linear algebra library\n",
    "[Armadillo](http://arma.sourceforge.net/).\n",
    "\n",
    "  * Armadillo is a C++ linear algebra library (matrix maths) aiming towards a good balance between speed and ease of use. The syntax is deliberately similar to Matlab.\n",
    "\n",
    "  * Integer, floating point and complex numbers are supported, as well as a subset of trigonometric and statistics functions. Various matrix decompositions are provided through optional integration with LAPACK, or one of its high performance drop-in replacements (such as the multi-threaded MKL or ACML libraries).\n",
    "\n",
    "  * A delayed evaluation approach is employed (at compile-time) to combine several operations into one and reduce (or eliminate) the need for temporaries. This is accomplished through recursive templates and template meta-programming.\n",
    "\n",
    "  * Useful for conversion of research code into production environments, or if C++ has been decided as the language of choice, due to speed and/or integration capabilities.\n",
    "\n",
    "  * The library is open-source software, and is distributed under a license that is useful in both open-source and commercial/proprietary contexts.\n",
    "\n",
    "Here are simple examples."
   ]
  },
  {
   "cell_type": "markdown",
   "metadata": {},
   "source": [
    "        #include <iostream>\n",
    "        #include <armadillo>\n",
    "        \n",
    "        using namespace std;\n",
    "        using namespace arma;\n",
    "        \n",
    "        int main(int argc, char** argv)\n",
    "          {\n",
    "          mat A = randu<mat>(5,5);\n",
    "          mat B = randu<mat>(5,5);\n",
    "        \n",
    "          cout << A*B << endl;\n",
    "        \n",
    "          return 0;\n",
    "        \n"
   ]
  },
  {
   "cell_type": "markdown",
   "metadata": {},
   "source": [
    "For people using Ubuntu, Debian, Linux Mint, simply go to the synaptic package manager and install\n",
    "armadillo from there.\n",
    "You may have to install Lapack as well.\n",
    "For Mac and Windows users, follow the instructions from the webpage\n",
    "<http://arma.sourceforge.net>.  For MacOSX users we strongly recommend using [Brew](https://brew.sh/)  to install additional software.\n",
    "To compile, use for example (linux/ubuntu)"
   ]
  },
  {
   "cell_type": "markdown",
   "metadata": {},
   "source": [
    "        c++ -O2 -o program.x program.cpp  -larmadillo -llapack -lblas\n"
   ]
  },
  {
   "cell_type": "markdown",
   "metadata": {},
   "source": [
    "where the `-l` option indicates the library you wish to link to.\n",
    "\n",
    "For OS X users you may have to declare the paths to the include files and the libraries as"
   ]
  },
  {
   "cell_type": "markdown",
   "metadata": {},
   "source": [
    "        c++ -O2 -o program.x program.cpp  -L/usr/local/lib -I/usr/local/include -larmadillo -llapack -lblas\n"
   ]
  },
  {
   "cell_type": "markdown",
   "metadata": {},
   "source": [
    "        #include <iostream>\n",
    "        #include \"armadillo\"\n",
    "        using namespace arma;\n",
    "        using namespace std;\n",
    "        \n",
    "        int main(int argc, char** argv)\n",
    "          {\n",
    "          // directly specify the matrix size (elements are uninitialised)\n",
    "          mat A(2,3);\n",
    "          // .n_rows = number of rows    (read only)\n",
    "          // .n_cols = number of columns (read only)\n",
    "          cout << \"A.n_rows = \" << A.n_rows << endl;\n",
    "          cout << \"A.n_cols = \" << A.n_cols << endl;\n",
    "          // directly access an element (indexing starts at 0)\n",
    "          A(1,2) = 456.0;\n",
    "          A.print(\"A:\");\n",
    "          // scalars are treated as a 1x1 matrix,\n",
    "          // hence the code below will set A to have a size of 1x1\n",
    "          A = 5.0;\n",
    "          A.print(\"A:\");\n",
    "          // if you want a matrix with all elements set to a particular value\n",
    "          // the .fill() member function can be used\n",
    "          A.set_size(3,3);\n",
    "          A.fill(5.0);  A.print(\"A:\");\n",
    "          mat B;\n",
    "        \n",
    "          // endr indicates \"end of row\"\n",
    "          B << 0.555950 << 0.274690 << 0.540605 << 0.798938 << endr\n",
    "            << 0.108929 << 0.830123 << 0.891726 << 0.895283 << endr\n",
    "            << 0.948014 << 0.973234 << 0.216504 << 0.883152 << endr\n",
    "            << 0.023787 << 0.675382 << 0.231751 << 0.450332 << endr;\n",
    "        \n",
    "          // print to the cout stream\n",
    "          // with an optional string before the contents of the matrix\n",
    "          B.print(\"B:\");\n",
    "        \n",
    "          // the << operator can also be used to print the matrix\n",
    "          // to an arbitrary stream (cout in this case)\n",
    "          cout << \"B:\" << endl << B << endl;\n",
    "          // save to disk\n",
    "          B.save(\"B.txt\", raw_ascii);\n",
    "          // load from disk\n",
    "          mat C;\n",
    "          C.load(\"B.txt\");\n",
    "          C += 2.0 * B;\n",
    "          C.print(\"C:\");\n",
    "          // submatrix types:\n",
    "          //\n",
    "          // .submat(first_row, first_column, last_row, last_column)\n",
    "          // .row(row_number)\n",
    "          // .col(column_number)\n",
    "          // .cols(first_column, last_column)\n",
    "          // .rows(first_row, last_row)\n",
    "        \n",
    "          cout << \"C.submat(0,0,3,1) =\" << endl;\n",
    "          cout << C.submat(0,0,3,1) << endl;\n",
    "        \n",
    "          // generate the identity matrix\n",
    "          mat D = eye<mat>(4,4);\n",
    "        \n",
    "          D.submat(0,0,3,1) = C.cols(1,2);\n",
    "          D.print(\"D:\");\n",
    "        \n",
    "          // transpose\n",
    "          cout << \"trans(B) =\" << endl;\n",
    "          cout << trans(B) << endl;\n",
    "        \n",
    "          // maximum from each column (traverse along rows)\n",
    "          cout << \"max(B) =\" << endl;\n",
    "          cout << max(B) << endl;\n",
    "        \n",
    "          // maximum from each row (traverse along columns)\n",
    "          cout << \"max(B,1) =\" << endl;\n",
    "          cout << max(B,1) << endl;\n",
    "          // maximum value in B\n",
    "          cout << \"max(max(B)) = \" << max(max(B)) << endl;\n",
    "          // sum of each column (traverse along rows)\n",
    "          cout << \"sum(B) =\" << endl;\n",
    "          cout << sum(B) << endl;\n",
    "          // sum of each row (traverse along columns)\n",
    "          cout << \"sum(B,1) =\" << endl;\n",
    "          cout << sum(B,1) << endl;\n",
    "          // sum of all elements\n",
    "          cout << \"sum(sum(B)) = \" << sum(sum(B)) << endl;\n",
    "          cout << \"accu(B)     = \" << accu(B) << endl;\n",
    "          // trace = sum along diagonal\n",
    "          cout << \"trace(B)    = \" << trace(B) << endl;\n",
    "          // random matrix -- values are uniformly distributed in the [0,1] interval\n",
    "          mat E = randu<mat>(4,4);\n",
    "          E.print(\"E:\");\n",
    "        \n",
    "          // row vectors are treated like a matrix with one row\n",
    "          rowvec r;\n",
    "          r << 0.59499 << 0.88807 << 0.88532 << 0.19968;\n",
    "          r.print(\"r:\");\n",
    "        \n",
    "          // column vectors are treated like a matrix with one column\n",
    "          colvec q;\n",
    "          q << 0.81114 << 0.06256 << 0.95989 << 0.73628;\n",
    "          q.print(\"q:\");\n",
    "        \n",
    "          // dot or inner product\n",
    "          cout << \"as_scalar(r*q) = \" << as_scalar(r*q) << endl;\n",
    "        \n",
    "            // outer product\n",
    "          cout << \"q*r =\" << endl;\n",
    "          cout << q*r << endl;\n",
    "        \n",
    "        \n",
    "          // sum of three matrices (no temporary matrices are created)\n",
    "          mat F = B + C + D;\n",
    "          F.print(\"F:\");\n",
    "        \n",
    "            return 0;\n",
    "        \n"
   ]
  },
  {
   "cell_type": "markdown",
   "metadata": {},
   "source": [
    "        #include <iostream>\n",
    "        #include \"armadillo\"\n",
    "        using namespace arma;\n",
    "        using namespace std;\n",
    "        \n",
    "        int main(int argc, char** argv)\n",
    "          {\n",
    "          cout << \"Armadillo version: \" << arma_version::as_string() << endl;\n",
    "        \n",
    "          mat A;\n",
    "        \n",
    "          A << 0.165300 << 0.454037 << 0.995795 << 0.124098 << 0.047084 << endr\n",
    "            << 0.688782 << 0.036549 << 0.552848 << 0.937664 << 0.866401 << endr\n",
    "            << 0.348740 << 0.479388 << 0.506228 << 0.145673 << 0.491547 << endr\n",
    "            << 0.148678 << 0.682258 << 0.571154 << 0.874724 << 0.444632 << endr\n",
    "            << 0.245726 << 0.595218 << 0.409327 << 0.367827 << 0.385736 << endr;\n",
    "        \n",
    "          A.print(\"A =\");\n",
    "        \n",
    "          // determinant\n",
    "          cout << \"det(A) = \" << det(A) << endl;\n",
    "          // inverse\n",
    "          cout << \"inv(A) = \" << endl << inv(A) << endl;\n",
    "          double k = 1.23;\n",
    "        \n",
    "          mat    B = randu<mat>(5,5);\n",
    "          mat    C = randu<mat>(5,5);\n",
    "        \n",
    "          rowvec r = randu<rowvec>(5);\n",
    "          colvec q = randu<colvec>(5);\n",
    "        \n",
    "        \n",
    "          // examples of some expressions\n",
    "          // for which optimised implementations exist\n",
    "          // optimised implementation of a trinary expression\n",
    "          // that results in a scalar\n",
    "          cout << \"as_scalar( r*inv(diagmat(B))*q ) = \";\n",
    "          cout << as_scalar( r*inv(diagmat(B))*q ) << endl;\n",
    "        \n",
    "          // example of an expression which is optimised\n",
    "          // as a call to the dgemm() function in BLAS:\n",
    "          cout << \"k*trans(B)*C = \" << endl << k*trans(B)*C;\n",
    "        \n",
    "            return 0;\n",
    "        \n"
   ]
  },
  {
   "cell_type": "markdown",
   "metadata": {},
   "source": [
    "## [How to use the Library functions](https://github.com/CompPhysics/ComputationalPhysicsMSU/tree/master/doc/Programs/LecturePrograms/programs/cppLibrary)\n",
    "\n",
    "Standard C/C++: fetch the files `lib.cpp` and `lib.h`. You can make a directory where you store\n",
    "these files, and eventually its compiled version lib.o. The example here is [program1.cpp from chapter 6](https://github.com/CompPhysics/ComputationalPhysicsMSU/blob/master/doc/Programs/LecturePrograms/programs/LinAlgebra/cpp/program1.cpp) and performs the matrix inversion."
   ]
  },
  {
   "cell_type": "markdown",
   "metadata": {},
   "source": [
    "        //  Simple matrix inversion example\n",
    "        #include <iostream>\n",
    "        #include <new>\n",
    "        #include <cstdio>\n",
    "        #include <cstdlib>\n",
    "        #include <cmath>\n",
    "        #include <cstring>\n",
    "        #include \"lib.h\"\n",
    "        \n",
    "        using namespace std;\n",
    "        \n",
    "        /* function declarations */\n",
    "        \n",
    "        void inverse(double **, int);\n",
    "        \n",
    "        void inverse(double **a, int n)\n",
    "        {\n",
    "          int          i,j, *indx;\n",
    "          double       d, *col, **y;\n",
    "          // allocate space in memory\n",
    "          indx = new int[n];\n",
    "          col  = new double[n];\n",
    "          y    = (double **) matrix(n, n, sizeof(double));\n",
    "          ludcmp(a, n, indx, &d);   // LU decompose  a[][]\n",
    "          printf(\"\\n\\nLU form of matrix of a[][]:\\n\");\n",
    "          for(i = 0; i < n; i++) {\n",
    "            printf(\"\\n\");\n",
    "            for(j = 0; j < n; j++) {\n",
    "              printf(\" a[%2d][%2d] = %12.4E\",i, j, a[i][j]);\n",
    "          // find inverse of a[][] by columns\n",
    "          for(j = 0; j < n; j++) {\n",
    "            // initialize right-side of linear equations\n",
    "            for(i = 0; i < n; i++) col[i] = 0.0;\n",
    "            col[j] = 1.0;\n",
    "            lubksb(a, n, indx, col);\n",
    "            // save result in y[][]\n",
    "            for(i = 0; i < n; i++) y[i][j] = col[i];\n",
    "          }   //j-loop over columns\n",
    "          // return the inverse matrix in a[][]\n",
    "          for(i = 0; i < n; i++) {\n",
    "            for(j = 0; j < n; j++) a[i][j] = y[i][j];\n",
    "        \n",
    "          free_matrix((void **) y);     // release local memory\n",
    "          delete [] col;\n",
    "          delete []indx;\n",
    "        }  // End: function inverse()\n"
   ]
  },
  {
   "cell_type": "markdown",
   "metadata": {},
   "source": [
    "## [Using Armadillo to perform an LU decomposition](https://github.com/CompPhysics/ComputationalPhysicsMSU/blob/master/doc/Programs/CppQtCodesLectures/MatrixTest/main.cpp)"
   ]
  },
  {
   "cell_type": "markdown",
   "metadata": {},
   "source": [
    "        #include <iostream>\n",
    "        #include \"armadillo\"\n",
    "        using namespace arma;\n",
    "        using namespace std;\n",
    "        \n",
    "        int main()\n",
    "          {\n",
    "           mat A = randu<mat>(5,5);\n",
    "           vec b = randu<vec>(5);\n",
    "        \n",
    "          A.print(\"A =\");\n",
    "          b.print(\"b=\");\n",
    "          // solve Ax = b\n",
    "          vec x = solve(A,b);\n",
    "          // print x\n",
    "          x.print(\"x=\");\n",
    "          // find LU decomp of A, if needed, P is the permutation matrix\n",
    "          mat L, U;\n",
    "          lu(L,U,A);\n",
    "          // print l\n",
    "          L.print(\" L= \");\n",
    "          // print U\n",
    "          U.print(\" U= \");\n",
    "          //Check that A = LU\n",
    "          (A-P*L*U).print(\"Test of LU decomposition\");\n",
    "            return 0;\n",
    "          }\n"
   ]
  },
  {
   "cell_type": "markdown",
   "metadata": {},
   "source": [
    "## Optimization and profiling\n",
    "\n",
    "Till now we have not paid much attention to speed and possible optimization possibilities\n",
    "inherent in the various compilers. We have compiled and linked as"
   ]
  },
  {
   "cell_type": "markdown",
   "metadata": {},
   "source": [
    "        c++  -c  mycode.cpp\n",
    "        c++  -o  mycode.exe  mycode.o\n"
   ]
  },
  {
   "cell_type": "markdown",
   "metadata": {},
   "source": [
    "For Fortran replace with for example **gfortran** or **ifort**.\n",
    "This is what we call a flat compiler option and should be used when we develop the code.\n",
    "It produces normally a very large and slow code when translated to machine instructions.\n",
    "We use this option for debugging and for establishing the correct program output because\n",
    "every operation is done precisely as the user specified it.\n",
    "\n",
    "It is instructive to look up the compiler manual for further instructions by writing"
   ]
  },
  {
   "cell_type": "markdown",
   "metadata": {},
   "source": [
    "        man c++\n"
   ]
  },
  {
   "cell_type": "markdown",
   "metadata": {},
   "source": [
    "We have additional compiler options for optimization. These may include procedure inlining where \n",
    "performance may be improved, moving constants inside loops outside the loop, \n",
    "identify potential parallelism, include automatic vectorization or replace a division with a reciprocal\n",
    "and a multiplication if this speeds up the code."
   ]
  },
  {
   "cell_type": "markdown",
   "metadata": {},
   "source": [
    "        c++  -O3 -c  mycode.cpp\n",
    "        c++  -O3 -o  mycode.exe  mycode.o\n"
   ]
  },
  {
   "cell_type": "markdown",
   "metadata": {},
   "source": [
    "This (other options are -O2 or -Ofast) is the recommended option. \n",
    "\n",
    "\n",
    "It is also useful to profile your program under the development stage.\n",
    "You would then compile with"
   ]
  },
  {
   "cell_type": "markdown",
   "metadata": {},
   "source": [
    "        c++  -pg -O3 -c  mycode.cpp\n",
    "        c++  -pg -O3 -o  mycode.exe  mycode.o\n"
   ]
  },
  {
   "cell_type": "markdown",
   "metadata": {},
   "source": [
    "After you have run the code you can obtain the profiling information via"
   ]
  },
  {
   "cell_type": "markdown",
   "metadata": {},
   "source": [
    "        gprof mycode.exe >  ProfileOutput\n"
   ]
  },
  {
   "cell_type": "markdown",
   "metadata": {},
   "source": [
    "When you have profiled properly your code, you must take out this option as it \n",
    "slows down performance.\n",
    "For memory tests use [valgrind](http://www.valgrind.org). An excellent environment for all these aspects, and much  more, is  Qt creator.\n",
    "\n",
    "\n",
    "Adding debugging options is a very useful alternative under the development stage of a program.\n",
    "You would then compile with"
   ]
  },
  {
   "cell_type": "markdown",
   "metadata": {},
   "source": [
    "        c++  -g -O0 -c  mycode.cpp\n",
    "        c++  -g -O0 -o  mycode.exe  mycode.o\n"
   ]
  },
  {
   "cell_type": "markdown",
   "metadata": {},
   "source": [
    "This option generates debugging information allowing you to trace for example if an array is properly allocated. Some compilers work best with the no optimization option **-O0**. \n",
    "\n",
    "\n",
    "Depending on the compiler, one can add flags which generate code that catches integer overflow errors. \n",
    "The flag **-ftrapv** does this for the CLANG compiler on OS X operating systems.   \n",
    "\n",
    "In general, irrespective of compiler options, it is useful to\n",
    "* avoid if tests or call to functions inside loops, if possible. \n",
    "\n",
    "* avoid multiplication with constants inside loops if possible\n",
    "\n",
    "Here is an example of a part of a program where specific operations lead to a slower code"
   ]
  },
  {
   "cell_type": "markdown",
   "metadata": {},
   "source": [
    "        k = n-1;\n",
    "        for (i = 0; i < n; i++){\n",
    "            a[i] = b[i] +c*d;\n",
    "            e = g[k];\n",
    "        }\n"
   ]
  },
  {
   "cell_type": "markdown",
   "metadata": {},
   "source": [
    "A better code is"
   ]
  },
  {
   "cell_type": "markdown",
   "metadata": {},
   "source": [
    "        temp = c*d;\n",
    "        for (i = 0; i < n; i++){\n",
    "            a[i] = b[i] + temp;\n",
    "        }\n",
    "        e = g[n-1];\n"
   ]
  },
  {
   "cell_type": "markdown",
   "metadata": {},
   "source": [
    "Here we avoid a repeated multiplication inside a loop. \n",
    "Most compilers, depending on compiler flags, identify and optimize such bottlenecks on their own, without requiring any particular action by the programmer. However, it is always useful to single out and avoid code examples like the first one discussed here.\n",
    "\n",
    "\n",
    "## Vectorization and the basic idea behind parallel computing\n",
    "\n",
    "Present CPUs are highly parallel processors with varying levels of parallelism. The typical situation can be described via the following three statements.\n",
    "* Pursuit of shorter computation time and larger simulation size gives rise to parallel computing.\n",
    "\n",
    "* Multiple processors are involved to solve a global problem.\n",
    "\n",
    "* The essence is to divide the entire computation evenly among collaborative processors.  Divide and conquer.\n",
    "\n",
    "Before we proceed with a more detailed discussion of topics like vectorization and parallelization, we need to remind ourselves about some basic features of different hardware models. We have\n",
    "\n",
    "\n",
    "* Conventional single-processor computers are named SISD (single-instruction-single-data) machines.\n",
    "\n",
    "* SIMD (single-instruction-multiple-data) machines incorporate the idea of parallel processing, using a large number of processing units to execute the same instruction on different data.\n",
    "\n",
    "* Modern parallel computers are so-called MIMD (multiple-instruction-multiple-data) machines and can execute different instruction streams in parallel on different data.\n",
    "\n",
    "## What is vectorization?\n",
    "\n",
    "Vectorization is a special\n",
    "case of **Single Instructions Multiple Data** (SIMD) to denote a single\n",
    "instruction stream capable of operating on multiple data elements in\n",
    "parallel. \n",
    "We can think of vectorization as the unrolling of loops accompanied with SIMD instructions.\n",
    "\n",
    "Vectorization is the process of converting an algorithm that performs scalar operations\n",
    "(typically one operation at the time) to vector operations where a single operation can refer to many simultaneous operations.\n",
    "Consider the following example"
   ]
  },
  {
   "cell_type": "markdown",
   "metadata": {},
   "source": [
    "        for (i = 0; i < n; i++){\n",
    "            a[i] = b[i] + c[i];\n",
    "        }\n"
   ]
  },
  {
   "cell_type": "markdown",
   "metadata": {},
   "source": [
    "If the code is not vectorized, the compiler will simply start with the first element and \n",
    "then perform subsequent additions operating on one address in memory at the time. \n",
    "\n",
    "\n",
    "A SIMD instruction can operate  on multiple data elements in one single instruction.\n",
    "It uses the so-called 128-bit SIMD floating-point register. \n",
    "In this sense,vectorization adds some form of parallelism since one instruction is applied  \n",
    "to many parts of say a vector.\n",
    "\n",
    "The number of elements which can be operated on in parallel\n",
    "range from four single-precision floating point data elements in so-called \n",
    "Streaming SIMD Extensions and two double-precision floating-point data\n",
    "elements in Streaming SIMD Extensions 2 to sixteen byte operations in\n",
    "a 128-bit register in Streaming SIMD Extensions 2. Thus, vector-length\n",
    "ranges from 2 to 16, depending on the instruction extensions used and\n",
    "on the data type. \n",
    "\n",
    "\n",
    "We start with the simple scalar operations given by"
   ]
  },
  {
   "cell_type": "markdown",
   "metadata": {},
   "source": [
    "        for (i = 0; i < n; i++){\n",
    "            a[i] = b[i] + c[i];\n",
    "        }\n"
   ]
  },
  {
   "cell_type": "markdown",
   "metadata": {},
   "source": [
    "If the code is not vectorized  and we have a 128-bit register to store a 32 bits floating point number,\n",
    "it means that we have $3\\times 32$ bits that are not used. For the first element we have\n",
    "\n",
    "\n",
    "<table border=\"1\">\n",
    "<thead>\n",
    "<tr><th align=\"center\">  0  </th> <th align=\"center\">   1    </th> <th align=\"center\">   2    </th> <th align=\"center\">   3    </th> </tr>\n",
    "</thead>\n",
    "<tbody>\n",
    "<tr><td align=\"center\">   a[0]=    </td> <td align=\"center\">   not used    </td> <td align=\"center\">   not used    </td> <td align=\"center\">   not used    </td> </tr>\n",
    "<tr><td align=\"center\">   b[0]+    </td> <td align=\"center\">   not used    </td> <td align=\"center\">   not used    </td> <td align=\"center\">   not used    </td> </tr>\n",
    "<tr><td align=\"center\">   c[0]     </td> <td align=\"center\">   not used    </td> <td align=\"center\">   not used    </td> <td align=\"center\">   not used    </td> </tr>\n",
    "</tbody>\n",
    "</table>\n",
    "We have thus unused space in our SIMD registers. These registers could hold three additional integers.\n",
    "\n",
    "\n",
    "\n",
    "If we vectorize the code, we can perform, with a 128-bit register four simultaneous operations, that is\n",
    "we have"
   ]
  },
  {
   "cell_type": "markdown",
   "metadata": {},
   "source": [
    "        for (i = 0; i < n; i+=4){\n",
    "            a[i] = b[i] + c[i];\n",
    "            a[i+1] = b[i+1] + c[i+1];\n",
    "            a[i+2] = b[i+2] + c[i+2];\n",
    "            a[i+3] = b[i+3] + c[i+3];\n",
    "        }\n"
   ]
  },
  {
   "cell_type": "markdown",
   "metadata": {},
   "source": [
    "displayed here as\n",
    "\n",
    "<table border=\"1\">\n",
    "<thead>\n",
    "<tr><th align=\"center\">  0  </th> <th align=\"center\">  1  </th> <th align=\"center\">  2  </th> <th align=\"center\">  3  </th> </tr>\n",
    "</thead>\n",
    "<tbody>\n",
    "<tr><td align=\"center\">   a[0]=    </td> <td align=\"center\">   a[1]=    </td> <td align=\"center\">   a[2]=    </td> <td align=\"center\">   a[3]=    </td> </tr>\n",
    "<tr><td align=\"center\">   b[0]+    </td> <td align=\"center\">   b[1]+    </td> <td align=\"center\">   b[2]+    </td> <td align=\"center\">   b[3]+    </td> </tr>\n",
    "<tr><td align=\"center\">   c[0]     </td> <td align=\"center\">   c[1]     </td> <td align=\"center\">   c[2]     </td> <td align=\"center\">   c[3]     </td> </tr>\n",
    "</tbody>\n",
    "</table>\n",
    "Four additions are now done in a single step.\n",
    "\n",
    "\n",
    "## [A simple test case with and without vectorization](https://github.com/CompPhysics/ComputationalPhysicsMSU/blob/master/doc/Programs/LecturePrograms/programs/Classes/cpp/program7.cpp)\n",
    "We implement these operations in a simple c++ program as"
   ]
  },
  {
   "cell_type": "markdown",
   "metadata": {},
   "source": [
    "        #include <cstdlib>\n",
    "        #include <iostream>\n",
    "        #include <cmath>\n",
    "        #include <iomanip>\n",
    "        #include \"time.h\" \n",
    "        \n",
    "        using namespace std; // note use of namespace                                       \n",
    "        int main (int argc, char* argv[])\n",
    "        {\n",
    "          int i = atoi(argv[1]); \n",
    "          double *a, *b, *c;\n",
    "          a = new double[i]; \n",
    "          b = new double[i]; \n",
    "          c = new double[i]; \n",
    "          for (int j = 0; j < i; j++) {\n",
    "            a[j] = 0.0;\n",
    "            b[j] = cos(j*1.0);\n",
    "            c[j] = sin(j*3.0);\n",
    "          }\n",
    "          clock_t start, finish;\n",
    "          start = clock();\n",
    "          for (int j = 0; j < i; j++) {\n",
    "            a[j] = b[j]+b[j]*c[j];\n",
    "          }\n",
    "          finish = clock();\n",
    "          double timeused = (double) (finish - start)/(CLOCKS_PER_SEC );\n",
    "          cout << setiosflags(ios::showpoint | ios::uppercase);\n",
    "          cout << setprecision(10) << setw(20) << \"Time used  for vector addition and multiplication=\" << timeused  << endl;\n",
    "          delete [] a;\n",
    "          delete [] b;\n",
    "          delete [] c;\n",
    "          return 0;     \n",
    "        }\n"
   ]
  },
  {
   "cell_type": "markdown",
   "metadata": {},
   "source": [
    "We can compile and link without vectorization"
   ]
  },
  {
   "cell_type": "markdown",
   "metadata": {},
   "source": [
    "        c++ -o novec.x vecexample.cpp\n"
   ]
  },
  {
   "cell_type": "markdown",
   "metadata": {},
   "source": [
    "vand with vectorization (and additional optimizations)"
   ]
  },
  {
   "cell_type": "markdown",
   "metadata": {},
   "source": [
    "        c++ -O3 -o  vec.x vecexample.cpp \n"
   ]
  },
  {
   "cell_type": "markdown",
   "metadata": {},
   "source": [
    "The speedup depends on the size of the vectors. In the example here we have run with $10^7$ elements.\n",
    "The example here was run on a PC with ubuntu 14.04 as operating system and an Intel i7-4790 CPU running at 3.60 GHz."
   ]
  },
  {
   "cell_type": "markdown",
   "metadata": {},
   "source": [
    "        Compphys:~ hjensen$ ./vec.x 10000000\n",
    "        Time used  for vector addition = 0.0100000\n",
    "        Compphys:~ hjensen$ ./novec.x 10000000\n",
    "        Time used  for vector addition = 0.03000000000\n"
   ]
  },
  {
   "cell_type": "markdown",
   "metadata": {},
   "source": [
    "This particular C++ compiler speeds up the above loop operations with a factor of 3. \n",
    "Performing the same operations for $10^8$ elements results only in a factor $1.4$.\n",
    "The result will however vary from compiler to compiler. In general however, with optimization flags like $-O3$ or $-Ofast$, we gain a considerable speedup if our code can be vectorized. Many of these operations can be done automatically by your compiler. These automatic or near automatic compiler techniques improve performance considerably. \n",
    "\n",
    "\n",
    "Not all loops can be vectorized, as discussed in [Intel's guide to vectorization](https://software.intel.com/en-us/articles/a-guide-to-auto-vectorization-with-intel-c-compilers)\n",
    "\n",
    "An important criteria is that the loop counter $n$ is known at the entry of the loop."
   ]
  },
  {
   "cell_type": "markdown",
   "metadata": {},
   "source": [
    "          for (int j = 0; j < n; j++) {\n",
    "            a[j] = cos(j*1.0);\n",
    "          }\n"
   ]
  },
  {
   "cell_type": "markdown",
   "metadata": {},
   "source": [
    "The variable $n$ does need to be known at compile time. However, this variable must stay the same for the entire duration of the loop. It implies that an exit statement inside the loop cannot be data dependent.\n",
    "\n",
    "\n",
    "An exit statement should in general be avoided. \n",
    "If the exit statement contains data-dependent conditions, the loop cannot be vectorized. \n",
    "The following is an example of a non-vectorizable loop"
   ]
  },
  {
   "cell_type": "markdown",
   "metadata": {},
   "source": [
    "          for (int j = 0; j < n; j++) {\n",
    "            a[j] = cos(j*1.0);\n",
    "            if (a[j] < 0 ) break;\n",
    "          }\n"
   ]
  },
  {
   "cell_type": "markdown",
   "metadata": {},
   "source": [
    "Avoid loop termination conditions and opt for a single entry loop variable $n$. The lower and upper bounds have to be kept fixed within the loop. \n",
    "\n",
    "SIMD instructions perform the same type of operations multiple times. \n",
    "A **switch** statement leads thus to a non-vectorizable loop since different statemens cannot branch.\n",
    "The following code can however be vectorized since the **if** statement is implemented as a masked assignment."
   ]
  },
  {
   "cell_type": "markdown",
   "metadata": {},
   "source": [
    "          for (int j = 0; j < n; j++) {\n",
    "            double x  = cos(j*1.0);\n",
    "            if (x > 0 ) {\n",
    "               a[j] =  x*sin(j*2.0); \n",
    "            }\n",
    "            else {\n",
    "               a[j] = 0.0;\n",
    "            }\n",
    "          }\n"
   ]
  },
  {
   "cell_type": "markdown",
   "metadata": {},
   "source": [
    "These operations can be performed for all data elements but only those elements which the mask evaluates as true are stored. In general, one should avoid branches such as **switch**, **go to**, or **return** statements or **if** constructs that cannot be treated as masked assignments. \n",
    "\n",
    "\n",
    "\n",
    "\n",
    "Only the innermost loop of the following example is vectorized"
   ]
  },
  {
   "cell_type": "markdown",
   "metadata": {},
   "source": [
    "          for (int i = 0; i < n; i++) {\n",
    "              for (int j = 0; j < n; j++) {\n",
    "                   a[i][j] += b[i][j];\n",
    "              }  \n",
    "          }\n"
   ]
  },
  {
   "cell_type": "markdown",
   "metadata": {},
   "source": [
    "The exception is if an original outer loop is transformed into an inner loop as the result of compiler optimizations.\n",
    "\n",
    "\n",
    "\n",
    "Calls to programmer defined functions ruin vectorization. However, calls to intrinsic functions like\n",
    "$\\sin{x}$, $\\cos{x}$, $\\exp{x}$ etc are allowed since they are normally efficiently vectorized. \n",
    "The following example is fully vectorizable"
   ]
  },
  {
   "cell_type": "markdown",
   "metadata": {},
   "source": [
    "          for (int i = 0; i < n; i++) {\n",
    "              a[i] = log10(i)*cos(i);\n",
    "          }\n"
   ]
  },
  {
   "cell_type": "markdown",
   "metadata": {},
   "source": [
    "Similarly, **inline** functions defined by the programmer, allow for vectorization since the function statements are glued into the actual place where the function is called. \n",
    "\n",
    "\n",
    "\n",
    "One has to keep in mind that vectorization changes the order of operations inside a loop. A so-called\n",
    "read-after-write statement with an explicit flow dependency cannot be vectorized. The following code"
   ]
  },
  {
   "cell_type": "markdown",
   "metadata": {},
   "source": [
    "          double b = 15.;\n",
    "          for (int i = 1; i < n; i++) {\n",
    "              a[i] = a[i-1] + b;\n",
    "          }\n"
   ]
  },
  {
   "cell_type": "markdown",
   "metadata": {},
   "source": [
    "is an example of flow dependency and results in wrong numerical results if vectorized. For a scalar operation, the value $a[i-1]$ computed during the iteration is loaded into the right-hand side and the results are fine. In vector mode however, with a vector length of four, the values $a[0]$, $a[1]$, $a[2]$ and $a[3]$ from the previous loop will be loaded into the right-hand side and produce wrong results. That is, we have"
   ]
  },
  {
   "cell_type": "markdown",
   "metadata": {},
   "source": [
    "           a[1] = a[0] + b;\n",
    "           a[2] = a[1] + b;\n",
    "           a[3] = a[2] + b;\n",
    "           a[4] = a[3] + b;\n"
   ]
  },
  {
   "cell_type": "markdown",
   "metadata": {},
   "source": [
    "and if the two first iterations are  executed at the same by the SIMD instruction, the value of say $a[1]$ could be used by the second iteration before it has been calculated by the first iteration, leading thereby to wrong results.\n",
    "\n",
    "\n",
    "On the other hand,  a so-called \n",
    "write-after-read statement can be vectorized. The following code"
   ]
  },
  {
   "cell_type": "markdown",
   "metadata": {},
   "source": [
    "          double b = 15.;\n",
    "          for (int i = 1; i < n; i++) {\n",
    "              a[i-1] = a[i] + b;\n",
    "          }\n"
   ]
  },
  {
   "cell_type": "markdown",
   "metadata": {},
   "source": [
    "is an example of flow dependency that can be vectorized since no iteration with a higher value of $i$\n",
    "can complete before an iteration with a lower value of $i$. However, such code leads to problems with parallelization.\n",
    "\n",
    "\n",
    "\n",
    "For C++ programmers  it is also worth keeping in mind that an array notation is preferred to the more compact use of pointers to access array elements. The compiler can often not tell if it is safe to vectorize the code. \n",
    "\n",
    "When dealing with arrays, you should also avoid memory stride, since this slows down considerably vectorization. When you access array element, write for example the inner loop to vectorize using unit stride, that is, access successively the next array element in memory, as shown here"
   ]
  },
  {
   "cell_type": "markdown",
   "metadata": {},
   "source": [
    "          for (int i = 0; i < n; i++) {\n",
    "              for (int j = 0; j < n; j++) {\n",
    "                   a[i][j] += b[i][j];\n",
    "              }  \n",
    "          }\n"
   ]
  },
  {
   "cell_type": "markdown",
   "metadata": {},
   "source": [
    "We can compile and link without vectorization using the clang c++ (on OSX for example) compiler"
   ]
  },
  {
   "cell_type": "markdown",
   "metadata": {},
   "source": [
    "        clang -o novec.x vecexample.cpp\n"
   ]
  },
  {
   "cell_type": "markdown",
   "metadata": {},
   "source": [
    "and with vectorization (and additional optimizations)"
   ]
  },
  {
   "cell_type": "markdown",
   "metadata": {},
   "source": [
    "        clang++ -O3 -Rpass=loop-vectorize -o  vec.x vecexample.cpp \n"
   ]
  },
  {
   "cell_type": "markdown",
   "metadata": {},
   "source": [
    "The speedup depends on the size of the vectors. In the example here we have run with $10^7$ elements.\n",
    "The example here was run on an IMac17.1 with OSX El Capitan (10.11.4) as operating system and an Intel i5 3.3 GHz CPU."
   ]
  },
  {
   "cell_type": "markdown",
   "metadata": {},
   "source": [
    "        Compphys:~ hjensen$ ./vec.x 10000000\n",
    "        Time used  for norm computation=0.04720500000\n",
    "        Compphys:~ hjensen$ ./novec.x 10000000\n",
    "        Time used  for norm computation=0.03311700000\n"
   ]
  },
  {
   "cell_type": "markdown",
   "metadata": {},
   "source": [
    "This particular C++ compiler speeds up the above loop operations with a factor of 1.5 \n",
    "Performing the same operations for $10^9$ elements results in a smaller speedup since reading from main memory is required. The non-vectorized code is seemingly faster."
   ]
  },
  {
   "cell_type": "markdown",
   "metadata": {},
   "source": [
    "        Compphys:~ hjensen$ ./vec.x 1000000000\n",
    "        Time used  for norm computation=58.41391100\n",
    "        Compphys:~ hjensen$ ./novec.x 1000000000\n",
    "        Time used  for norm computation=46.51295300\n"
   ]
  },
  {
   "cell_type": "markdown",
   "metadata": {},
   "source": [
    "We will discuss these issues below.\n",
    "\n",
    "We can compile and link without vectorization with clang compiler"
   ]
  },
  {
   "cell_type": "markdown",
   "metadata": {},
   "source": [
    "        clang++ -o -fno-vectorize novec.x vecexample.cpp\n"
   ]
  },
  {
   "cell_type": "markdown",
   "metadata": {},
   "source": [
    "and with vectorization"
   ]
  },
  {
   "cell_type": "markdown",
   "metadata": {},
   "source": [
    "        clang++ -O3 -Rpass=loop-vectorize -o  vec.x vecexample.cpp \n"
   ]
  },
  {
   "cell_type": "markdown",
   "metadata": {},
   "source": [
    "We can also add vectorization analysis, see for example"
   ]
  },
  {
   "cell_type": "markdown",
   "metadata": {},
   "source": [
    "        clang++ -O3 -Rpass-analysis=loop-vectorize -o  vec.x vecexample.cpp \n"
   ]
  },
  {
   "cell_type": "markdown",
   "metadata": {},
   "source": [
    "or figure out if vectorization was missed"
   ]
  },
  {
   "cell_type": "markdown",
   "metadata": {},
   "source": [
    "        clang++ -O3 -Rpass-missed=loop-vectorize -o  vec.x vecexample.cpp \n"
   ]
  },
  {
   "cell_type": "markdown",
   "metadata": {},
   "source": [
    "## Measuring performance\n",
    "\n",
    "How do we measure erformance? What is wrong with this code to time a loop?"
   ]
  },
  {
   "cell_type": "markdown",
   "metadata": {},
   "source": [
    "          clock_t start, finish;\n",
    "          start = clock();\n",
    "          for (int j = 0; j < i; j++) {\n",
    "            a[j] = b[j]+b[j]*c[j];\n",
    "          }\n",
    "          finish = clock();\n",
    "          double timeused = (double) (finish - start)/(CLOCKS_PER_SEC );\n"
   ]
  },
  {
   "cell_type": "markdown",
   "metadata": {},
   "source": [
    "## Problems with measuring time\n",
    "1. Timers are not infinitely accurate\n",
    "\n",
    "2. All clocks have a granularity, the minimum time that they can measure\n",
    "\n",
    "3. The error in a time measurement, even if everything is perfect, may be the size of this granularity (sometimes called a clock tick)\n",
    "\n",
    "4. Always know what your clock granularity is\n",
    "\n",
    "5. Ensure that your measurement is for a long enough duration (say 100 times the **tick**)\n",
    "\n",
    "## Problems with cold start\n",
    "\n",
    "What happens when the code is executed? The assumption is that the code is ready to\n",
    "execute. But\n",
    "1. Code may still be on disk, and not even read into memory.\n",
    "\n",
    "2. Data may be in slow memory rather than fast (which may be wrong or right for what you are measuring)\n",
    "\n",
    "3. Multiple tests often necessary to ensure that cold start effects are not present\n",
    "\n",
    "4. Special effort often required to ensure data in the intended part of the memory hierarchy.\n",
    "\n",
    "## Problems with smart compilers\n",
    "\n",
    "1. If the result of the computation is not used, the compiler may eliminate the code\n",
    "\n",
    "2. Performance will look impossibly fantastic\n",
    "\n",
    "3. Even worse, eliminate some of the code so the performance looks plausible\n",
    "\n",
    "4. Ensure that the results are (or may be) used.\n",
    "\n",
    "## Problems with interference\n",
    "1. Other activities are sharing your processor\n",
    "\n",
    "  * Operating system, system demons, other users\n",
    "\n",
    "   * Some parts of the hardware do not always perform with exactly the same performance\n",
    "\n",
    "\n",
    "\n",
    "2. Make multiple tests and report\n",
    "\n",
    "3. Easy choices include\n",
    "\n",
    "  * Average tests represent what users might observe over time\n",
    "\n",
    "\n",
    "## Problems with measuring performance\n",
    "1. Accurate, reproducible performance measurement is hard\n",
    "\n",
    "2. Think carefully about your experiment:\n",
    "\n",
    "3. What is it, precisely, that you want to measure\n",
    "\n",
    "4. How representative is your test to the situation that you are trying to measure?\n",
    "\n",
    "## Thomas algorithm for tridiagonal linear algebra equations"
   ]
  },
  {
   "cell_type": "markdown",
   "metadata": {},
   "source": [
    "$$\n",
    "\\left( \\begin{array}{ccccc}\n",
    "        b_0 & c_0 &        &         &         \\\\\n",
    "\ta_0 &  b_1 &  c_1    &         &         \\\\\n",
    "\t   &    & \\ddots  &         &         \\\\\n",
    "\t      &\t    & a_{m-3} & b_{m-2} & c_{m-2} \\\\\n",
    "\t         &    &         & a_{m-2} & b_{m-1}\n",
    "   \\end{array} \\right)\n",
    "\\left( \\begin{array}{c}\n",
    "       x_0     \\\\\n",
    "       x_1     \\\\\n",
    "       \\vdots  \\\\\n",
    "       x_{m-2} \\\\\n",
    "       x_{m-1}\n",
    "   \\end{array} \\right)=\\left( \\begin{array}{c}\n",
    "       f_0     \\\\\n",
    "       f_1     \\\\\n",
    "       \\vdots  \\\\\n",
    "       f_{m-2} \\\\\n",
    "       f_{m-1} \\\\\n",
    "   \\end{array} \\right)\n",
    "$$"
   ]
  },
  {
   "cell_type": "markdown",
   "metadata": {},
   "source": [
    "The first step is to multiply the first row by $a_0/b_0$ and subtract it from the second row.  This is known as the forward substitution step. We obtain then"
   ]
  },
  {
   "cell_type": "markdown",
   "metadata": {},
   "source": [
    "$$\n",
    "a_i = 0,\n",
    "$$"
   ]
  },
  {
   "cell_type": "markdown",
   "metadata": {},
   "source": [
    "$$\n",
    "b_i = b_i - \\frac{a_{i-1}}{b_{i-1}}c_{i-1},\n",
    "$$"
   ]
  },
  {
   "cell_type": "markdown",
   "metadata": {},
   "source": [
    "and"
   ]
  },
  {
   "cell_type": "markdown",
   "metadata": {},
   "source": [
    "$$\n",
    "f_i = f_i - \\frac{a_{i-1}}{b_{i-1}}f_{i-1}.\n",
    "$$"
   ]
  },
  {
   "cell_type": "markdown",
   "metadata": {},
   "source": [
    "At this point the simplified equation, with only an upper triangular matrix takes the form"
   ]
  },
  {
   "cell_type": "markdown",
   "metadata": {},
   "source": [
    "$$\n",
    "\\left( \\begin{array}{ccccc}\n",
    "    b_0 & c_0 &        &         &         \\\\\n",
    "       & b_1 &  c_1    &         &         \\\\\n",
    "          &    & \\ddots &         &         \\\\\n",
    "\t     &     &        & b_{m-2} & c_{m-2} \\\\\n",
    "\t        &    &        &         & b_{m-1}\n",
    "   \\end{array} \\right)\\left( \\begin{array}{c}\n",
    "       x_0     \\\\\n",
    "       x_1     \\\\\n",
    "       \\vdots  \\\\\n",
    "       x_{m-2} \\\\\n",
    "       x_{m-1}\n",
    "   \\end{array} \\right)=\\left( \\begin{array}{c}\n",
    "       f_0     \\\\\n",
    "       f_1     \\\\\n",
    "       \\vdots  \\\\\n",
    "       f_{m-2} \\\\\n",
    "       f_{m-1} \\\\\n",
    "   \\end{array} \\right)\n",
    "$$"
   ]
  },
  {
   "cell_type": "markdown",
   "metadata": {},
   "source": [
    "The next step is  the backward substitution step.  The last row is multiplied by $c_{N-3}/b_{N-2}$ and subtracted from the second to last row, thus eliminating $c_{N-3}$ from the last row.  The general backward substitution procedure is"
   ]
  },
  {
   "cell_type": "markdown",
   "metadata": {},
   "source": [
    "$$\n",
    "c_i = 0,\n",
    "$$"
   ]
  },
  {
   "cell_type": "markdown",
   "metadata": {},
   "source": [
    "and"
   ]
  },
  {
   "cell_type": "markdown",
   "metadata": {},
   "source": [
    "$$\n",
    "f_{i-1} = f_{i-1} - \\frac{c_{i-1}}{b_i}f_i\n",
    "$$"
   ]
  },
  {
   "cell_type": "markdown",
   "metadata": {},
   "source": [
    "All that remains to be computed is the solution, which is the very straight forward process of"
   ]
  },
  {
   "cell_type": "markdown",
   "metadata": {},
   "source": [
    "$$\n",
    "x_i = \\frac{f_i}{b_i}\n",
    "$$"
   ]
  },
  {
   "cell_type": "markdown",
   "metadata": {},
   "source": [
    "<table border=\"1\">\n",
    "<thead>\n",
    "<tr><th align=\"center\">   Operation   </th> <th align=\"center\">Floating Point</th> </tr>\n",
    "</thead>\n",
    "<tbody>\n",
    "<tr><td align=\"center\">   Memory Reads       </td> <td align=\"center\">   $14(N-2)$         </td> </tr>\n",
    "<tr><td align=\"center\">   Memory Writes      </td> <td align=\"center\">   $4(N-2)$          </td> </tr>\n",
    "<tr><td align=\"center\">   Subtractions       </td> <td align=\"center\">   $3(N-2)$          </td> </tr>\n",
    "<tr><td align=\"center\">   Multiplications    </td> <td align=\"center\">   $3(N-2)$          </td> </tr>\n",
    "<tr><td align=\"center\">   Divisions          </td> <td align=\"center\">   $4(N-2)$          </td> </tr>\n",
    "</tbody>\n",
    "</table>"
   ]
  },
  {
   "cell_type": "markdown",
   "metadata": {},
   "source": [
    "        // Forward substitution    \n",
    "        // Note that we can simplify by precalculating a[i-1]/b[i-1]\n",
    "          for (int i=1; i < n; i++) {\n",
    "             b[i] = b[i] - (a[i-1]*c[i-1])/b[i-1];\n",
    "             f[i] = g[i] - (a[i-1]*f[i-1])/b[i-1];\n",
    "          }\n",
    "          x[n-1] = f[n-1] / b[n-1];\n",
    "          // Backwards substitution                                                           \n",
    "          for (int i = n-2; i >= 0; i--) {\n",
    "             f[i] = f[i] - c[i]*f[i+1]/b[i+1];\n",
    "             x[i] = f[i]/b[i];\n",
    "          }\n"
   ]
  },
  {
   "cell_type": "markdown",
   "metadata": {},
   "source": [
    "## [The specialized Thomas algorithm (Project 1)](https://github.com/CompPhysics/ComputationalPhysics/blob/master/doc/Projects/2016/Project1/Examples/TridiagonalTiming.cpp)\n",
    "\n",
    "\n",
    "<table border=\"1\">\n",
    "<thead>\n",
    "<tr><th align=\"center\">  Operation  </th> <th align=\"center\">Floating Point</th> </tr>\n",
    "</thead>\n",
    "<tbody>\n",
    "<tr><td align=\"center\">   Memory Reads     </td> <td align=\"center\">   $6(N-2)$          </td> </tr>\n",
    "<tr><td align=\"center\">   Memory Writes    </td> <td align=\"center\">   $2(N-2)$          </td> </tr>\n",
    "<tr><td align=\"center\">   Additions        </td> <td align=\"center\">   $2(N-2)$          </td> </tr>\n",
    "<tr><td align=\"center\">   Divisions        </td> <td align=\"center\">   $2(N-2)$          </td> </tr>\n",
    "</tbody>\n",
    "</table>"
   ]
  },
  {
   "cell_type": "markdown",
   "metadata": {},
   "source": [
    "              // Forward substitution cannot be vectorized\n",
    "              for (int i = 2; i < n; i++) b[i] = b[i] + b[i-1]/d[i-1];\n",
    "              // Backward substitution  cannot be vectorized\n",
    "              solution[n-1] = b[n-1]/d[n-1];\n",
    "              for (int i = n-2; i > 0; i--) solution[i] = (b[i]+solution[i+1])/d[i];\n"
   ]
  },
  {
   "cell_type": "markdown",
   "metadata": {},
   "source": [
    "## [Example: Transpose of a matrix](https://github.com/CompPhysics/ComputationalPhysicsMSU/blob/master/doc/Programs/LecturePrograms/programs/Classes/cpp/program8.cpp)"
   ]
  },
  {
   "cell_type": "markdown",
   "metadata": {},
   "source": [
    "        #include <cstdlib>\n",
    "        #include <iostream>\n",
    "        #include <cmath>\n",
    "        #include <iomanip>\n",
    "        #include \"time.h\"\n",
    "        \n",
    "        using namespace std; // note use of namespace\n",
    "        int main (int argc, char* argv[])\n",
    "        {\n",
    "          // read in dimension of square matrix\n",
    "          int n = atoi(argv[1]);\n",
    "          double **A, **B;\n",
    "          // Allocate space for the two matrices\n",
    "          A = new double*[n]; B = new double*[n];\n",
    "          for (int i = 0; i < n; i++){\n",
    "            A[i] = new double[n];\n",
    "            B[i] = new double[n];\n",
    "          }\n",
    "          // Set up values for matrix A\n",
    "          for (int i = 0; i < n; i++){\n",
    "            for (int j = 0; j < n; j++) {\n",
    "              A[i][j] =  cos(i*1.0)*sin(j*3.0);\n",
    "            }\n",
    "          }\n",
    "          clock_t start, finish;\n",
    "          start = clock();\n",
    "          // Then compute the transpose\n",
    "          for (int i = 0; i < n; i++){\n",
    "            for (int j = 0; j < n; j++) {\n",
    "              B[i][j]= A[j][i];\n",
    "            }\n",
    "          }\n",
    "        \n",
    "          finish = clock();\n",
    "          double timeused = (double) (finish - start)/(CLOCKS_PER_SEC );\n",
    "          cout << setiosflags(ios::showpoint | ios::uppercase);\n",
    "          cout << setprecision(10) << setw(20) << \"Time used  for setting up transpose of matrix=\" << timeused  << endl;\n",
    "        \n",
    "          // Free up space\n",
    "          for (int i = 0; i < n; i++){\n",
    "            delete[] A[i];\n",
    "            delete[] B[i];\n",
    "          }\n",
    "          delete[] A;\n",
    "          delete[] B;\n",
    "          return 0;\n",
    "        }\n",
    "        \n"
   ]
  },
  {
   "cell_type": "markdown",
   "metadata": {},
   "source": [
    "## [Matrix-matrix multiplication](https://github.com/CompPhysics/ComputationalPhysicsMSU/blob/master/doc/Programs/LecturePrograms/programs/Classes/cpp/program9.cpp)\n",
    "This the matrix-matrix multiplication code with plain c++ memory allocation. It computes at the end the Frobenius norm."
   ]
  },
  {
   "cell_type": "markdown",
   "metadata": {},
   "source": [
    "        #include <cstdlib>\n",
    "        #include <iostream>\n",
    "        #include <cmath>\n",
    "        #include <iomanip>\n",
    "        #include \"time.h\"\n",
    "        \n",
    "        using namespace std; // note use of namespace\n",
    "        int main (int argc, char* argv[])\n",
    "        {\n",
    "          // read in dimension of square matrix\n",
    "          int n = atoi(argv[1]);\n",
    "          double s = 1.0/sqrt( (double) n);\n",
    "          double **A, **B, **C;\n",
    "          // Start timing\n",
    "          clock_t start, finish;\n",
    "          start = clock();\n",
    "          // Allocate space for the two matrices\n",
    "          A = new double*[n]; B = new double*[n]; C = new double*[n];\n",
    "          for (int i = 0; i < n; i++){\n",
    "            A[i] = new double[n];\n",
    "            B[i] = new double[n];\n",
    "            C[i] = new double[n];\n",
    "          }\n",
    "          // Set up values for matrix A and B and zero matrix C\n",
    "          for (int i = 0; i < n; i++){\n",
    "            for (int j = 0; j < n; j++) {\n",
    "              double angle = 2.0*M_PI*i*j/ (( double ) n);\n",
    "              A[i][j] = s * ( sin ( angle ) + cos ( angle ) );\n",
    "              B[j][i] =  A[i][j];\n",
    "            }\n",
    "          }\n",
    "          // Then perform the matrix-matrix multiplication\n",
    "          for (int i = 0; i < n; i++){\n",
    "            for (int j = 0; j < n; j++) {\n",
    "              double sum = 0.0;\n",
    "               for (int k = 0; k < n; k++) {\n",
    "                   sum += B[i][k]*A[k][j];\n",
    "               }\n",
    "               C[i][j] = sum;\n",
    "            }\n",
    "          }\n",
    "          // Compute now the Frobenius norm\n",
    "          double Fsum = 0.0;\n",
    "          for (int i = 0; i < n; i++){\n",
    "            for (int j = 0; j < n; j++) {\n",
    "              Fsum += C[i][j]*C[i][j];\n",
    "            }\n",
    "          }\n",
    "          Fsum = sqrt(Fsum);\n",
    "          finish = clock();\n",
    "          double timeused = (double) (finish - start)/(CLOCKS_PER_SEC );\n",
    "          cout << setiosflags(ios::showpoint | ios::uppercase);\n",
    "          cout << setprecision(10) << setw(20) << \"Time used  for matrix-matrix multiplication=\" << timeused  << endl;\n",
    "          cout << \"  Frobenius norm  = \" << Fsum << endl;\n",
    "          // Free up space\n",
    "          for (int i = 0; i < n; i++){\n",
    "            delete[] A[i];\n",
    "            delete[] B[i];\n",
    "            delete[] C[i];\n",
    "          }\n",
    "          delete[] A;\n",
    "          delete[] B;\n",
    "          delete[] C;\n",
    "          return 0;\n",
    "        }\n"
   ]
  },
  {
   "cell_type": "markdown",
   "metadata": {},
   "source": [
    "## How do we define speedup? Simplest form\n",
    "\n",
    "* Speedup(code,sys,p) = $T_b/T_p$\n",
    "\n",
    "* Speedup measures the ratio of performance between two objects\n",
    "\n",
    "* Versions of same code, with different number of processors\n",
    "\n",
    "* Serial and vector versions\n",
    "\n",
    "* Try different programing languages, C++ and Fortran\n",
    "\n",
    "* Two algorithms computing the **same** result \n",
    "\n",
    "The key is choosing the correct baseline for comparison\n",
    "* For our serial vs. vectorization examples, using compiler-provided vectorization, the baseline is simple; the same code, with vectorization turned off\n",
    "\n",
    " * For parallel applications, this is much harder:\n",
    "\n",
    "  * Choice of algorithm, decomposition, performance of baseline case etc.\n",
    "\n",
    "\n",
    "\n",
    "## Object orientation\n",
    "\n",
    "Why object orientation?\n",
    "\n",
    "  * Three main topics: objects, class hierarchies and polymorphism\n",
    "\n",
    "  * The aim here is to be to be able to write a more general code which can easily be tailored to new situations.\n",
    "\n",
    "  * **Polymorphism** is a term used in software development to describe a variety of techniques employed by programmers to create flexible and reusable software components. The term is Greek and it loosely translates to \"many forms\". Strategy: try to single out the variables needed to describe a given system and those needed to describe a given solver. \n",
    "\n",
    "In programming languages, a polymorphic object is an entity, such as a variable or a procedure, that can hold or operate on values of differing types during the program's execution. Because a polymorphic object can operate on a variety of values and types, it can also be used in a variety of programs, sometimes with little or no change by the programmer. The idea of write once, run many, also known as code reusability, is an important characteristic to the programming paradigm known as Object-Oriented Programming (OOP).\n",
    "\n",
    "OOP describes an approach to programming where a program is viewed as a collection of interacting, but mostly independent software components. These software components are known as objects in OOP and they are typically implemented in a programming language as an entity that encapsulates both data and procedures.\n",
    "\n",
    "\n",
    "\n",
    "In Fortran a vector or matrix start with $1$, but it is easy\n",
    "to change a vector so that it starts with zero or even a negative number.\n",
    "If we have a double precision Fortran vector  which starts at $-10$ and ends at $10$, we could declare it as\n",
    "`REAL(KIND=8) ::  vector(-10:10)`. Similarly, if we want to start at zero and end at 10 we could write\n",
    "`REAL(KIND=8) ::  vector(0:10)`.\n",
    "We have also seen that Fortran  allows us to write a matrix addition $\\mathbf{A} = \\mathbf{B}+\\mathbf{C}$ as\n",
    "`A = B + C`.  This means that we have overloaded the addition operator so that it translates this operation into\n",
    "two loops and an addition of two matrix elements $a_{ij} = b_{ij}+c_{ij}$.\n",
    "\n",
    "\n",
    "\n",
    "The way the matrix addition is written is very close to the way we express this relation mathematically. The benefit for the\n",
    "programmer is that our code is easier to read. Furthermore, such a way of coding makes it  more likely  to spot eventual\n",
    "errors as well.\n",
    "\n",
    "In Ansi C and C++ arrays start by default from $i=0$.  Moreover, if we  wish to add two matrices we need to explicitely write out\n",
    "the two loops as"
   ]
  },
  {
   "cell_type": "markdown",
   "metadata": {},
   "source": [
    "           for(i=0 ; i < n ; i++) {\n",
    "              for(j=0 ; j < n ; j++) {\n",
    "                 a[i][j]=b[i][j]+c[i][j]\n",
    "        \n"
   ]
  },
  {
   "cell_type": "markdown",
   "metadata": {},
   "source": [
    "However,\n",
    "the strength of C++ is the possibility\n",
    "to define new data types, tailored to some particular problem.\n",
    "Via new data types and overloading of operations such as addition and subtraction, we can easily define\n",
    "sets of operations and data types which allow us to write a matrix addition in exactly the same\n",
    "way as we would do in Fortran.  We could also change the way we declare a C++ matrix elements $a_{ij}$, from  $a[i][j]$\n",
    "to say $a(i,j)$, as we would do in Fortran. Similarly, we could also change the default range from $0:n-1$ to $1:n$.\n",
    "\n",
    "To achieve this we need to introduce two important entities in C++ programming, classes and templates.\n",
    "\n",
    "\n",
    "\n",
    "The function and class declarations are fundamental concepts within C++.  Functions are abstractions\n",
    "which encapsulate an algorithm or parts of it and perform specific tasks in a program.\n",
    "We have already met several examples on how to use  functions.\n",
    "Classes can be defined as abstractions which encapsulate\n",
    "data and operations on these data.\n",
    "The data can be very complex data structures  and the class can contain particular functions\n",
    "which operate on these data. Classes allow therefore for a higher level of abstraction in computing.\n",
    "The elements (or components) of the data\n",
    "type are the class data members, and the procedures are the class\n",
    "member functions.\n",
    "\n",
    "\n",
    "\n",
    "Classes are user-defined tools used to create multi-purpose software which can be reused by other classes or functions.\n",
    "These user-defined data types contain data (variables) and\n",
    "functions operating on the data.\n",
    "\n",
    "A simple example is that of a point in two dimensions.\n",
    "The data could be the $x$ and $y$ coordinates of a given  point. The functions\n",
    "we define could be simple read and write functions or the possibility to compute the distance between two points.\n",
    "\n",
    "\n",
    "\n",
    "C++ has a class complex in its standard\n",
    "template library (STL). The standard usage in a given function could then look like"
   ]
  },
  {
   "cell_type": "markdown",
   "metadata": {},
   "source": [
    "        // Program to calculate addition and multiplication of two complex numbers\n",
    "        using namespace std;\n",
    "        #include <iostream>\n",
    "        #include <cmath>\n",
    "        #include <complex>\n",
    "        int main()\n",
    "        {\n",
    "          complex<double> x(6.1,8.2), y(0.5,1.3);\n",
    "          // write out x+y\n",
    "          cout << x + y << x*y  << endl;\n",
    "          return 0;\n",
    "        \n"
   ]
  },
  {
   "cell_type": "markdown",
   "metadata": {},
   "source": [
    "where we add and multiply two complex numbers $x=6.1+\\imath 8.2$ and $y=0.5+\\imath 1.3$ with the obvious results\n",
    "$z=x+y=6.6+\\imath 9.5$ and $z=x\\cdot y= -7.61+\\imath 12.03$.\n",
    "\n",
    "\n",
    "\n",
    "We proceed by  splitting our task in three files.\n",
    "\n",
    "We define first a header file complex.h  which contains the declarations of\n",
    "the class. The header file contains the class declaration (data and\n",
    "functions), declaration of stand-alone functions, and all inlined\n",
    "functions, starting as follows"
   ]
  },
  {
   "cell_type": "markdown",
   "metadata": {},
   "source": [
    "        #ifndef Complex_H\n",
    "        #define Complex_H\n",
    "        //   various include statements and definitions\n",
    "        #include <iostream>          // Standard ANSI-C++ include files\n",
    "        #include <new>\n",
    "        #include ....\n",
    "        \n",
    "        class Complex\n",
    "        {...\n",
    "        definition of variables and their character\n",
    "        };\n",
    "        //   declarations of various functions used by the class\n",
    "        ...\n",
    "        #endif\n"
   ]
  },
  {
   "cell_type": "markdown",
   "metadata": {},
   "source": [
    "Next we provide a file complex.cpp where the code and algorithms of\n",
    "different functions (except inlined functions) declared within the\n",
    "class are written.  The files `complex.h` and `complex.cpp` are normally\n",
    "placed in a directory with other classes and libraries we have\n",
    "defined.\n",
    "\n",
    "Finally, we discuss here an example of a main program which uses this\n",
    "particular class.  An example of a program which uses our complex\n",
    "class is given below. In particular we would like our class to perform\n",
    "tasks like declaring complex variables, writing out the real and\n",
    "imaginary part and performing algebraic operations such as adding or\n",
    "multiplying two complex numbers."
   ]
  },
  {
   "cell_type": "markdown",
   "metadata": {},
   "source": [
    "        #include \"Complex.h\"\n",
    "        ...  other include and declarations\n",
    "        int main ()\n",
    "        {\n",
    "          Complex a(0.1,1.3);    // we declare a complex variable a\n",
    "          Complex b(3.0), c(5.0,-2.3);  // we declare  complex variables b and c\n",
    "          Complex d = b;         //  we declare  a new complex variable d\n",
    "          cout << \"d=\" << d << \", a=\" << a << \", b=\" << b << endl;\n",
    "          d = a*c + b/a;  //   we add, multiply and divide two complex numbers\n",
    "          cout << \"Re(d)=\" << d.Re() << \", Im(d)=\" << d.Im() << endl;  // write out of the real and imaginary parts\n",
    "        \n"
   ]
  },
  {
   "cell_type": "markdown",
   "metadata": {},
   "source": [
    "We include the header file complex.h and define four different complex variables. These\n",
    "are $a=0.1+\\imath 1.3$, $b=3.0+\\imath 0$ (note that if you don't define a value for the imaginary part  this is set to\n",
    "zero), $c=5.0-\\imath 2.3$ and $d=b$.  Thereafter we have defined standard algebraic operations and the member functions\n",
    "of the class which allows us to print out the real and imaginary part of a given variable."
   ]
  },
  {
   "cell_type": "markdown",
   "metadata": {},
   "source": [
    "        class Complex\n",
    "        {\n",
    "        private:\n",
    "           double re, im; // real and imaginary part\n",
    "        public:\n",
    "           Complex ();                              // Complex c;\n",
    "           Complex (double re, double im = 0.0); // Definition of a complex variable;\n",
    "           Complex (const Complex& c);              // Usage: Complex c(a);   // equate two complex variables\n",
    "           Complex& operator= (const Complex& c); // c = a;   //  equate two complex variables, same as previous\n",
    "        ....\n",
    "        \n"
   ]
  },
  {
   "cell_type": "markdown",
   "metadata": {},
   "source": [
    "          ~Complex () {}                        // destructor\n",
    "           double   Re () const;        // double real_part = a.Re();\n",
    "           double   Im () const;        // double imag_part = a.Im();\n",
    "           double   abs () const;       // double m = a.abs(); // modulus\n",
    "           friend Complex operator+ (const Complex&  a, const Complex& b);\n",
    "           friend Complex operator- (const Complex&  a, const Complex& b);\n",
    "           friend Complex operator* (const Complex&  a, const Complex& b);\n",
    "           friend Complex operator/ (const Complex&  a, const Complex& b);\n",
    "        };\n"
   ]
  },
  {
   "cell_type": "markdown",
   "metadata": {},
   "source": [
    "The class is defined via the statement `class Complex`. We must first use the key word\n",
    "`class`, which in turn is followed by the user-defined variable name  `Complex`.\n",
    "The body of the class, data and functions, is encapsulated  within the parentheses `{...}`.\n",
    "\n",
    "\n",
    "Data and specific functions can be private, which means that they cannot be accessed from outside the class.\n",
    "This means also that access cannot be inherited by other functions outside the class. If we use `protected`\n",
    "instead of `private`, then data and functions can be inherited outside the class.\n",
    "\n",
    "\n",
    "The key word `public` means  that data and functions can be accessed from outside the class.\n",
    "Here we have defined several functions  which can be accessed by functions outside the class.\n",
    "The declaration `friend` means that stand-alone functions can work on privately declared  variables  of the type\n",
    "`(re, im)`.  Data members of a class should be declared as private variables.\n",
    "\n",
    "\n",
    "\n",
    "The first public function we encounter is a so-called\n",
    "constructor, which  tells how we declare a variable of type `Complex`\n",
    "and how this variable is initialized. We have chose  three possibilities in the example above:\n",
    "\n",
    "A declaration like `Complex c;` calls the member function `Complex()` which can have the following implementation"
   ]
  },
  {
   "cell_type": "markdown",
   "metadata": {},
   "source": [
    "        Complex:: Complex () { re = im = 0.0; }\n"
   ]
  },
  {
   "cell_type": "markdown",
   "metadata": {},
   "source": [
    "meaning that it sets the real and imaginary parts to zero. Note the\n",
    "way a member function is defined. The constructor is the first\n",
    "function that is called when an object is instantiated.\n",
    "\n",
    "\n",
    "Another possibility is"
   ]
  },
  {
   "cell_type": "markdown",
   "metadata": {},
   "source": [
    "        Complex:: Complex () {}\n"
   ]
  },
  {
   "cell_type": "markdown",
   "metadata": {},
   "source": [
    "which means that there is no initialization of the real and imaginary parts. The drawback is that a given compiler can then assign random values to a given variable.\n",
    "\n",
    "A call like `Complex a(0.1,1.3);` means that we could call the member function `Complex(double, double)`as"
   ]
  },
  {
   "cell_type": "markdown",
   "metadata": {},
   "source": [
    "        Complex:: Complex (double re_a, double im_a) {\n",
    "            re = re_a; im = im_a; }\n"
   ]
  },
  {
   "cell_type": "markdown",
   "metadata": {},
   "source": [
    "The simplest member function are those we defined to extract\n",
    "the real and imaginary part of a variable. Here you have to recall that these are private data,\n",
    "that is they invisible for users of the class.  We obtain a copy of these variables by defining the\n",
    "functions"
   ]
  },
  {
   "cell_type": "markdown",
   "metadata": {},
   "source": [
    "        double Complex:: Re () const { return re; }} //  getting the real part\n",
    "        double Complex:: Im () const { return im; }  //   and the imaginary part\n"
   ]
  },
  {
   "cell_type": "markdown",
   "metadata": {},
   "source": [
    "Note that we have introduced   the declaration  `const`.  What does it mean?\n",
    "This declaration means that a variabale cannot be changed within  a called function.\n",
    "\n",
    "\n",
    "If we define a variable as\n",
    "`const double p = 3;` and then try to change its value, we will get an error when we\n",
    "compile our program. This means that constant arguments in functions cannot be changed."
   ]
  },
  {
   "cell_type": "markdown",
   "metadata": {},
   "source": [
    "        // const arguments (in functions) cannot be changed:\n",
    "        void myfunc (const Complex& c)\n",
    "        { c.re = 0.2; /* ILLEGAL!! compiler error... */  }\n"
   ]
  },
  {
   "cell_type": "markdown",
   "metadata": {},
   "source": [
    "If we declare the function and try to change the value to $0.2$, the compiler will complain by sending\n",
    "an error message.\n",
    "\n",
    "\n",
    "If we define a function to compute the absolute value of complex variable like"
   ]
  },
  {
   "cell_type": "markdown",
   "metadata": {},
   "source": [
    "        double Complex:: abs ()  { return sqrt(re*re + im*im);}\n"
   ]
  },
  {
   "cell_type": "markdown",
   "metadata": {},
   "source": [
    "without the constant declaration  and define thereafter a function\n",
    "`myabs` as"
   ]
  },
  {
   "cell_type": "markdown",
   "metadata": {},
   "source": [
    "        double myabs (const Complex& c)\n",
    "        { return c.abs(); }   // Not ok because c.abs() is not a const func.\n"
   ]
  },
  {
   "cell_type": "markdown",
   "metadata": {},
   "source": [
    "the compiler would not allow the c.abs() call in myabs\n",
    "since `Complex::abs` is not a constant member function.\n",
    "\n",
    "\n",
    "\n",
    "Constant functions cannot change the object's state.\n",
    "To avoid this we declare the function `abs` as"
   ]
  },
  {
   "cell_type": "markdown",
   "metadata": {},
   "source": [
    "        double Complex:: abs () const { return sqrt(re*re + im*im); }\n"
   ]
  },
  {
   "cell_type": "markdown",
   "metadata": {},
   "source": [
    "## Overloading operators\n",
    "\n",
    "C++ (and Fortran) allow for overloading of operators. That means we\n",
    "can define algebraic operations on for example vectors or any\n",
    "arbitrary object.  As an example, a vector addition of the type \n",
    "$\\mathbf{c} = \\mathbf{a} + \\mathbf{b}$ means that we need to write a small part of\n",
    "code with a for-loop over the dimension of the array.  We would rather\n",
    "like to write this statement as `c = a+b;` as this makes the code much\n",
    "more readable and close to eventual equations we want to code.  To\n",
    "achieve this we need to extend the definition of operators.\n",
    "\n",
    "\n",
    "\n",
    "Let us study the declarations in our complex class.\n",
    "In our main function we have a statement like `d = b;`, which means\n",
    "that we call `d.operator= (b)` and we have defined a so-called assignment operator\n",
    "as a part of the class defined as"
   ]
  },
  {
   "cell_type": "markdown",
   "metadata": {},
   "source": [
    "        Complex& Complex:: operator= (const Complex& c)\n",
    "        {\n",
    "           re = c.re;\n",
    "           im = c.im;\n",
    "           return *this;\n",
    "        }\n"
   ]
  },
  {
   "cell_type": "markdown",
   "metadata": {},
   "source": [
    "With this function, statements like\n",
    "`Complex d = b;` or `Complex d(b);`\n",
    "make a new object $d$, which becomes a copy of $b$.\n",
    "We can make simple implementations in terms of the assignment"
   ]
  },
  {
   "cell_type": "markdown",
   "metadata": {},
   "source": [
    "        Complex:: Complex (const Complex& c)\n",
    "        { *this = c; }\n"
   ]
  },
  {
   "cell_type": "markdown",
   "metadata": {},
   "source": [
    "which  is a pointer to \"this object\", `*this` is the present object,\n",
    "so `*this = c;` means setting the present object equal to $c$, that is\n",
    "`this->operator= (c);`.\n",
    "\n",
    "\n",
    "The meaning of the addition operator $+$ for Complex objects is defined in the\n",
    "function\n",
    "`Complex operator+ (const Complex& a, const Complex& b); // a+b`\n",
    "The compiler translates `c = a + b;` into `c = operator+ (a, b);`.\n",
    "Since this implies the call to function, it brings in an additional overhead. If speed\n",
    "is crucial and this function call is performed inside a loop, then it is more difficult for a\n",
    "given compiler to perform optimizations of a loop.\n",
    "\n",
    "\n",
    "\n",
    "The solution to this is to inline functions.   We discussed inlining in chapter\n",
    "2 of the lecture notes.\n",
    "Inlining means that the function body is copied directly into\n",
    "the calling code, thus avoiding calling the function.\n",
    "Inlining is enabled by the inline keyword"
   ]
  },
  {
   "cell_type": "markdown",
   "metadata": {},
   "source": [
    "        inline Complex operator+ (const Complex& a, const Complex& b)\n",
    "        { return Complex (a.re + b.re, a.im + b.im); }\n"
   ]
  },
  {
   "cell_type": "markdown",
   "metadata": {},
   "source": [
    "Inline functions, with complete bodies must be written in the header file  complex.h.\n",
    "\n",
    "\n",
    "\n",
    "Consider  the case `c = a + b;`\n",
    "that is,  `c.operator= (operator+ (a,b));`\n",
    "If `operator+`, `operator=` and the constructor `Complex(r,i)` all\n",
    "are inline functions, this transforms to"
   ]
  },
  {
   "cell_type": "markdown",
   "metadata": {},
   "source": [
    "        c.re = a.re + b.re;\n",
    "        c.im = a.im + b.im;\n"
   ]
  },
  {
   "cell_type": "markdown",
   "metadata": {},
   "source": [
    "by the compiler, i.e., no function calls\n",
    "\n",
    "\n",
    "\n",
    "The stand-alone function `operator+` is a friend of the Complex  class"
   ]
  },
  {
   "cell_type": "markdown",
   "metadata": {},
   "source": [
    "        class Complex\n",
    "        {\n",
    "           ...\n",
    "           friend Complex operator+ (const Complex& a, const Complex& b);\n",
    "           ...\n",
    "        };\n"
   ]
  },
  {
   "cell_type": "markdown",
   "metadata": {},
   "source": [
    "so it can read (and manipulate) the private data parts $re$ and\n",
    "$im$ via"
   ]
  },
  {
   "cell_type": "markdown",
   "metadata": {},
   "source": [
    "        inline Complex operator+ (const Complex& a, const Complex& b)\n",
    "        { return Complex (a.re + b.re, a.im + b.im); }\n"
   ]
  },
  {
   "cell_type": "markdown",
   "metadata": {},
   "source": [
    "Since we do not need to alter the re and im variables, we can\n",
    "get the values by Re() and Im(), and there is no need to be a\n",
    "friend function"
   ]
  },
  {
   "cell_type": "markdown",
   "metadata": {},
   "source": [
    "        inline Complex operator+ (const Complex& a, const Complex& b)\n",
    "        { return Complex (a.Re() + b.Re(), a.Im() + b.Im()); }\n"
   ]
  },
  {
   "cell_type": "markdown",
   "metadata": {},
   "source": [
    "The multiplication functionality can now be extended to imaginary numbers by the following code"
   ]
  },
  {
   "cell_type": "markdown",
   "metadata": {},
   "source": [
    "        inline Complex operator* (const Complex& a, const Complex& b)\n",
    "        {\n",
    "          return Complex(a.re*b.re - a.im*b.im, a.im*b.re + a.re*b.im);\n",
    "        \n"
   ]
  },
  {
   "cell_type": "markdown",
   "metadata": {},
   "source": [
    "It will be convenient to inline all functions used by this operator.\n",
    "\n",
    "\n",
    "\n",
    "To inline the complete expression `a*b;`, the constructors and\n",
    "`operator=`  must also be inlined.  This can be achieved via the following piece of code"
   ]
  },
  {
   "cell_type": "markdown",
   "metadata": {},
   "source": [
    "        inline Complex:: Complex () { re = im = 0.0; }\n",
    "        inline Complex:: Complex (double re_, double im_)\n",
    "        { ... }\n",
    "        inline Complex:: Complex (const Complex& c)\n",
    "        { ... }\n",
    "        inline Complex:: operator= (const Complex& c)\n",
    "        { ... }\n"
   ]
  },
  {
   "cell_type": "markdown",
   "metadata": {},
   "source": [
    "        // e, c, d are complex\n",
    "        e = c*d;\n",
    "        // first compiler translation:\n",
    "        e.operator= (operator* (c,d));\n",
    "        // result of nested inline functions\n",
    "        // operator=, operator*, Complex(double,double=0):\n",
    "        e.re = c.re*d.re - c.im*d.im;\n",
    "        e.im = c.im*d.re + c.re*d.im;\n"
   ]
  },
  {
   "cell_type": "markdown",
   "metadata": {},
   "source": [
    "The definitions `operator-` and `operator/` follow the same set up.\n",
    "\n",
    "\n",
    "\n",
    "Finally, if we wish to write to file or another device a complex number using the simple syntax\n",
    "`cout << c;`, we obtain this by defining\n",
    "the effect of $<<$ for a Complex object as"
   ]
  },
  {
   "cell_type": "markdown",
   "metadata": {},
   "source": [
    "        ostream& operator<< (ostream& o, const Complex& c)\n",
    "        { o << \"(\" << c.Re() << \",\" << c.Im() << \") \"; return o;}\n"
   ]
  },
  {
   "cell_type": "markdown",
   "metadata": {},
   "source": [
    "## Templates\n",
    "\n",
    "What if we wanted to make a class which takes integers\n",
    "or floating point numbers with single precision?\n",
    "A simple way to achieve this is copy and paste our class and replace `double` with for\n",
    "example `int`.\n",
    "\n",
    "C++  allows us to do this automatically via the usage of templates, which\n",
    "are the C++ constructs for parameterizing parts of\n",
    "classes. Class templates  is a template for producing classes. The declaration consists\n",
    "of the keyword `template` followed by a list of template arguments enclosed in brackets.\n",
    "\n",
    "\n",
    "\n",
    "We can therefore make a more general class by rewriting our original example as"
   ]
  },
  {
   "cell_type": "markdown",
   "metadata": {},
   "source": [
    "        template<class T>\n",
    "        class Complex\n",
    "        {\n",
    "        private:\n",
    "           T re, im; // real and imaginary part\n",
    "        public:\n",
    "           Complex ();                              // Complex c;\n",
    "           Complex (T re, T im = 0); // Definition of a complex variable;\n",
    "           Complex (const Complex& c);              // Usage: Complex c(a);   // equate two complex variables\n",
    "           Complex& operator= (const Complex& c); // c = a;   //  equate two complex variables, same as previous\n",
    "          ~Complex () {}                        // destructor\n",
    "           T   Re () const;        // T real_part = a.Re();\n",
    "           T   Im () const;        // T imag_part = a.Im();\n",
    "           T   abs () const;       // T m = a.abs(); // modulus\n",
    "           friend Complex operator+ (const Complex&  a, const Complex& b);\n",
    "           friend Complex operator- (const Complex&  a, const Complex& b);\n",
    "           friend Complex operator* (const Complex&  a, const Complex& b);\n",
    "           friend Complex operator/ (const Complex&  a, const Complex& b);\n",
    "        };\n"
   ]
  },
  {
   "cell_type": "markdown",
   "metadata": {},
   "source": [
    "What it says is that `Complex` is a parameterized type with $T$ as a parameter and $T$ has to be a type such as double\n",
    "or float.\n",
    "The class complex is now a class template\n",
    "and we would define variables in a code as"
   ]
  },
  {
   "cell_type": "markdown",
   "metadata": {},
   "source": [
    "        Complex<double> a(10.0,5.1);\n",
    "        Complex<int> b(1,0);\n"
   ]
  },
  {
   "cell_type": "markdown",
   "metadata": {},
   "source": [
    "Member functions of our class are defined by preceding the name of the function with the `template` keyword.\n",
    "Consider the function we defined as `Complex:: Complex (double re_a, double im_a)`.\n",
    "We would rewrite this function as"
   ]
  },
  {
   "cell_type": "markdown",
   "metadata": {},
   "source": [
    "        template<class T>\n",
    "        Complex<T>:: Complex (T re_a, T im_a)\n",
    "        { re = re_a; im = im_a; }\n"
   ]
  },
  {
   "cell_type": "markdown",
   "metadata": {},
   "source": [
    "The member functions  are otherwise defined following ordinary member function definitions.\n",
    "\n",
    "\n",
    "\n",
    "Here follows a very simple first class in the file squared.h"
   ]
  },
  {
   "cell_type": "markdown",
   "metadata": {},
   "source": [
    "        // Not all declarations here\n",
    "        // Class to compute the square of a number\n",
    "        template<class T>\n",
    "        class Squared{\n",
    "          public:\n",
    "            // Default constructor, not used here\n",
    "            Squared(){}\n",
    "        \n",
    "            // Overload the function operator()\n",
    "            T operator()(T x){return x*x;}\n",
    "        \n",
    "        };\n"
   ]
  },
  {
   "cell_type": "markdown",
   "metadata": {},
   "source": [
    "and we would use it as"
   ]
  },
  {
   "cell_type": "markdown",
   "metadata": {},
   "source": [
    "        #include <iostream>\n",
    "        #include \"squared.h\"\n",
    "        using namespace std;\n",
    "        \n",
    "        int main(){\n",
    "          Squared<double> s;\n",
    "          cout << s(3) << endl;\n",
    "        \n"
   ]
  },
  {
   "cell_type": "markdown",
   "metadata": {},
   "source": [
    "## A matrix-vector class, first its usage"
   ]
  },
  {
   "cell_type": "markdown",
   "metadata": {},
   "source": [
    "        #include <cmath>\n",
    "        #include <iostream>\n",
    "        #include <fstream>\n",
    "        #include <iomanip>\n",
    "        #include \"/Users/hjensen/Teaching/fys4411/programs/cgm/vectorclass.h\"\n",
    "        \n",
    "        using namespace  std;\n",
    "        \n",
    "          Vector ConjugateGradient(Matrix A, Vector b, Vector x0){\n",
    "          int dim = x0.Dimension();\n",
    "          const double tolerance = 1.0e-14;\n",
    "          Vector x(dim),r(dim),v(dim),z(dim);\n",
    "          double c,t,d;\n",
    "        \n",
    "          x = x0;\n",
    "          r = b - A*x;\n",
    "          v = r;\n",
    "          c = dot(r,r);\n",
    "          for(int i=0;i<dim;i++){\n",
    "            if(sqrt(dot(v,v))<tolerance){\n",
    "              cerr << \"An error has occurred in ConjugateGradient: execution of function terminated\" << endl;\n",
    "              break;\n",
    "            }\n",
    "            z = A*v;\n",
    "            t = c/dot(v,z);\n",
    "            x = x + t*v;\n",
    "            r = r - t*z;\n",
    "            d = dot(r,r);\n",
    "            if(sqrt(d) < tolerance)\n",
    "              break;\n",
    "            v = r + (d/c)*v;\n",
    "            c = d;\n",
    "          }\n",
    "          return x;\n",
    "        }\n",
    "        \n",
    "        \n",
    "        Vector SteepestDescent(Matrix A, Vector b, Vector x0){\n",
    "          int IterMax, i;\n",
    "          int dim = x0.Dimension();\n",
    "          const double tolerance = 1.0e-14;\n",
    "          Vector x(dim),f(dim),z(dim);\n",
    "          double c,alpha,d;\n",
    "          IterMax = 30;\n",
    "          x = x0;\n",
    "          f = A*x-b;\n",
    "          i = 0;\n",
    "          while (i <= IterMax || sqrt(dot(f,f)) < tolerance ){\n",
    "            if(sqrt(dot(f,f))<tolerance){\n",
    "               cerr << \"An error has occurred: execution of function terminated\" << endl;\n",
    "               break;\n",
    "            }\n",
    "            z = A*f;\n",
    "            c = dot(f,f);\n",
    "            alpha = c/dot(f,z);\n",
    "            x = x - alpha*f;\n",
    "            f =  A*x-b;\n",
    "            if(sqrt(dot(f,f)) < tolerance) break;\n",
    "            i++;\n",
    "          }\n",
    "          return x;\n",
    "        }\n",
    "        \n",
    "        //   Main function begins here\n",
    "        int main(int  argc, char * argv[]){\n",
    "          int dim = 2;\n",
    "          Vector x(dim),xsd(dim), b(dim),x0(dim);\n",
    "          Matrix A(dim,dim);\n",
    "        \n",
    "          // Set our initial guess\n",
    "          x0(0) = x0(1) = 0;\n",
    "          // Set the matrix\n",
    "          A(0,0) =  3;    A(1,0) =  2;   A(0,1) =  2;   A(1,1) =  6;\n",
    "        \n",
    "          cout << \"The Matrix A that we are using: \" << endl;\n",
    "          A.Print();\n",
    "          cout << endl;\n",
    "        \n",
    "          Vector y(dim);\n",
    "          y(0) = 2.;\n",
    "          y(1) = -2.;\n",
    "        \n",
    "          cout << \"The exact solution is: \" << endl;\n",
    "          y.Print();\n",
    "          cout << endl;\n",
    "          b = A*y;\n",
    "        \n",
    "          cout << \"The right hand side, b, of the expression Ax=b: \" << endl;\n",
    "          b.Print();\n",
    "          cout << endl;\n",
    "        \n",
    "          x = ConjugateGradient(A,b,x0);\n",
    "        \n",
    "          xsd = SteepestDescent(A,b,x0);\n",
    "        \n",
    "          cout << \"The approximate solution using Conjugate Gradient is: \" << endl;\n",
    "          x.Print();\n",
    "          cout << endl;\n",
    "        \n",
    "          cout << \"The approximate solution using Steepest Descent is: \" << endl;\n",
    "          xsd.Print();\n",
    "          cout << endl;\n",
    "        }\n"
   ]
  },
  {
   "cell_type": "markdown",
   "metadata": {},
   "source": [
    "## A matrix-vector class, the class definitions themselves"
   ]
  },
  {
   "cell_type": "markdown",
   "metadata": {},
   "source": [
    "        #ifndef _vectorclass\n",
    "        #define _vectorclass\n",
    "        \n",
    "        \n",
    "        #include <cmath>\n",
    "        #include <iostream>\n",
    "        using namespace  std;\n",
    "        \n",
    "        \n",
    "        \n",
    "        class Point;\n",
    "        class Vector;\n",
    "        class Matrix;\n",
    "        \n",
    "        \n",
    "        /********************************/\n",
    "        /*        Point Class        */\n",
    "        /********************************/\n",
    "        \n",
    "        class Point{\n",
    "         private:\n",
    "          int   dimension;\n",
    "          double *data;\n",
    "          \n",
    "         public:\n",
    "          Point(int dim);\n",
    "          Point(const Point& v);\n",
    "          ~Point();\n",
    "          \n",
    "          int    Dimension() const;\n",
    "        \n",
    "          //************************\n",
    "          // User Defined Operators\n",
    "          //************************\n",
    "          int operator==(const Point& v) const;\n",
    "          int operator!=(const Point& v) const;\n",
    "          Point & operator=(const Point& v);\n",
    "        \n",
    "          double  operator()(const int i) const;\n",
    "          double& operator()(const int i);\n",
    "        \n",
    "          void Print() const;\n",
    "        };\n",
    "        \n",
    "        \n",
    "        \n",
    "        /********************************/\n",
    "        /*        Vector Class        */\n",
    "        /********************************/\n",
    "        \n",
    "        class Vector{\n",
    "         private:\n",
    "          int   dimension;\n",
    "          double *data;\n",
    "          \n",
    "         public:\n",
    "          Vector();\n",
    "          Vector(int dim);\n",
    "          Vector(const Vector& v);\n",
    "          Vector(int col, const Matrix &A);\n",
    "          ~Vector();\n",
    "          \n",
    "          void Initialize(int dim);\n",
    "          int    Dimension() const;\n",
    "          double Length();     /* Euclidean Norm of the Vector */\n",
    "          void   Normalize();\n",
    "        \n",
    "          double Norm_l1();\n",
    "          double Norm_l2();\n",
    "          double Norm_linf();\n",
    "          double MaxMod();\n",
    "          double ElementofMaxMod();\n",
    "          int MaxModindex();\n",
    "          \n",
    "          //************************\n",
    "          // User Defined Operators\n",
    "          //************************\n",
    "          int operator==(const Vector& v) const;\n",
    "          int operator!=(const Vector& v) const;\n",
    "          Vector & operator=(const Vector& v);\n",
    "        \n",
    "          double  operator()(const int i) const;\n",
    "          double& operator()(const int i);\n",
    "        \n",
    "          void Print() const;\n",
    "          void Initialize(double a);\n",
    "          void Initialize(double *v);\n",
    "        };\n",
    "        \n",
    "        \n",
    "        \n",
    "        /********************************/\n",
    "        /*        Matrix Class        */\n",
    "        /********************************/\n",
    "        \n",
    "        class Matrix {\n",
    "        private:\n",
    "          int rows, columns;\n",
    "          double **data;\n",
    "          \n",
    "        public:\n",
    "        \n",
    "          Matrix(int dim);\n",
    "          Matrix(int rows1, int columns1);\n",
    "          Matrix(const Matrix& m);\n",
    "          Matrix(int num_vectors, const Vector * q);\n",
    "          Matrix(int rows1, int columns1, double **rowptrs);\n",
    "          ~Matrix();\n",
    "        \n",
    "          int Rows() const;\n",
    "          int Columns() const;\n",
    "          double ** GetPointer();\n",
    "          void GetColumn(int col, Vector &x);\n",
    "          void GetColumn(int col, Vector &x, int rowoffset);\n",
    "          void PutColumn(int col, const Vector &x);\n",
    "          double Norm_l1();\n",
    "          double Norm_linf();\n",
    "        \n",
    "          //************************\n",
    "          // User Defined Operators\n",
    "          //************************\n",
    "          Matrix& operator=(const Matrix& m);\n",
    "          double operator()(const int i, const int j) const;\n",
    "          double& operator()(const int i, const int j);\n",
    "        \n",
    "          double MaxModInRow(int row);\n",
    "          double MaxModInRow(int row, int starting_column);\n",
    "          int MaxModInRowindex(int row);\n",
    "          int MaxModInRowindex(int row, int starting_column);\n",
    "         \n",
    "          double MaxModInColumn(int column);\n",
    "          double MaxModInColumn(int column, int starting_row);\n",
    "          int MaxModInColumnindex(int column);\n",
    "          int MaxModInColumnindex(int column, int starting_row);\n",
    "        \n",
    "          void RowSwap(int row1, int row2);\n",
    "        \n",
    "          void Print() const;\n",
    "        \n",
    "        };\n",
    "        \n",
    "        \n",
    "        /********************************/\n",
    "        /*   Operator Declarations      */\n",
    "        /********************************/\n",
    "        \n",
    "        // Unitary operator -\n",
    "        Vector operator-(const Vector& v);\n",
    "        \n",
    "        // Binary operator +,-\n",
    "        Vector operator+(const Vector& v1, const Vector& v2);\n",
    "        Vector operator-(const Vector& v1, const Vector& v2);\n",
    "        \n",
    "        // Vector Scaling (multiplication by a scaler : defined commutatively)\n",
    "        Vector operator*(const double s, const Vector& v);\n",
    "        Vector operator*(const Vector& v, const double s);\n",
    "        \n",
    "        // Vector Scaling (division by a scaler)\n",
    "        Vector operator/(const Vector& v, const double s);\n",
    "        \n",
    "        Vector operator*(const Matrix& A, const Vector& x); \n",
    "        \n",
    "        \n",
    "        /********************************/\n",
    "        /*   Function Declarations      */\n",
    "        /********************************/\n",
    "        \n",
    "        int min_dimension(const Vector& u, const Vector& v);\n",
    "        double dot(const Vector& u, const Vector& v); \n",
    "        double dot(int N, double *a, double *b);\n",
    "        double dot(int N, const Vector &u, const Vector &v); \n",
    "        void Swap(double &a, double &b);\n",
    "        double Sign(double x);\n",
    "        \n",
    "        /* Misc. useful functions to have */\n",
    "        double log2(double x);\n",
    "        double GammaF(double x);\n",
    "        int Factorial(int n);\n",
    "        double ** CreateMatrix(int m, int n);\n",
    "        void DestroyMatrix(double ** mat, int m, int n); \n",
    "        \n",
    "        int ** ICreateMatrix(int m, int n);\n",
    "        void IDestroyMatrix(int ** mat, int m, int n);\n",
    "        \n",
    "        #endif\n"
   ]
  },
  {
   "cell_type": "markdown",
   "metadata": {},
   "source": [
    "## A matrix-vector class, and finally all its functions"
   ]
  },
  {
   "cell_type": "markdown",
   "metadata": {},
   "source": [
    "        #include \"vectorclass.h\"\n",
    "        \n",
    "        Point::Point(int dim){\n",
    "          dimension = dim;\n",
    "          data = new double[dimension];\n",
    "        \n",
    "          for(int i=0;i<dimension;i++)\n",
    "            data[i] = 0.0;\n",
    "        }\n",
    "        \n",
    "        \n",
    "        Point::Point(const Point &v){\n",
    "          dimension = v.Dimension();\n",
    "          data = new double[dimension];\n",
    "        \n",
    "          for(int i=0;i<dimension;i++)\n",
    "            data[i] = v.data[i];\n",
    "        }\n",
    "        \n",
    "        \n",
    "        Point::~Point(){\n",
    "          dimension = 0;\n",
    "          delete[] data;\n",
    "          data = NULL;\n",
    "        }\n",
    "        \n",
    "        \n",
    "        int Point::Dimension() const{\n",
    "          return(dimension);\n",
    "        }\n",
    "        \n",
    "        \n",
    "        double Point::operator()(const int i) const{\n",
    "          if(i>=0 && i<dimension)\n",
    "            return data[i];\n",
    "        \n",
    "          cerr << \"Point::Invalid index \" << i << \" for Point of dimension \" << dimension << endl;\n",
    "          return(0);\n",
    "        }\n",
    "        \n",
    "        \n",
    "        \n",
    "        double& Point::operator()(const int i){\n",
    "          if(i>=0 && i<dimension)\n",
    "            return data[i];\n",
    "        \n",
    "          cerr << \"Point::Invalid index \" << i << \" for Point of dimension \" << dimension << endl;\n",
    "          return(data[0]);\n",
    "        }\n",
    "        \n",
    "        \n",
    "        Point& Point::operator=(const Point &v) {\n",
    "          dimension = v.Dimension();\n",
    "          for(int i=0;i<dimension;i++)\n",
    "            data[i] = v.data[i];\n",
    "          return *this;\n",
    "        };\n",
    "        \n",
    "        void Point::Print() const{\n",
    "          cout << endl;\n",
    "          cout << \"[ \";\n",
    "          if(dimension>0)\n",
    "            cout << data[0];\n",
    "          for(int i=1;i<dimension;i++)\n",
    "            cout << \"; \" << data[i];\n",
    "          cout << \" ]\" << endl;\n",
    "        }\n",
    "        \n",
    "        Vector::Vector(){\n",
    "          dimension = 0;\n",
    "          data = NULL;\n",
    "        }\n",
    "        \n",
    "        \n",
    "        Vector::Vector(int dim){\n",
    "          dimension = dim;\n",
    "          data = new double[dimension];\n",
    "        \n",
    "          for(int i=0;i<dimension;i++)\n",
    "            data[i] = 0.0;\n",
    "        }\n",
    "        \n",
    "        \n",
    "        Vector::Vector(const Vector &v){\n",
    "          dimension = v.Dimension();\n",
    "          data = new double[dimension];\n",
    "        \n",
    "          for(int i=0;i<dimension;i++)\n",
    "            data[i] = v.data[i];\n",
    "        }\n",
    "        \n",
    "        \n",
    "        Vector::Vector(int col, const Matrix &A){\n",
    "          dimension = A.Rows();\n",
    "        \n",
    "          data = new double[dimension];\n",
    "          \n",
    "          for(int i=0;i<A.Rows();i++)\n",
    "            data[i] = A(i,col);\n",
    "        \n",
    "        }\n",
    "        \n",
    "        \n",
    "        Vector::~Vector(){\n",
    "          dimension = 0;\n",
    "          delete[] data;\n",
    "          data = NULL;\n",
    "        }\n",
    "        \n",
    "        \n",
    "        void Vector::Initialize(int dim){\n",
    "          if(dimension!=0)\n",
    "            delete[] data;\n",
    "        \n",
    "          dimension = dim;\n",
    "          data = new double[dimension];\n",
    "          \n",
    "          for(int i=0;i<dimension;i++)\n",
    "            data[i] = 0.0;\n",
    "        }\n",
    "        \n",
    "        \n",
    "        int Vector::Dimension() const{\n",
    "          return(dimension);\n",
    "        }\n",
    "        \n",
    "        \n",
    "        double Vector::operator()(const int i) const{\n",
    "          if(i>=0 && i<dimension)\n",
    "            return data[i];\n",
    "        \n",
    "          cerr << \"Vector::Invalid index \" << i << \" for Vector of dimension \" << dimension << endl;\n",
    "          return(0);\n",
    "        }\n",
    "        \n",
    "        \n",
    "        \n",
    "        double& Vector::operator()(const int i){\n",
    "          if(i>=0 && i<dimension)\n",
    "            return data[i];\n",
    "        \n",
    "          cerr << \"Vector::Invalid index \" << i << \" for Vector of dimension \" << dimension << endl;\n",
    "          return(data[0]);\n",
    "        }\n",
    "        \n",
    "        \n",
    "        Vector& Vector::operator=(const Vector &v) {\n",
    "          dimension = v.Dimension();\n",
    "          for(int i=0;i<dimension;i++)\n",
    "            data[i] = v.data[i];\n",
    "          return *this;\n",
    "        };\n",
    "        \n",
    "        void Vector::Print() const{\n",
    "          cout << endl;\n",
    "          cout << \"[ \";\n",
    "          if(dimension>0)\n",
    "            cout << data[0];\n",
    "          for(int i=1;i<dimension;i++)\n",
    "            cout << \"; \" << data[i];\n",
    "          cout << \" ]\" << endl;\n",
    "        }\n",
    "        \n",
    "        \n",
    "        double Vector::Norm_l1(){\n",
    "          double sum = 0.0;\n",
    "          for(int i=0;i<dimension;i++)\n",
    "            sum += fabs(data[i]);\n",
    "          return(sum);\n",
    "        }\n",
    "        \n",
    "        \n",
    "        double Vector::Norm_l2(){\n",
    "          double sum = 0.0;\n",
    "          for(int i=0;i<dimension;i++)\n",
    "            sum += data[i]*data[i];\n",
    "          return(sqrt(sum));\n",
    "        }\n",
    "        \n",
    "        void Vector::Normalize(){\n",
    "          double tmp = 1.0/Norm_l2();\n",
    "          for(int i=0;i<dimension;i++)\n",
    "            data[i] = data[i]*tmp;\n",
    "        }\n",
    "        \n",
    "        \n",
    "        double Vector::Norm_linf(){\n",
    "          double maxval = 0.0,tmp;\n",
    "          \n",
    "          for(int i=0;i<dimension;i++){\n",
    "            tmp = fabs(data[i]);\n",
    "            maxval = (maxval > tmp)?maxval:tmp;\n",
    "          }\n",
    "          return(maxval);\n",
    "        }\n",
    "        \n",
    "        double Vector::MaxMod(){\n",
    "          double maxm = -1.0e+10;\n",
    "        \n",
    "          for(int i=0; i<dimension; i++)\n",
    "            maxm = (maxm > fabs(data[i]))?maxm:fabs(data[i]);\n",
    "          \n",
    "          return maxm;\n",
    "        }\n",
    "        \n",
    "        double Vector::ElementofMaxMod(){\n",
    "          return(data[MaxModindex()]);\n",
    "        }\n",
    "        \n",
    "        \n",
    "        int Vector::MaxModindex(){\n",
    "          double maxm = -1.0e+10;\n",
    "          int maxmindex = 0;\n",
    "        \n",
    "          for(int i=0; i<dimension; i++){\n",
    "            if(maxm<fabs(data[i])){\n",
    "              maxm = fabs(data[i]);\n",
    "              maxmindex = i;\n",
    "            }\n",
    "          }\n",
    "          \n",
    "          return maxmindex;\n",
    "        }\n",
    "        \n",
    "        void Vector::Initialize(double a){\n",
    "          for(int i=0; i<dimension; i++)\n",
    "            data[i] = a;\n",
    "        }\n",
    "        \n",
    "        void Vector::Initialize(double *v){\n",
    "          for(int i=0; i<dimension; i++)\n",
    "            data[i] = v[i];\n",
    "        }\n",
    "        \n",
    "        Matrix::Matrix(int dim){\n",
    "          rows = dim;\n",
    "          columns = dim;\n",
    "          data = new double*[rows];\n",
    "          for(int i=0;i<rows;i++){\n",
    "            data[i] = new double[columns];\n",
    "            for(int j=0;j<columns;j++)\n",
    "              data[i][j] = 0.0;\n",
    "          }\n",
    "        }\n",
    "        \n",
    "          \n",
    "        Matrix::Matrix(int rows1, int columns1){\n",
    "          rows = rows1;\n",
    "          columns = columns1;\n",
    "        \n",
    "          data = new double*[rows];\n",
    "          for(int i=0;i<rows;i++){\n",
    "            data[i] = new double[columns];\n",
    "            for(int j=0;j<columns;j++)\n",
    "              data[i][j] = 0.0;\n",
    "          }\n",
    "        }\n",
    "        \n",
    "        Matrix::Matrix(const Matrix& m){\n",
    "          rows = m.rows;\n",
    "          columns = m.columns;\n",
    "        \n",
    "          data = new double*[rows];\n",
    "        \n",
    "          for(int i=0;i<rows;i++){\n",
    "            data[i] = new double[columns];\n",
    "            for(int j=0; j<columns; j++)\n",
    "              data[i][j] = m.data[i][j];\n",
    "          }\n",
    "        }\n",
    "        \n",
    "        Matrix::Matrix(int num_Vectors, const Vector * q){\n",
    "          rows = q[0].Dimension();\n",
    "          columns = num_Vectors;\n",
    "        \n",
    "          data = new double*[rows];\n",
    "        \n",
    "          for(int i=0;i<rows;i++){\n",
    "            data[i] = new double[columns];\n",
    "            for(int j=0; j<columns; j++)\n",
    "              data[i][j] = q[j](i);\n",
    "          }\n",
    "        }\n",
    "        \n",
    "        Matrix::Matrix(int rows1, int columns1, double **rowptrs){\n",
    "          rows = rows1;\n",
    "          columns = columns1;\n",
    "        \n",
    "          data = new double*[rows];\n",
    "        \n",
    "          for(int i=0;i<rows;i++)\n",
    "            data[i] = rowptrs[i];\n",
    "        }\n",
    "        \n",
    "        \n",
    "        Matrix::~Matrix(){\n",
    "          for(int i=0;i<rows;i++)\n",
    "            delete[] data[i];\n",
    "        \n",
    "          rows = 0;\n",
    "          columns = 0;\n",
    "          delete[] data;\n",
    "        }\n",
    "        \n",
    "        int Matrix::Rows() const{\n",
    "          return(rows);\n",
    "        }  \n",
    "        \n",
    "        int Matrix::Columns() const{\n",
    "          return(columns);\n",
    "        }  \n",
    "        \n",
    "        \n",
    "        double **Matrix::GetPointer(){\n",
    "          return(data);\n",
    "        }\n",
    "        \n",
    "        void Matrix::GetColumn(int col, Vector &x){\n",
    "          x.Initialize(0.0);\n",
    "          for(int i=0;i<rows;i++)\n",
    "            x(i) = data[i][col];\n",
    "        }\n",
    "        \n",
    "        void Matrix::GetColumn(int col, Vector &x, int rowoffset){\n",
    "          x.Initialize(0.0);\n",
    "          for(int i=0;i<rows-rowoffset;i++)\n",
    "            x(i) = data[i+rowoffset][col];\n",
    "        }\n",
    "        \n",
    "        void Matrix::PutColumn(int col, const Vector &x){\n",
    "          for(int i=0;i<rows;i++)\n",
    "            data[i][col] = x(i);\n",
    "        }\n",
    "        \n",
    "        \n",
    "        double Matrix::Norm_linf(){\n",
    "          double maxval = 0.0,sum;\n",
    "          \n",
    "          for(int i=0;i<rows;i++){\n",
    "            sum = 0.0;\n",
    "            for(int j=0;j<columns;j++)\n",
    "              sum += fabs(data[i][j]);\n",
    "            maxval = (maxval > sum)?maxval:sum;\n",
    "          }\n",
    "          return(maxval);\n",
    "        }\n",
    "        \n",
    "        \n",
    "        double Matrix::Norm_l1(){\n",
    "          double maxval = 0.0,sum;\n",
    "        \n",
    "          for(int j=0;j<columns;j++){\n",
    "            sum = 0.0;\n",
    "            for(int i=0;i<rows;i++)\n",
    "              sum += fabs(data[i][j]);\n",
    "            maxval = (maxval > sum)?maxval:sum;\n",
    "          }\n",
    "          return(maxval);\n",
    "        }\n",
    "        \n",
    "        \n",
    "        \n",
    "        Matrix& Matrix::operator=(const Matrix &m){\n",
    "          if( (rows == m.rows) && (columns == m.columns)){\n",
    "            for(int i=0; i<rows; i++)\n",
    "              for(int j=0;j<columns;j++){\n",
    "        \tdata[i][j] = m.data[i][j];\n",
    "              }\n",
    "          }\n",
    "          else\n",
    "            cerr << \"Matrix Error: Cannot equate matrices of different sizes\\n\";\n",
    "          return *this;\n",
    "        }\n",
    "        \n",
    "          \n",
    "        double Matrix::operator()(const int i, const int j) const {\n",
    "          if( (i>=0) && (j>=0) && (i<rows) && (j<columns))\n",
    "            return(data[i][j]);  \n",
    "          else\n",
    "            cerr << \"Matrix Error: Invalid Matrix indices (\" << i << \",\" << j << \n",
    "              \"), for Matrix of size \" << rows << \" X \" << columns << endl;\n",
    "          return((double)0);\n",
    "        }\n",
    "          \n",
    "        \n",
    "        double& Matrix::operator()(const int i, const int j) {\n",
    "          if( (i>=0) && (j>=0) && (i<rows) && (j<columns))\n",
    "            return(data[i][j]);  \n",
    "          else\n",
    "            cerr << \"Matrix Error: Invalid Matrix indices (\" << i << \",\" << j << \n",
    "              \"), for Matrix of size \" << rows << \" X \" << columns << endl;;\n",
    "          return(data[0][0]);\n",
    "        }\n",
    "        \n",
    "        \n",
    "        void Matrix::Print() const{\n",
    "          cout << endl;\n",
    "        \n",
    "        \n",
    "          cout << \"[ \";\n",
    "          for(int i=0;i<rows;i++){\n",
    "            cout << data[i][0];\n",
    "            for(int j=1;j<columns;j++)\n",
    "              cout << \" \" << data[i][j];\n",
    "            if(i!=(rows-1))\n",
    "              cout << \";\\n\";\n",
    "          }\n",
    "          cout << \" ]\" << endl;\n",
    "        }\n",
    "        \n",
    "        \n",
    "        double Matrix::MaxModInRow(int row){\n",
    "          double maxv = -1.0e+10;\n",
    "          for(int i=0;i<columns;i++)\n",
    "            maxv = (fabs(data[row][i])>maxv)?fabs(data[row][i]):maxv;\n",
    "        \n",
    "          return maxv;\n",
    "        }\n",
    "        \n",
    "        double Matrix::MaxModInRow(int row, int starting_column){\n",
    "          double maxv = -1.0e+10;\n",
    "          for(int i=starting_column;i<columns;i++)\n",
    "            maxv = (fabs(data[row][i])>maxv)?fabs(data[row][i]):maxv;\n",
    "        \n",
    "          return maxv;\n",
    "        }\n",
    "        \n",
    "        int Matrix::MaxModInRowindex(int row){\n",
    "          int maxvindex = 0;\n",
    "          double maxv = -1.0e+10;\n",
    "          \n",
    "          for(int i=0;i<columns;i++){\n",
    "            if(maxv < fabs(data[row][i])){\n",
    "              maxv = fabs(data[row][i]);\n",
    "              maxvindex = i;\n",
    "            }\n",
    "          }\n",
    "        \n",
    "          return maxvindex;\n",
    "        }\n",
    "        \n",
    "        int Matrix::MaxModInRowindex(int row, int starting_column){\n",
    "          int maxvindex = 0;\n",
    "          double maxv = -1.0e+10;\n",
    "        \n",
    "          for(int i=starting_column;i<columns;i++){\n",
    "            if(maxv < fabs(data[row][i])){\n",
    "              maxv = fabs(data[row][i]);\n",
    "              maxvindex = i;\n",
    "            }\n",
    "          }\n",
    "          \n",
    "          return maxvindex;\n",
    "        }\n",
    "        \n",
    "        double Matrix::MaxModInColumn(int column){\n",
    "          double maxv = -1.0e+10;\n",
    "          for(int i=0;i<rows;i++)\n",
    "            maxv = (fabs(data[i][column])>maxv)?fabs(data[i][column]):maxv;\n",
    "        \n",
    "          return maxv;\n",
    "        }\n",
    "        \n",
    "        double Matrix::MaxModInColumn(int column, int starting_row){\n",
    "          double maxv = -1.0e+10;\n",
    "          for(int i=starting_row;i<rows;i++)\n",
    "            maxv = (fabs(data[i][column])>maxv)?fabs(data[i][column]):maxv;\n",
    "        \n",
    "          return maxv;\n",
    "        }\n",
    "        \n",
    "        int Matrix::MaxModInColumnindex(int column){\n",
    "          int maxvindex = 0;\n",
    "          double maxv = -1.0e+10;\n",
    "          \n",
    "          for(int i=0;i<rows;i++){\n",
    "            if(maxv < fabs(data[i][column])){\n",
    "              maxv = fabs(data[i][column]);\n",
    "              maxvindex = i;\n",
    "            }\n",
    "          }\n",
    "        \n",
    "          return maxvindex;\n",
    "        }\n",
    "        \n",
    "        int Matrix::MaxModInColumnindex(int column, int starting_column){\n",
    "          int maxvindex = 0;\n",
    "          double maxv = -1.0e+10;\n",
    "        \n",
    "          for(int i=starting_column;i<rows;i++){\n",
    "            if(maxv < fabs(data[i][column])){\n",
    "              maxv = fabs(data[i][column]);\n",
    "              maxvindex = i;\n",
    "            }\n",
    "          }\n",
    "          \n",
    "          return maxvindex;\n",
    "        }\n",
    "        \n",
    "        void Matrix::RowSwap(int row1, int row2){\n",
    "          double * tmp = data[row1];\n",
    "          data[row1] = data[row2];\n",
    "          data[row2] = tmp;\n",
    "        }\n",
    "        \n",
    "        \n",
    "        \n",
    "        /****************************************************************/\n",
    "        /*                 Operator Definitions                         */\n",
    "        /****************************************************************/\n",
    "        \n",
    "        \n",
    "        Vector operator-(const Vector& v){\n",
    "          Vector x(v.Dimension());\n",
    "          for(int i=0;i<v.Dimension();i++)\n",
    "            x(i) = -v(i);\n",
    "          return x;\n",
    "        }\n",
    "        \n",
    "        \n",
    "        Vector operator+(const Vector& v1, const Vector& v2){\n",
    "          int min_dim = min_dimension(v1,v2);\n",
    "          Vector x(min_dim);\n",
    "          for(int i=0;i<min_dim;i++)\n",
    "            x(i) = v1(i) + v2(i);\n",
    "          return x;\n",
    "        }\n",
    "        \n",
    "        \n",
    "        Vector operator-(const Vector& v1, const Vector& v2){\n",
    "          int min_dim = min_dimension(v1,v2);\n",
    "          Vector x(min_dim);\n",
    "          for(int i=0;i<min_dim;i++)\n",
    "            x(i) = v1(i) - v2(i);\n",
    "          return x;\n",
    "        }\n",
    "        \n",
    "        \n",
    "        Vector operator/(const Vector& v, const double s) {\n",
    "          Vector x(v.Dimension());\n",
    "          for(int i=0;i<v.Dimension();i++)\n",
    "            x(i) = v(i)/s;\n",
    "          return x;\n",
    "        }\n",
    "        \n",
    "        \n",
    "        \n",
    "        Vector operator*(const double s, const Vector &v) {\n",
    "          Vector x(v.Dimension());\n",
    "          for(int i=0;i<v.Dimension();i++)\n",
    "            x(i) = s*v(i);\n",
    "          return x;\n",
    "        }\n",
    "        \n",
    "        \n",
    "        Vector operator*(const Vector& v, const double s) {\n",
    "          Vector x(v.Dimension());\n",
    "          for(int i=0;i<v.Dimension();i++)\n",
    "            x(i) = s*v(i);\n",
    "          return x;\n",
    "        }\n",
    "        \n",
    "        Vector operator*(const Matrix& A, const Vector& x){\n",
    "          int rows = A.Rows(), columns = A.Columns();\n",
    "          int dim = x.Dimension();\n",
    "          Vector b(dim);\n",
    "          \n",
    "          if(columns != dim){\n",
    "            cerr << \"Invalid dimensions given in matrix-vector multiply\" << endl;\n",
    "            return(b);\n",
    "          }\n",
    "          \n",
    "          for(int i=0;i<rows;i++){\n",
    "            b(i) = 0.0;\n",
    "            for(int j=0;j<columns;j++){\n",
    "              b(i) += A(i,j)*x(j);\n",
    "            }\n",
    "          }\n",
    "          \n",
    "          return b;\n",
    "        }\n",
    "        \n",
    "        \n",
    "        /****************************************************************/\n",
    "        /*                 Function Definitions                         */\n",
    "        /****************************************************************/\n",
    "        \n",
    "        int min_dimension(const Vector& v1, const Vector& v2){\n",
    "          int min_dim = (v1.Dimension()<v2.Dimension())?v1.Dimension():v2.Dimension();\n",
    "          return(min_dim);\n",
    "        }\n",
    "        \n",
    "        \n",
    "        double dot(const Vector& u, const Vector& v){\n",
    "          double sum = 0.0;\n",
    "          int min_dim = min_dimension(u,v);\n",
    "        \n",
    "          for(int i=0;i<min_dim;i++)\n",
    "            sum += u(i)*v(i);\n",
    "          \n",
    "          return sum; \n",
    "        }\n",
    "        \n",
    "        \n",
    "        double dot(int N, const Vector& u, const Vector& v){\n",
    "          double sum = 0.0;\n",
    "        \n",
    "          for(int i=0;i<N;i++)\n",
    "            sum += u(i)*v(i);\n",
    "          \n",
    "          return sum;\n",
    "        }\n",
    "        \n",
    "        \n",
    "        double dot(int N, double *a, double *b){\n",
    "          double sum = 0.0;\n",
    "          \n",
    "          for(int i=0;i<N;i++)\n",
    "            sum += a[i]*b[i];\n",
    "        \n",
    "          return sum;\n",
    "        }\n",
    "        \n",
    "        \n",
    "        /*******************************/\n",
    "        /*   Log base 2 of a number    */\n",
    "        /*******************************/\n",
    "        \n",
    "        double log2(double x){\n",
    "          return(log(x)/log(2.0));\n",
    "        }\n",
    "        \n",
    "        void Swap(double &a, double &b){\n",
    "          double tmp = a;\n",
    "          a = b;\n",
    "          b = tmp;\n",
    "        }\n",
    "        \n",
    "        double Sign(double x){\n",
    "          double xs;\n",
    "        \n",
    "          xs = (x>=0.0)?1.0:-1.0;\n",
    "        \n",
    "          return xs;\n",
    "        }\n",
    "        \n",
    "        //GammaF function valid for x integer, or x (integer+0.5)\n",
    "        double GammaF(double x){\n",
    "          double gamma = 1.0;\n",
    "          \n",
    "          if (x == -0.5) \n",
    "            gamma = -2.0*sqrt(M_PI);\n",
    "          else if (!x) return gamma;\n",
    "          else if ((x-(int)x) == 0.5){ \n",
    "            int n = (int) x;\n",
    "            double tmp = x;\n",
    "            \n",
    "            gamma = sqrt(M_PI);\n",
    "            while(n--){\n",
    "              tmp   -= 1.0;\n",
    "              gamma *= tmp;\n",
    "            }\n",
    "          }\n",
    "          else if ((x-(int)x) == 0.0){\n",
    "            int n = (int) x;\n",
    "            double tmp = x;\n",
    "            \n",
    "            while(--n){\n",
    "              tmp   -= 1.0;\n",
    "              gamma *= tmp;\n",
    "            }\n",
    "          }  \n",
    "          \n",
    "          return gamma;\n",
    "        }\n",
    "        \n",
    "        \n",
    "        int Factorial(int n){\n",
    "          int value=1;\n",
    "          for(int i=n;i>0;i--)\n",
    "            value = value*i;\n",
    "        \n",
    "          return value;\n",
    "        }\n",
    "        \n",
    "        double ** CreateMatrix(int m, int n){\n",
    "          double ** mat;\n",
    "          mat = new double*[m];\n",
    "          for(int i=0;i<m;i++){\n",
    "            mat[i] = new double[n];\n",
    "            for(int j=0;j<m;j++)\n",
    "              mat[i][j] = 0.0;\n",
    "          }\n",
    "          return mat;\n",
    "        }\n",
    "        \n",
    "        int ** ICreateMatrix(int m, int n){\n",
    "          int ** mat;\n",
    "          mat = new int*[m];\n",
    "          for(int i=0;i<m;i++){\n",
    "            mat[i] = new int[n];\n",
    "            for(int j=0;j<m;j++)\n",
    "              mat[i][j] = 0;\n",
    "          }\n",
    "          return mat;\n",
    "        }\n",
    "        \n",
    "        void DestroyMatrix(double ** mat, int m, int n){\n",
    "          for(int i=0;i<m;i++)\n",
    "            delete[] mat[i];\n",
    "          delete[] mat;\n",
    "        }\n",
    "        \n",
    "        void IDestroyMatrix(int ** mat, int m, int n){\n",
    "          for(int i=0;i<m;i++)\n",
    "            delete[] mat[i];\n",
    "          delete[] mat;\n",
    "        }\n",
    "        \n",
    "        \n",
    "        \n",
    "        \n",
    "        \n",
    "        \n",
    "        \n",
    "        \n"
   ]
  }
 ],
 "metadata": {},
 "nbformat": 4,
 "nbformat_minor": 4
}
