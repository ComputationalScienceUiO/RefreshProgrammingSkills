{
 "cells": [
  {
   "cell_type": "markdown",
   "metadata": {},
   "source": [
    "## Git and Github/GitLab and more\n",
    "\n",
    "Git is a free and open source distributed version control system designed to handle everything from small to very large projects with\n",
    "speed and efficiency. **Git** is a version control software (VCS).\n",
    "\n",
    "Without a VCS in place, you're probably working together in a shared\n",
    "folder on the same set of files. Shouting out to your team mates\n",
    "that you are currently working on file \"xyz\" and that, meanwhile, your\n",
    "teammates should keep their fingers off is not an acceptable\n",
    "workflow. It's extremely error-prone as you're essentially doing\n",
    "open-heart surgery all the time: sooner or later, someone will\n",
    "overwrite someone else's changes.\n",
    "\n",
    "With a VCS, everybody on the team is able to work absolutely freely -\n",
    "on any file at any time. The VCS will later allow you to merge all the\n",
    "changes into a common version. There's no question where the latest\n",
    "version of a file or the whole project is. It's in a common, central\n",
    "place: your version control system.\n",
    "\n",
    "Other benefits of using a VCS are even independent of working in a team or on your own.\n",
    "\n",
    "\"Git\":https://git-scm.com/\" is one of the more popular version control softwares, and combined with repositories like [GitHub](https://github.com/), [GitLab](https://about.gitlab.com/?utm_medium=cpc&utm_source=google&utm_campaign=brand_emea_pr_rsa_br_exact&utm_content=homepage_digital_x-pr_english_&_bt=363211725518&_bk=gitlab&_bm=e&_bn=g&_bg=75294586319&gclid=EAIaIQobChMI1uiRi6288gIVFJ_VCh1dSgu8EAAYASAAEgKKxfD_BwE)  and other, we have an efficient way of organizing our documents and always be able to keep updated versions across platforms and devices.\n",
    "\n",
    "The videos here give you a brief introduction to both **Git** and repositories like **GitHub**:\n",
    "\n",
    "* Introduction to Git and GitHub/GitLab. Watch the video at <https://mediaspace.msu.edu/media/t/1_8mgx3cyf>\n",
    "\n",
    "* [Introductory videos on YouTube](https://www.youtube.com/watch?v=SWYqp7iY_Tc&ab_channel=TraversyMedia)"
   ]
  }
 ],
 "metadata": {
  "kernelspec": {
   "display_name": "Python 3 (ipykernel)",
   "language": "python",
   "name": "python3"
  },
  "language_info": {
   "codemirror_mode": {
    "name": "ipython",
    "version": 3
   },
   "file_extension": ".py",
   "mimetype": "text/x-python",
   "name": "python",
   "nbconvert_exporter": "python",
   "pygments_lexer": "ipython3",
   "version": "3.9.10"
  }
 },
 "nbformat": 4,
 "nbformat_minor": 4
}
