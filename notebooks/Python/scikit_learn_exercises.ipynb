{
 "cells": [
  {
   "cell_type": "markdown",
   "id": "romantic-moscow",
   "metadata": {},
   "source": [
    "# Exercises - scikit learn"
   ]
  },
  {
   "cell_type": "markdown",
   "id": "supposed-silence",
   "metadata": {},
   "source": [
    "In this exercise you are going to perform regression on a dataset you create yourself"
   ]
  },
  {
   "cell_type": "markdown",
   "id": "ordinary-flavor",
   "metadata": {},
   "source": [
    "### Task 1) Load/Create the dataset"
   ]
  },
  {
   "cell_type": "markdown",
   "id": "parental-taylor",
   "metadata": {},
   "source": [
    "The first thing to do when dealing with machine learning is to have the dataset ready. Make a dataset containing 100 datapoints generated using an uniform distribution. The target variable y is given by the following formula:\n",
    "\\begin{equation*}\n",
    "    y = 2.0+5x+0.1*N(0,1)\n",
    "\\end{equation*}"
   ]
  },
  {
   "cell_type": "markdown",
   "id": "4a261aae",
   "metadata": {},
   "source": [
    "### Task 2) Create a linear regression object and predict"
   ]
  },
  {
   "cell_type": "markdown",
   "id": "d3cf058d",
   "metadata": {},
   "source": [
    "Create a linear regression object using scikit, and use it to perform a prediction on the dataset created in the task above."
   ]
  },
  {
   "cell_type": "markdown",
   "id": "7c761a0d",
   "metadata": {},
   "source": [
    "### Task 3) Find the following statistical values"
   ]
  },
  {
   "cell_type": "markdown",
   "id": "411f296a",
   "metadata": {},
   "source": [
    "Find the following statistical values for your prediction: intercept alpha, coefficient beta, mean squared error, the variance score, mean squared log error and the mean absolute error."
   ]
  },
  {
   "cell_type": "markdown",
   "id": "cfe4afb8",
   "metadata": {},
   "source": [
    "### Task 4) Plot the results"
   ]
  },
  {
   "cell_type": "markdown",
   "id": "6a53dce7",
   "metadata": {},
   "source": [
    "Plot the predicted values in the same plot as the targeted values as a function of x."
   ]
  },
  {
   "cell_type": "markdown",
   "id": "feeea53d",
   "metadata": {},
   "source": [
    "### Task 5) Switching up the target function"
   ]
  },
  {
   "cell_type": "markdown",
   "id": "ec285e3a",
   "metadata": {},
   "source": [
    "Do the same thing again, but switch up the target function with the following:  \n",
    "\\begin{equation*}\n",
    "    y = x+2.0x^3+0.1*N(0,1)\n",
    "\\end{equation*}\n",
    "\n",
    "Now how does the prediction go?"
   ]
  },
  {
   "cell_type": "markdown",
   "id": "69fce3a9",
   "metadata": {},
   "source": [
    "### Task 6) Polynomial regression"
   ]
  },
  {
   "cell_type": "markdown",
   "id": "5cf3a808",
   "metadata": {},
   "source": [
    "Now try predicting again using polynomial regression. How does the degree of polynomial you choose affect the predictions? What is the optimal degree of polynomial? Why, why not?"
   ]
  },
  {
   "cell_type": "markdown",
   "id": "b2e5627a",
   "metadata": {},
   "source": [
    "### Task 7) Extra task, if you have time"
   ]
  },
  {
   "cell_type": "markdown",
   "id": "608d328f",
   "metadata": {},
   "source": [
    "Experiment with more types of machine learning models which can be found in the scikit learn library. For instance, ridge regression, lasso regression and logistic regression."
   ]
  },
  {
   "cell_type": "code",
   "execution_count": null,
   "id": "7b7ac97b",
   "metadata": {},
   "outputs": [],
   "source": []
  }
 ],
 "metadata": {
  "kernelspec": {
   "display_name": "Python 3",
   "language": "python",
   "name": "python3"
  },
  "language_info": {
   "codemirror_mode": {
    "name": "ipython",
    "version": 3
   },
   "file_extension": ".py",
   "mimetype": "text/x-python",
   "name": "python",
   "nbconvert_exporter": "python",
   "pygments_lexer": "ipython3",
   "version": "3.8.3"
  }
 },
 "nbformat": 4,
 "nbformat_minor": 5
}
