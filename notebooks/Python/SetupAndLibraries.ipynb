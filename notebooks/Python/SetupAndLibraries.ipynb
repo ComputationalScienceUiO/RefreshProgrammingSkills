{
 "cells": [
  {
   "cell_type": "markdown",
   "id": "f5358032-cba4-4aa9-bbeb-2f3ecfe88ff7",
   "metadata": {},
   "source": [
    "# Setup And Libraries"
   ]
  },
  {
   "cell_type": "markdown",
   "id": "3724958f-9988-4a5c-b256-4a3351770d02",
   "metadata": {},
   "source": [
    "Course participants are expected to have their own laptops/PCs. We use _Git_ as version control software and the usage of providers like _GitHub_, _GitLab_ or similar are strongly recommended.\n",
    "\n",
    "We will make extensive use of Python as programming language and its\n",
    "myriad of available libraries.\n",
    "\n",
    "If you have Python installed and you feel\n",
    "pretty familiar with installing different packages, we recommend that\n",
    "you install the following Python packages via _pip_ as \n",
    "\n",
    "* pip install numpy scipy matplotlib ipython scikit-learn mglearn sympy pandas pillow \n",
    "\n",
    "For OSX users we recommend, after having installed Xcode, to\n",
    "install _brew_. Brew allows for a seamless installation of additional\n",
    "software via for example \n",
    "\n",
    "* brew install python3\n",
    "\n",
    "For Linux users, with its variety of distributions like for example the widely popular Ubuntu distribution,\n",
    "you can use _pip_ as well and simply install Python as \n",
    "\n",
    "* sudo apt-get install python3\n",
    "\n",
    "You will find Jupyter notebooks invaluable in your work.  You can run _Python_\n",
    "code in the Jupyter notebooks, with the immediate benefit of\n",
    "visualizing your data. You can also use compiled languages like C++,\n",
    "Rust, Julia, Fortran etc if you prefer. The focus in these lectures will be mainly \n",
    "on Python.\n",
    "\n",
    "To install and start running jupyter lab (the newest and best notebook interface), follow the instructions [here](https://jupyter.org/install).\n",
    "\n",
    "## Python installers\n",
    "\n",
    "If you don't want to perform these operations separately and venture\n",
    "into the hassle of exploring how to set up dependencies and paths, we\n",
    "recommend two widely used distrubutions which set up all relevant\n",
    "dependencies for Python, namely \n",
    "\n",
    "* Anaconda:https://docs.anaconda.com/, \n",
    "\n",
    "which is an open source\n",
    "distribution of the Python and R programming languages for large-scale\n",
    "data processing, predictive analytics, and scientific computing, that\n",
    "aims to simplify package management and deployment. Package versions\n",
    "are managed by the package management system _conda_. \n",
    "\n",
    "* Enthought canopy:https://www.enthought.com/product/canopy/ \n",
    "\n",
    "is a Python\n",
    "distribution for scientific and analytic computing distribution and\n",
    "analysis environment, available for free and under a commercial\n",
    "license.\n",
    "\n",
    "Furthermore, Google's Colab:https://colab.research.google.com/notebooks/welcome.ipynb is a free Jupyter notebook environment that requires \n",
    "no setup and runs entirely in the cloud. Try it out!\n",
    "\n",
    "## Useful Python libraries\n",
    "Here we list several useful Python libraries we strongly recommend (if you use anaconda many of these are already there)\n",
    "\n",
    "* _NumPy_:https://www.numpy.org/ is a highly popular library for large, multi-dimensional arrays and matrices, along with a large collection of high-level mathematical functions to operate on these arrays\n",
    "* _The pandas_:https://pandas.pydata.org/ library provides high-performance, easy-to-use data structures and data analysis tools \n",
    "* _Xarray_:http://xarray.pydata.org/en/stable/ is a Python package that makes working with labelled multi-dimensional arrays simple, efficient, and fun!\n",
    "* _Scipy_:https://www.scipy.org/ (pronounced “Sigh Pie”) is a Python-based ecosystem of open-source software for mathematics, science, and engineering. \n",
    "* _Matplotlib_:https://matplotlib.org/ is a Python 2D plotting library which produces publication quality figures in a variety of hardcopy formats and interactive environments across platforms.\n",
    "* _Autograd_:https://github.com/HIPS/autograd can automatically differentiate native Python and Numpy code. It can handle a large subset of Python's features, including loops, ifs, recursion and closures, and it can even take derivatives of derivatives of derivatives\n",
    "* _SymPy_:https://www.sympy.org/en/index.html is a Python library for symbolic mathematics. \n",
    "* _scikit-learn_:https://scikit-learn.org/stable/ has simple and efficient tools for machine learning, data mining and data analysis\n",
    "* _TensorFlow_:https://www.tensorflow.org/ is a Python library for fast numerical computing created and released by Google\n",
    "* _Keras_:https://keras.io/ is a high-level neural networks API, written in Python and capable of running on top of TensorFlow, CNTK, or Theano\n",
    "* And many more such as _pytorch_:https://pytorch.org/,  _Theano_:https://pypi.org/project/Theano/ etc \n"
   ]
  },
  {
   "cell_type": "code",
   "execution_count": null,
   "id": "880681a3-6185-4aee-9611-ca8e59aa6495",
   "metadata": {},
   "outputs": [],
   "source": []
  }
 ],
 "metadata": {
  "kernelspec": {
   "display_name": "Python 3 (ipykernel)",
   "language": "python",
   "name": "python3"
  },
  "language_info": {
   "codemirror_mode": {
    "name": "ipython",
    "version": 3
   },
   "file_extension": ".py",
   "mimetype": "text/x-python",
   "name": "python",
   "nbconvert_exporter": "python",
   "pygments_lexer": "ipython3",
   "version": "3.9.10"
  }
 },
 "nbformat": 4,
 "nbformat_minor": 5
}
